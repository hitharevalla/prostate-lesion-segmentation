{
 "cells": [
  {
   "cell_type": "code",
   "execution_count": null,
   "metadata": {},
   "outputs": [],
   "source": [
    "import matplotlib.pyplot as plt\n",
    "from utils import *\n",
    "%matplotlib inline\n",
    "\n",
    "def visualize_overlap(image):\n",
    "    \n",
    "    path_temp = './temp'\n",
    "    initialize_dir(path_temp)\n",
    "    \n",
    "    cm = plt.get_cmap('viridis')\n",
    "    cm.set_bad('black', 1)\n",
    "    \n",
    "    adc_Slice = image.pixel_array[:,:,1]\n",
    "    dwi_Slice = image.pixel_array[:,:,2]\n",
    "    \n",
    "    adc_masked = np.ma.array (adc_Slice, mask = adc_Slice == 0)\n",
    "    dwi_masked = np.ma.array (dwi_Slice, mask = dwi_Slice == 0)\n",
    "    \n",
    "    adc_norm = plt.Normalize()\n",
    "    dwi_norm = plt.Normalize()\n",
    "    \n",
    "    adc_color = cm(adc_norm(adc_masked))\n",
    "    dwi_color = cm(dwi_norm(dwi_masked))\n",
    "    \n",
    "    t2_Slice = image.pixel_array[:,:,0]\n",
    "    \n",
    "    fig, axarr = plt.subplots(1, 2, frameon = False)\n",
    "    axarr[0].imshow(t2_Slice, cmap = plt.cm.gray, alpha = 0.4, interpolation = 'nearest')\n",
    "    axarr[0].imshow(adc_color, cmap = plt.cm.twilight, alpha = 0.4, interpolation = 'bilinear')\n",
    "    axarr[1].imshow(t2_Slice, cmap = plt.cm.gray, alpha = 0.4, interpolation = 'nearest')\n",
    "    axarr[1].imshow(dwi_color, cmap = plt.cm.twilight, alpha = 0.4, interpolation = 'bilinear')\n",
    "    fig.suptitle('Patient ID: ' + str(image.patient_id))\n",
    "    plt.show()\n",
    "\n",
    "def visualize_images(images):\n",
    "    patient_dict = split_by_patient(images)\n",
    "    for images in list(patient_dict.values()):\n",
    "        Slice_image = list_filter(lambda img: img.typeof == 'Slice', images)[0]\n",
    "        visualize_overlap(Slice_image)"
   ]
  },
  {
   "cell_type": "code",
   "execution_count": null,
   "metadata": {},
   "outputs": [],
   "source": [
    "path_fused_images = '../data/stanford_max_lesion_area_fused_cropped'\n",
    "images_fused = load_images(path_fused_images)\n",
    "visualize_images(images_fused)"
   ]
  },
  {
   "cell_type": "code",
   "execution_count": null,
   "metadata": {},
   "outputs": [],
   "source": [
    "path_fused_images = '../data/stanford_max_lesion_area_registered_fused_cropped'\n",
    "images_fused = load_images(path_fused_images)\n",
    "visualize_images(images_fused)"
   ]
  }
 ],
 "metadata": {
  "kernelspec": {
   "display_name": "Python 3",
   "language": "python",
   "name": "python3"
  },
  "language_info": {
   "codemirror_mode": {
    "name": "ipython",
    "version": 3
   },
   "file_extension": ".py",
   "mimetype": "text/x-python",
   "name": "python",
   "nbconvert_exporter": "python",
   "pygments_lexer": "ipython3",
   "version": "3.7.0"
  }
 },
 "nbformat": 4,
 "nbformat_minor": 2
}
