{
 "cells": [
  {
   "cell_type": "code",
   "execution_count": null,
   "metadata": {},
   "outputs": [],
   "source": [
    "import matplotlib.pyplot as plt\n",
    "from utils import *\n",
    "%matplotlib inline\n",
    "\n",
    "def visualize_patient(images):\n",
    "\n",
    "    fig, axarr = plt.subplots(int(len(images) / 4), 4)\n",
    "    for i, ax in enumerate(fig.axes):\n",
    "        ax.imshow(images[i].pixel_array, cmap='gray')\n",
    "        ax.get_xaxis().set_ticks([])\n",
    "        ax.get_yaxis().set_ticks([])\n",
    "    fig.suptitle('Patient ID: ' + str(images[0].patient_id))\n",
    "    plt.show()   \n",
    "\n",
    "def visualize_images(images):\n",
    "    images_Slice = list_filter(\n",
    "        lambda img: img.typeof == 'Slice',\n",
    "        images\n",
    "    )\n",
    "    patient_dict = split_by_patient(images_Slice)\n",
    "    for images in patient_dict.values():\n",
    "        visualize_patient(images)"
   ]
  },
  {
   "cell_type": "code",
   "execution_count": null,
   "metadata": {},
   "outputs": [],
   "source": [
    "path_images = '../data/stanford_t2_cropped/train'\n",
    "images_aug = load_images(path_images)\n",
    "visualize_images(images_aug)"
   ]
  }
 ],
 "metadata": {
  "kernelspec": {
   "display_name": "Python 3",
   "language": "python",
   "name": "python3"
  },
  "language_info": {
   "codemirror_mode": {
    "name": "ipython",
    "version": 3
   },
   "file_extension": ".py",
   "mimetype": "text/x-python",
   "name": "python",
   "nbconvert_exporter": "python",
   "pygments_lexer": "ipython3",
   "version": "3.7.0"
  }
 },
 "nbformat": 4,
 "nbformat_minor": 2
}
