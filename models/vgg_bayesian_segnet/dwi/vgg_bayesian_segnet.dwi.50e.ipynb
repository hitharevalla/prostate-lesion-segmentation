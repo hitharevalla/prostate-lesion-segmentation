{
 "cells": [
  {
   "cell_type": "code",
   "execution_count": 1,
   "metadata": {},
   "outputs": [
    {
     "name": "stderr",
     "output_type": "stream",
     "text": [
      "Using TensorFlow backend.\n"
     ]
    }
   ],
   "source": [
    "import glob\n",
    "import math\n",
    "import sys\n",
    "import timeit\n",
    "\n",
    "sys.path.insert(0, '../../')\n",
    "from visualize_dataset import *\n",
    "from losses import *\n",
    "from metrics import *\n",
    "from predict import *\n",
    "from train import *\n",
    "from utils import *"
   ]
  },
  {
   "cell_type": "code",
   "execution_count": 2,
   "metadata": {},
   "outputs": [],
   "source": [
    "path_train_images = '../../../data/stanford_dwi_cropped/train/Slice/'\n",
    "path_train_annotations = '../../../data/stanford_dwi_cropped/train/ROI/'\n",
    "path_train_predictions = './predictions.50e/train/'\n",
    "\n",
    "path_val_images = '../../../data/stanford_dwi_cropped/val/Slice/'\n",
    "path_val_annotations = '../../../data/stanford_dwi_cropped/val/ROI/'\n",
    "path_val_predictions = './predictions.50e/val/'\n",
    "\n",
    "path_test_images = '../../../data/stanford_dwi_cropped/test/Slice/'\n",
    "path_test_annotations = '../../../data/stanford_dwi_cropped/test/ROI/'\n",
    "path_test_predictions = './predictions.50e/test/'\n",
    "\n",
    "path_save_weights = './weights.50e/'\n",
    "path_load_weights = None\n",
    "\n",
    "train_vgg = False\n",
    "path_vgg_weights = '../../../data/vgg16_weights_th_dim_ordering_th_kernels.h5'\n",
    "\n",
    "n_classes = 2\n",
    "input_height = 224\n",
    "input_width = 224\n",
    "n_channel_annotations = 1"
   ]
  },
  {
   "cell_type": "code",
   "execution_count": 3,
   "metadata": {},
   "outputs": [
    {
     "name": "stdout",
     "output_type": "stream",
     "text": [
      "Number train images:  192\n",
      "Number val images:  11\n",
      "Number test images:  12\n"
     ]
    }
   ],
   "source": [
    "print('Number train images: ', len(glob.glob(path_train_images + '*.png')))\n",
    "print('Number val images: ', len(glob.glob(path_val_images + '*.png')))\n",
    "print('Number test images: ', len(glob.glob(path_test_images + '*.png')))"
   ]
  },
  {
   "cell_type": "code",
   "execution_count": 4,
   "metadata": {},
   "outputs": [],
   "source": [
    "model_name = 'vgg_bayesian_segnet'\n",
    "epochs = 50\n",
    "train_batch_size = 8\n",
    "val_batch_size = len(glob.glob(path_val_images + '*.png'))"
   ]
  },
  {
   "cell_type": "code",
   "execution_count": 5,
   "metadata": {},
   "outputs": [
    {
     "name": "stdout",
     "output_type": "stream",
     "text": [
      "[0.98215531 0.01784469]\n",
      "[ 1.         55.03908977]\n",
      "[0.01800582 4.02604948]\n"
     ]
    }
   ],
   "source": [
    "optimizer = 'adadelta'\n",
    "metrics = ['accuracy', dice, iou]\n",
    "\n",
    "class_props = calc_class_proportions(path_train_annotations, n_classes, n_channel_annotations)\n",
    "class_weights = calc_class_weights(path_train_annotations, n_classes, n_channel_annotations)\n",
    "class_weights_log = calc_class_weights(path_train_annotations, n_classes, n_channel_annotations, scale = 'log')\n",
    "\n",
    "print(class_props)\n",
    "print(class_weights)\n",
    "print(class_weights_log)\n",
    "\n",
    "loss = weighted_categorical_crossentropy_loss(class_weights_log)"
   ]
  },
  {
   "cell_type": "code",
   "execution_count": 6,
   "metadata": {},
   "outputs": [
    {
     "name": "stdout",
     "output_type": "stream",
     "text": [
      "Model output shape (None, 50176, 2)\n",
      "Epoch 0\n",
      "Epoch 1/1\n",
      "24/24 [==============================] - 848s 35s/step - loss: 0.0275 - acc: 0.6603 - dice: 0.0906 - iou: 0.0477 - val_loss: 0.0180 - val_acc: 0.8706 - val_dice: 0.0900 - val_iou: 0.0471\n",
      "Epoch 1\n",
      "Epoch 1/1\n",
      "24/24 [==============================] - 838s 35s/step - loss: 0.0167 - acc: 0.7318 - dice: 0.1176 - iou: 0.0627 - val_loss: 0.0278 - val_acc: 0.8914 - val_dice: 0.0829 - val_iou: 0.0432\n",
      "Epoch 2\n",
      "Epoch 1/1\n",
      "24/24 [==============================] - 848s 35s/step - loss: 0.0147 - acc: 0.7867 - dice: 0.1434 - iou: 0.0776 - val_loss: 0.0320 - val_acc: 0.9131 - val_dice: 0.0891 - val_iou: 0.0466\n",
      "Epoch 3\n",
      "Epoch 1/1\n",
      "24/24 [==============================] - 847s 35s/step - loss: 0.0135 - acc: 0.8376 - dice: 0.1809 - iou: 0.1001 - val_loss: 0.0373 - val_acc: 0.9559 - val_dice: 0.1014 - val_iou: 0.0534\n",
      "Epoch 4\n",
      "Epoch 1/1\n",
      "24/24 [==============================] - 843s 35s/step - loss: 0.0125 - acc: 0.8685 - dice: 0.2159 - iou: 0.1223 - val_loss: 0.0364 - val_acc: 0.9375 - val_dice: 0.0815 - val_iou: 0.0425\n",
      "Epoch 5\n",
      "Epoch 1/1\n",
      "24/24 [==============================] - 844s 35s/step - loss: 0.0125 - acc: 0.8857 - dice: 0.2380 - iou: 0.1363 - val_loss: 0.0345 - val_acc: 0.9316 - val_dice: 0.0860 - val_iou: 0.0449\n",
      "Epoch 6\n",
      "Epoch 1/1\n",
      "24/24 [==============================] - 835s 35s/step - loss: 0.0124 - acc: 0.8939 - dice: 0.2535 - iou: 0.1470 - val_loss: 0.0301 - val_acc: 0.8467 - val_dice: 0.0789 - val_iou: 0.0411\n",
      "Epoch 7\n",
      "Epoch 1/1\n",
      "24/24 [==============================] - 846s 35s/step - loss: 0.0117 - acc: 0.8915 - dice: 0.2500 - iou: 0.1447 - val_loss: 0.0284 - val_acc: 0.9079 - val_dice: 0.0918 - val_iou: 0.0481\n",
      "Epoch 8\n",
      "Epoch 1/1\n",
      "24/24 [==============================] - 846s 35s/step - loss: 0.0107 - acc: 0.9085 - dice: 0.2808 - iou: 0.1651 - val_loss: 0.0379 - val_acc: 0.9461 - val_dice: 0.0713 - val_iou: 0.0370\n",
      "Epoch 9\n",
      "Epoch 1/1\n",
      "24/24 [==============================] - 841s 35s/step - loss: 0.0101 - acc: 0.9235 - dice: 0.3192 - iou: 0.1927 - val_loss: 0.0400 - val_acc: 0.9591 - val_dice: 0.0699 - val_iou: 0.0362\n",
      "Epoch 10\n",
      "Epoch 1/1\n",
      "24/24 [==============================] - 839s 35s/step - loss: 0.0096 - acc: 0.9349 - dice: 0.3540 - iou: 0.2182 - val_loss: 0.0402 - val_acc: 0.9648 - val_dice: 0.0772 - val_iou: 0.0401\n",
      "Epoch 11\n",
      "Epoch 1/1\n",
      "24/24 [==============================] - 850s 35s/step - loss: 0.0091 - acc: 0.9404 - dice: 0.3733 - iou: 0.2326 - val_loss: 0.0414 - val_acc: 0.9720 - val_dice: 0.0775 - val_iou: 0.0403\n",
      "Epoch 12\n",
      "Epoch 1/1\n",
      "24/24 [==============================] - 843s 35s/step - loss: 0.0088 - acc: 0.9456 - dice: 0.3942 - iou: 0.2491 - val_loss: 0.0418 - val_acc: 0.9704 - val_dice: 0.0760 - val_iou: 0.0395\n",
      "Epoch 13\n",
      "Epoch 1/1\n",
      "24/24 [==============================] - 840s 35s/step - loss: 0.0085 - acc: 0.9495 - dice: 0.4107 - iou: 0.2616 - val_loss: 0.0411 - val_acc: 0.9672 - val_dice: 0.0808 - val_iou: 0.0421\n",
      "Epoch 14\n",
      "Epoch 1/1\n",
      "24/24 [==============================] - 835s 35s/step - loss: 0.0082 - acc: 0.9506 - dice: 0.4163 - iou: 0.2661 - val_loss: 0.0414 - val_acc: 0.9513 - val_dice: 0.0710 - val_iou: 0.0368\n",
      "Epoch 15\n",
      "Epoch 1/1\n",
      "24/24 [==============================] - 841s 35s/step - loss: 0.0079 - acc: 0.9527 - dice: 0.4273 - iou: 0.2754 - val_loss: 0.0392 - val_acc: 0.9560 - val_dice: 0.0931 - val_iou: 0.0488\n",
      "Epoch 16\n",
      "Epoch 1/1\n",
      "24/24 [==============================] - 842s 35s/step - loss: 0.0076 - acc: 0.9558 - dice: 0.4422 - iou: 0.2877 - val_loss: 0.0420 - val_acc: 0.9552 - val_dice: 0.0733 - val_iou: 0.0380\n",
      "Epoch 17\n",
      "Epoch 1/1\n",
      "24/24 [==============================] - 844s 35s/step - loss: 0.0073 - acc: 0.9560 - dice: 0.4435 - iou: 0.2886 - val_loss: 0.0430 - val_acc: 0.9779 - val_dice: 0.1094 - val_iou: 0.0579\n",
      "Epoch 18\n",
      "Epoch 1/1\n",
      "24/24 [==============================] - 840s 35s/step - loss: 0.0069 - acc: 0.9606 - dice: 0.4700 - iou: 0.3109 - val_loss: 0.0464 - val_acc: 0.9819 - val_dice: 0.0864 - val_iou: 0.0451\n",
      "Epoch 19\n",
      "Epoch 1/1\n",
      "24/24 [==============================] - 843s 35s/step - loss: 0.0066 - acc: 0.9632 - dice: 0.4862 - iou: 0.3250 - val_loss: 0.0474 - val_acc: 0.9850 - val_dice: 0.0943 - val_iou: 0.0495\n",
      "Epoch 20\n",
      "Epoch 1/1\n",
      "24/24 [==============================] - 840s 35s/step - loss: 0.0065 - acc: 0.9632 - dice: 0.4868 - iou: 0.3261 - val_loss: 0.0451 - val_acc: 0.9652 - val_dice: 0.0814 - val_iou: 0.0424\n",
      "Epoch 21\n",
      "Epoch 1/1\n",
      "24/24 [==============================] - 840s 35s/step - loss: 0.0063 - acc: 0.9632 - dice: 0.4888 - iou: 0.3280 - val_loss: 0.0485 - val_acc: 0.9703 - val_dice: 0.0660 - val_iou: 0.0341\n",
      "Epoch 22\n",
      "Epoch 1/1\n",
      "24/24 [==============================] - 845s 35s/step - loss: 0.0062 - acc: 0.9628 - dice: 0.4851 - iou: 0.3243 - val_loss: 0.0433 - val_acc: 0.9584 - val_dice: 0.0885 - val_iou: 0.0463\n",
      "Epoch 23\n",
      "Epoch 1/1\n",
      "24/24 [==============================] - 840s 35s/step - loss: 0.0059 - acc: 0.9653 - dice: 0.5013 - iou: 0.3389 - val_loss: 0.0482 - val_acc: 0.9741 - val_dice: 0.0943 - val_iou: 0.0495\n",
      "Epoch 24\n",
      "Epoch 1/1\n",
      "24/24 [==============================] - 839s 35s/step - loss: 0.0056 - acc: 0.9661 - dice: 0.5067 - iou: 0.3433 - val_loss: 0.0472 - val_acc: 0.9733 - val_dice: 0.1076 - val_iou: 0.0568\n",
      "Epoch 25\n",
      "Epoch 1/1\n",
      "24/24 [==============================] - 845s 35s/step - loss: 0.0054 - acc: 0.9687 - dice: 0.5260 - iou: 0.3607 - val_loss: 0.0493 - val_acc: 0.9774 - val_dice: 0.1064 - val_iou: 0.0562\n",
      "Epoch 26\n",
      "Epoch 1/1\n",
      "24/24 [==============================] - 841s 35s/step - loss: 0.0052 - acc: 0.9698 - dice: 0.5346 - iou: 0.3694 - val_loss: 0.0495 - val_acc: 0.9796 - val_dice: 0.1224 - val_iou: 0.0652\n",
      "Epoch 27\n",
      "Epoch 1/1\n",
      "24/24 [==============================] - 839s 35s/step - loss: 0.0049 - acc: 0.9704 - dice: 0.5397 - iou: 0.3741 - val_loss: 0.0512 - val_acc: 0.9756 - val_dice: 0.1001 - val_iou: 0.0527\n",
      "Epoch 28\n",
      "Epoch 1/1\n",
      "24/24 [==============================] - 846s 35s/step - loss: 0.0047 - acc: 0.9716 - dice: 0.5494 - iou: 0.3834 - val_loss: 0.0507 - val_acc: 0.9733 - val_dice: 0.1000 - val_iou: 0.0527\n",
      "Epoch 29\n",
      "Epoch 1/1\n",
      "24/24 [==============================] - 846s 35s/step - loss: 0.0046 - acc: 0.9729 - dice: 0.5599 - iou: 0.3930 - val_loss: 0.0529 - val_acc: 0.9764 - val_dice: 0.1020 - val_iou: 0.0537\n",
      "Epoch 30\n",
      "Epoch 1/1\n",
      "24/24 [==============================] - 842s 35s/step - loss: 0.0044 - acc: 0.9733 - dice: 0.5636 - iou: 0.3962 - val_loss: 0.0533 - val_acc: 0.9622 - val_dice: 0.0733 - val_iou: 0.0380\n",
      "Epoch 31\n",
      "Epoch 1/1\n",
      "24/24 [==============================] - 840s 35s/step - loss: 0.0043 - acc: 0.9730 - dice: 0.5618 - iou: 0.3947 - val_loss: 0.0541 - val_acc: 0.9713 - val_dice: 0.0873 - val_iou: 0.0457\n",
      "Epoch 32\n",
      "Epoch 1/1\n",
      "24/24 [==============================] - 842s 35s/step - loss: 0.0044 - acc: 0.9725 - dice: 0.5570 - iou: 0.3889 - val_loss: 0.0517 - val_acc: 0.9562 - val_dice: 0.0775 - val_iou: 0.0403\n",
      "Epoch 33\n",
      "Epoch 1/1\n",
      "24/24 [==============================] - 848s 35s/step - loss: 0.0042 - acc: 0.9727 - dice: 0.5593 - iou: 0.3930 - val_loss: 0.0572 - val_acc: 0.9751 - val_dice: 0.0922 - val_iou: 0.0483\n",
      "Epoch 34\n",
      "Epoch 1/1\n",
      "24/24 [==============================] - 848s 35s/step - loss: 0.0040 - acc: 0.9745 - dice: 0.5751 - iou: 0.4080 - val_loss: 0.0542 - val_acc: 0.9687 - val_dice: 0.0931 - val_iou: 0.0488\n",
      "Epoch 35\n",
      "Epoch 1/1\n",
      "24/24 [==============================] - 844s 35s/step - loss: 0.0040 - acc: 0.9734 - dice: 0.5650 - iou: 0.3982 - val_loss: 0.0553 - val_acc: 0.9720 - val_dice: 0.1006 - val_iou: 0.0530\n",
      "Epoch 36\n",
      "Epoch 1/1\n",
      "24/24 [==============================] - 844s 35s/step - loss: 0.0038 - acc: 0.9749 - dice: 0.5783 - iou: 0.4108 - val_loss: 0.0555 - val_acc: 0.9774 - val_dice: 0.1225 - val_iou: 0.0652\n",
      "Epoch 37\n",
      "Epoch 1/1\n",
      "24/24 [==============================] - 839s 35s/step - loss: 0.0037 - acc: 0.9747 - dice: 0.5764 - iou: 0.4088 - val_loss: 0.0562 - val_acc: 0.9729 - val_dice: 0.1107 - val_iou: 0.0586\n",
      "Epoch 38\n",
      "Epoch 1/1\n",
      "24/24 [==============================] - 849s 35s/step - loss: 0.0036 - acc: 0.9755 - dice: 0.5843 - iou: 0.4166 - val_loss: 0.0606 - val_acc: 0.9763 - val_dice: 0.1006 - val_iou: 0.0530\n",
      "Epoch 39\n",
      "Epoch 1/1\n",
      "24/24 [==============================] - 842s 35s/step - loss: 0.0034 - acc: 0.9764 - dice: 0.5934 - iou: 0.4255 - val_loss: 0.0624 - val_acc: 0.9788 - val_dice: 0.1028 - val_iou: 0.0542\n"
     ]
    },
    {
     "name": "stdout",
     "output_type": "stream",
     "text": [
      "Epoch 40\n",
      "Epoch 1/1\n",
      "24/24 [==============================] - 842s 35s/step - loss: 0.0033 - acc: 0.9772 - dice: 0.6014 - iou: 0.4335 - val_loss: 0.0569 - val_acc: 0.9708 - val_dice: 0.1151 - val_iou: 0.0611\n",
      "Epoch 41\n",
      "Epoch 1/1\n",
      "24/24 [==============================] - 842s 35s/step - loss: 0.0033 - acc: 0.9771 - dice: 0.5998 - iou: 0.4326 - val_loss: 0.0617 - val_acc: 0.9774 - val_dice: 0.1130 - val_iou: 0.0599\n",
      "Epoch 42\n",
      "Epoch 1/1\n",
      "24/24 [==============================] - 848s 35s/step - loss: 0.0033 - acc: 0.9769 - dice: 0.5984 - iou: 0.4309 - val_loss: 0.0641 - val_acc: 0.9755 - val_dice: 0.0954 - val_iou: 0.0501\n",
      "Epoch 43\n",
      "Epoch 1/1\n",
      "24/24 [==============================] - 842s 35s/step - loss: 0.0031 - acc: 0.9780 - dice: 0.6095 - iou: 0.4424 - val_loss: 0.0652 - val_acc: 0.9808 - val_dice: 0.1222 - val_iou: 0.0651\n",
      "Epoch 44\n",
      "Epoch 1/1\n",
      "24/24 [==============================] - 839s 35s/step - loss: 0.0031 - acc: 0.9778 - dice: 0.6076 - iou: 0.4398 - val_loss: 0.0647 - val_acc: 0.9785 - val_dice: 0.1212 - val_iou: 0.0645\n",
      "Epoch 45\n",
      "Epoch 1/1\n",
      "24/24 [==============================] - 845s 35s/step - loss: 0.0029 - acc: 0.9788 - dice: 0.6179 - iou: 0.4505 - val_loss: 0.0681 - val_acc: 0.9807 - val_dice: 0.1109 - val_iou: 0.0587\n",
      "Epoch 46\n",
      "Epoch 1/1\n",
      "24/24 [==============================] - 846s 35s/step - loss: 0.0030 - acc: 0.9787 - dice: 0.6176 - iou: 0.4504 - val_loss: 0.0641 - val_acc: 0.9704 - val_dice: 0.1000 - val_iou: 0.0526\n",
      "Epoch 47\n",
      "Epoch 1/1\n",
      "24/24 [==============================] - 843s 35s/step - loss: 0.0027 - acc: 0.9792 - dice: 0.6225 - iou: 0.4554 - val_loss: 0.0670 - val_acc: 0.9779 - val_dice: 0.1140 - val_iou: 0.0605\n",
      "Epoch 48\n",
      "Epoch 1/1\n",
      "24/24 [==============================] - 845s 35s/step - loss: 0.0027 - acc: 0.9797 - dice: 0.6284 - iou: 0.4616 - val_loss: 0.0703 - val_acc: 0.9830 - val_dice: 0.1273 - val_iou: 0.0680\n",
      "Epoch 49\n",
      "Epoch 1/1\n",
      "24/24 [==============================] - 840s 35s/step - loss: 0.0026 - acc: 0.9806 - dice: 0.6395 - iou: 0.4734 - val_loss: 0.0667 - val_acc: 0.9780 - val_dice: 0.1199 - val_iou: 0.0637\n"
     ]
    },
    {
     "data": {
      "image/png": "[encoded data removed]",
      "text/plain": [
       "<Figure size 432x288 with 1 Axes>"
      ]
     },
     "metadata": {
      "needs_background": "light"
     },
     "output_type": "display_data"
    },
    {
     "data": {
      "image/png": "[encoded data removed]",
      "text/plain": [
       "<Figure size 432x288 with 1 Axes>"
      ]
     },
     "metadata": {
      "needs_background": "light"
     },
     "output_type": "display_data"
    }
   ],
   "source": [
    "start = timeit.default_timer()\n",
    "train(\n",
    "    path_train_images, path_train_annotations, train_batch_size, \n",
    "    path_val_images, path_val_annotations, val_batch_size,\n",
    "    n_classes, input_width, input_height, \n",
    "    model_name, epochs, loss, optimizer, metrics,\n",
    "    path_save_weights, path_vgg_weights = path_vgg_weights, train_vgg = train_vgg, path_load_weights = None\n",
    ")\n",
    "end = timeit.default_timer()"
   ]
  },
  {
   "cell_type": "code",
   "execution_count": 7,
   "metadata": {},
   "outputs": [
    {
     "name": "stdout",
     "output_type": "stream",
     "text": [
      "Total training time:  42206.400382497\n"
     ]
    }
   ],
   "source": [
    "print('Total training time: ', end - start)"
   ]
  },
  {
   "cell_type": "code",
   "execution_count": 14,
   "metadata": {},
   "outputs": [],
   "source": [
    "epochs = 49"
   ]
  },
  {
   "cell_type": "code",
   "execution_count": 15,
   "metadata": {},
   "outputs": [
    {
     "name": "stdout",
     "output_type": "stream",
     "text": [
      "              precision    recall  f1-score   support\n",
      "\n",
      "           0       1.00      0.99      0.99   9461880\n",
      "           1       0.57      0.99      0.73    171912\n",
      "\n",
      "   micro avg       0.99      0.99      0.99   9633792\n",
      "   macro avg       0.79      0.99      0.86   9633792\n",
      "weighted avg       0.99      0.99      0.99   9633792\n",
      "\n",
      "F1/dice (binary):  0.7251074315337129\n",
      "Jaccard/IOU:  0.5687596347086932\n"
     ]
    }
   ],
   "source": [
    "predict(\n",
    "    path_train_images, path_train_annotations, path_train_predictions,\n",
    "    n_classes, input_width, input_height, \n",
    "    model_name, epochs, loss, optimizer, metrics, \n",
    "    path_save_weights\n",
    ")"
   ]
  },
  {
   "cell_type": "code",
   "execution_count": null,
   "metadata": {},
   "outputs": [],
   "source": [
    "visualize_dataset(\n",
    "    path_train_images, path_train_annotations, \n",
    "    n_classes, n_channel_annotations = n_channel_annotations,\n",
    "    dir_predictions = path_train_predictions\n",
    ")"
   ]
  },
  {
   "cell_type": "code",
   "execution_count": 17,
   "metadata": {},
   "outputs": [
    {
     "name": "stdout",
     "output_type": "stream",
     "text": [
      "              precision    recall  f1-score   support\n",
      "\n",
      "           0       0.99      0.99      0.99    547881\n",
      "           1       0.10      0.17      0.13      4055\n",
      "\n",
      "   micro avg       0.98      0.98      0.98    551936\n",
      "   macro avg       0.55      0.58      0.56    551936\n",
      "weighted avg       0.99      0.98      0.99    551936\n",
      "\n",
      "F1/dice (binary):  0.1273081562586991\n",
      "Jaccard/IOU:  0.06798136953721137\n"
     ]
    }
   ],
   "source": [
    "predict(\n",
    "    path_val_images, path_val_annotations, path_val_predictions,\n",
    "    n_classes, input_width, input_height, \n",
    "    model_name, epochs, loss, optimizer, metrics,\n",
    "    path_save_weights\n",
    ")"
   ]
  },
  {
   "cell_type": "code",
   "execution_count": null,
   "metadata": {},
   "outputs": [],
   "source": [
    "visualize_dataset(\n",
    "    path_val_images, path_val_annotations, \n",
    "    n_classes, n_channel_annotations = n_channel_annotations,\n",
    "    dir_predictions = path_val_predictions\n",
    ")"
   ]
  },
  {
   "cell_type": "code",
   "execution_count": 19,
   "metadata": {},
   "outputs": [
    {
     "name": "stdout",
     "output_type": "stream",
     "text": [
      "              precision    recall  f1-score   support\n",
      "\n",
      "           0       0.99      0.98      0.98    586517\n",
      "           1       0.35      0.48      0.40     15595\n",
      "\n",
      "   micro avg       0.96      0.96      0.96    602112\n",
      "   macro avg       0.67      0.73      0.69    602112\n",
      "weighted avg       0.97      0.96      0.97    602112\n",
      "\n",
      "F1/dice (binary):  0.4048432665141934\n",
      "Jaccard/IOU:  0.25379529046623034\n"
     ]
    }
   ],
   "source": [
    "predict(\n",
    "    path_test_images, path_test_annotations, path_test_predictions,\n",
    "    n_classes, input_width, input_height, \n",
    "    model_name, epochs, loss, optimizer, metrics,\n",
    "    path_save_weights\n",
    ")"
   ]
  },
  {
   "cell_type": "code",
   "execution_count": null,
   "metadata": {},
   "outputs": [],
   "source": [
    "visualize_dataset(\n",
    "    path_test_images, path_test_annotations, \n",
    "    n_classes, n_channel_annotations = n_channel_annotations, \n",
    "    dir_predictions = path_test_predictions\n",
    ")"
   ]
  }
 ],
 "metadata": {
  "kernelspec": {
   "display_name": "Python 3",
   "language": "python",
   "name": "python3"
  },
  "language_info": {
   "codemirror_mode": {
    "name": "ipython",
    "version": 3
   },
   "file_extension": ".py",
   "mimetype": "text/x-python",
   "name": "python",
   "nbconvert_exporter": "python",
   "pygments_lexer": "ipython3",
   "version": "3.5.2"
  }
 },
 "nbformat": 4,
 "nbformat_minor": 2
}
