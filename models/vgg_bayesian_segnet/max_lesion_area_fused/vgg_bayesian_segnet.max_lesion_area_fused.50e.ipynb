{
 "cells": [
  {
   "cell_type": "code",
   "execution_count": 1,
   "metadata": {},
   "outputs": [
    {
     "name": "stderr",
     "output_type": "stream",
     "text": [
      "Using TensorFlow backend.\n"
     ]
    }
   ],
   "source": [
    "import glob\n",
    "import math\n",
    "import sys\n",
    "import timeit\n",
    "\n",
    "sys.path.insert(0, '../../')\n",
    "from visualize_dataset import *\n",
    "from losses import *\n",
    "from metrics import *\n",
    "from predict import *\n",
    "from train import *\n",
    "from utils import *"
   ]
  },
  {
   "cell_type": "code",
   "execution_count": 2,
   "metadata": {},
   "outputs": [],
   "source": [
    "path_train_images = '../../../data/stanford_max_lesion_area_fused_cropped/train/Slice/'\n",
    "path_train_annotations = '../../../data/stanford_max_lesion_area_fused_cropped/train/ROI/'\n",
    "path_train_predictions = './predictions.50e/train/'\n",
    "\n",
    "path_val_images = '../../../data/stanford_max_lesion_area_fused_cropped/val/Slice/'\n",
    "path_val_annotations = '../../../data/stanford_max_lesion_area_fused_cropped/val/ROI/'\n",
    "path_val_predictions = './predictions.50e/val/'\n",
    "\n",
    "path_test_images = '../../../data/stanford_max_lesion_area_fused_cropped/test/Slice/'\n",
    "path_test_annotations = '../../../data/stanford_max_lesion_area_fused_cropped/test/ROI/'\n",
    "path_test_predictions = './predictions.50e/test/'\n",
    "\n",
    "path_save_weights = './weights.50e/'\n",
    "path_load_weights = None\n",
    "\n",
    "train_vgg = False\n",
    "path_vgg_weights = '../../../data/vgg16_weights_th_dim_ordering_th_kernels.h5'\n",
    "\n",
    "n_classes = 2\n",
    "input_height = 224\n",
    "input_width = 224\n",
    "n_channel_annotations = 1"
   ]
  },
  {
   "cell_type": "code",
   "execution_count": 3,
   "metadata": {},
   "outputs": [
    {
     "name": "stdout",
     "output_type": "stream",
     "text": [
      "Number train images:  376\n",
      "Number val images:  15\n",
      "Number test images:  14\n"
     ]
    }
   ],
   "source": [
    "print('Number train images: ', len(glob.glob(path_train_images + '*.png')))\n",
    "print('Number val images: ', len(glob.glob(path_val_images + '*.png')))\n",
    "print('Number test images: ', len(glob.glob(path_test_images + '*.png')))"
   ]
  },
  {
   "cell_type": "code",
   "execution_count": 4,
   "metadata": {},
   "outputs": [],
   "source": [
    "model_name = 'vgg_bayesian_segnet'\n",
    "epochs = 50\n",
    "train_batch_size = 8\n",
    "val_batch_size = len(glob.glob(path_val_images + '*.png'))"
   ]
  },
  {
   "cell_type": "code",
   "execution_count": 5,
   "metadata": {},
   "outputs": [
    {
     "name": "stdout",
     "output_type": "stream",
     "text": [
      "[0.97803434 0.02196566]\n",
      "[ 1.         44.52560761]\n",
      "[0.0222105  3.81827497]\n"
     ]
    }
   ],
   "source": [
    "optimizer = 'adadelta'\n",
    "metrics = ['accuracy', dice, iou]\n",
    "\n",
    "class_props = calc_class_proportions(path_train_annotations, n_classes, n_channel_annotations)\n",
    "class_weights = calc_class_weights(path_train_annotations, n_classes, n_channel_annotations)\n",
    "class_weights_log = calc_class_weights(path_train_annotations, n_classes, n_channel_annotations, scale = 'log')\n",
    "\n",
    "print(class_props)\n",
    "print(class_weights)\n",
    "print(class_weights_log)\n",
    "\n",
    "loss = weighted_categorical_crossentropy_loss(class_weights_log)"
   ]
  },
  {
   "cell_type": "code",
   "execution_count": 6,
   "metadata": {},
   "outputs": [
    {
     "name": "stdout",
     "output_type": "stream",
     "text": [
      "Model output shape (None, 50176, 2)\n",
      "Epoch 0\n",
      "Epoch 1/1\n",
      "47/47 [==============================] - 1606s 34s/step - loss: 0.0366 - acc: 0.6304 - dice: 0.0903 - iou: 0.0476 - val_loss: 0.0435 - val_acc: 0.8000 - val_dice: 0.1133 - val_iou: 0.0601\n",
      "Epoch 1\n",
      "Epoch 1/1\n",
      "47/47 [==============================] - 1637s 35s/step - loss: 0.0233 - acc: 0.6915 - dice: 0.1153 - iou: 0.0616 - val_loss: 0.0750 - val_acc: 0.8878 - val_dice: 0.1140 - val_iou: 0.0605\n",
      "Epoch 2\n",
      "Epoch 1/1\n",
      "47/47 [==============================] - 1635s 35s/step - loss: 0.0201 - acc: 0.7639 - dice: 0.1443 - iou: 0.0783 - val_loss: 0.0741 - val_acc: 0.9054 - val_dice: 0.1300 - val_iou: 0.0695\n",
      "Epoch 3\n",
      "Epoch 1/1\n",
      "47/47 [==============================] - 1634s 35s/step - loss: 0.0183 - acc: 0.8061 - dice: 0.1714 - iou: 0.0947 - val_loss: 0.0768 - val_acc: 0.9045 - val_dice: 0.0979 - val_iou: 0.0515\n",
      "Epoch 4\n",
      "Epoch 1/1\n",
      "47/47 [==============================] - 1637s 35s/step - loss: 0.0158 - acc: 0.8453 - dice: 0.2064 - iou: 0.1167 - val_loss: 0.0704 - val_acc: 0.9073 - val_dice: 0.1414 - val_iou: 0.0761\n",
      "Epoch 5\n",
      "Epoch 1/1\n",
      "47/47 [==============================] - 1636s 35s/step - loss: 0.0142 - acc: 0.8736 - dice: 0.2422 - iou: 0.1401 - val_loss: 0.0841 - val_acc: 0.9307 - val_dice: 0.1113 - val_iou: 0.0589\n",
      "Epoch 6\n",
      "Epoch 1/1\n",
      "47/47 [==============================] - 1636s 35s/step - loss: 0.0126 - acc: 0.9008 - dice: 0.2869 - iou: 0.1704 - val_loss: 0.0886 - val_acc: 0.9520 - val_dice: 0.1316 - val_iou: 0.0704\n",
      "Epoch 7\n",
      "Epoch 1/1\n",
      "47/47 [==============================] - 1636s 35s/step - loss: 0.0118 - acc: 0.9155 - dice: 0.3205 - iou: 0.1945 - val_loss: 0.0876 - val_acc: 0.9465 - val_dice: 0.1207 - val_iou: 0.0642\n",
      "Epoch 8\n",
      "Epoch 1/1\n",
      "47/47 [==============================] - 1630s 35s/step - loss: 0.0121 - acc: 0.9135 - dice: 0.3149 - iou: 0.1901 - val_loss: 0.0992 - val_acc: 0.9652 - val_dice: 0.0920 - val_iou: 0.0482\n",
      "Epoch 9\n",
      "Epoch 1/1\n",
      "47/47 [==============================] - 1635s 35s/step - loss: 0.0110 - acc: 0.9189 - dice: 0.3289 - iou: 0.2007 - val_loss: 0.0963 - val_acc: 0.9605 - val_dice: 0.1259 - val_iou: 0.0672\n",
      "Epoch 10\n",
      "Epoch 1/1\n",
      "47/47 [==============================] - 1634s 35s/step - loss: 0.0096 - acc: 0.9309 - dice: 0.3637 - iou: 0.2264 - val_loss: 0.1040 - val_acc: 0.9700 - val_dice: 0.1256 - val_iou: 0.0670\n",
      "Epoch 11\n",
      "Epoch 1/1\n",
      "47/47 [==============================] - 1639s 35s/step - loss: 0.0087 - acc: 0.9391 - dice: 0.3920 - iou: 0.2482 - val_loss: 0.1077 - val_acc: 0.9659 - val_dice: 0.1134 - val_iou: 0.0601\n",
      "Epoch 12\n",
      "Epoch 1/1\n",
      "47/47 [==============================] - 1643s 35s/step - loss: 0.0079 - acc: 0.9481 - dice: 0.4291 - iou: 0.2777 - val_loss: 0.1142 - val_acc: 0.9720 - val_dice: 0.1060 - val_iou: 0.0560\n",
      "Epoch 13\n",
      "Epoch 1/1\n",
      "47/47 [==============================] - 1631s 35s/step - loss: 0.0076 - acc: 0.9518 - dice: 0.4463 - iou: 0.2919 - val_loss: 0.1234 - val_acc: 0.9689 - val_dice: 0.0823 - val_iou: 0.0429\n",
      "Epoch 14\n",
      "Epoch 1/1\n",
      "47/47 [==============================] - 1636s 35s/step - loss: 0.0070 - acc: 0.9544 - dice: 0.4598 - iou: 0.3036 - val_loss: 0.1239 - val_acc: 0.9663 - val_dice: 0.0800 - val_iou: 0.0417\n",
      "Epoch 15\n",
      "Epoch 1/1\n",
      "47/47 [==============================] - 1624s 35s/step - loss: 0.0067 - acc: 0.9559 - dice: 0.4674 - iou: 0.3094 - val_loss: 0.1251 - val_acc: 0.9699 - val_dice: 0.1015 - val_iou: 0.0535\n",
      "Epoch 16\n",
      "Epoch 1/1\n",
      "47/47 [==============================] - 1640s 35s/step - loss: 0.0063 - acc: 0.9595 - dice: 0.4880 - iou: 0.3276 - val_loss: 0.1355 - val_acc: 0.9708 - val_dice: 0.0832 - val_iou: 0.0434\n",
      "Epoch 17\n",
      "Epoch 1/1\n",
      "47/47 [==============================] - 1634s 35s/step - loss: 0.0063 - acc: 0.9590 - dice: 0.4846 - iou: 0.3244 - val_loss: 0.1131 - val_acc: 0.9551 - val_dice: 0.1355 - val_iou: 0.0727\n",
      "Epoch 18\n",
      "Epoch 1/1\n",
      "47/47 [==============================] - 1633s 35s/step - loss: 0.0062 - acc: 0.9575 - dice: 0.4764 - iou: 0.3170 - val_loss: 0.1337 - val_acc: 0.9681 - val_dice: 0.1360 - val_iou: 0.0730\n",
      "Epoch 19\n",
      "Epoch 1/1\n",
      "47/47 [==============================] - 1637s 35s/step - loss: 0.0063 - acc: 0.9573 - dice: 0.4763 - iou: 0.3175 - val_loss: 0.1362 - val_acc: 0.9706 - val_dice: 0.1282 - val_iou: 0.0685\n",
      "Epoch 20\n",
      "Epoch 1/1\n",
      "47/47 [==============================] - 1637s 35s/step - loss: 0.0056 - acc: 0.9588 - dice: 0.4848 - iou: 0.3249 - val_loss: 0.1470 - val_acc: 0.9733 - val_dice: 0.1157 - val_iou: 0.0614\n",
      "Epoch 21\n",
      "Epoch 1/1\n",
      "47/47 [==============================] - 1641s 35s/step - loss: 0.0051 - acc: 0.9623 - dice: 0.5054 - iou: 0.3432 - val_loss: 0.1458 - val_acc: 0.9735 - val_dice: 0.1511 - val_iou: 0.0817\n",
      "Epoch 22\n",
      "Epoch 1/1\n",
      "47/47 [==============================] - 1638s 35s/step - loss: 0.0047 - acc: 0.9659 - dice: 0.5298 - iou: 0.3646 - val_loss: 0.1560 - val_acc: 0.9693 - val_dice: 0.1038 - val_iou: 0.0548\n",
      "Epoch 23\n",
      "Epoch 1/1\n",
      "47/47 [==============================] - 1637s 35s/step - loss: 0.0045 - acc: 0.9679 - dice: 0.5438 - iou: 0.3778 - val_loss: 0.1516 - val_acc: 0.9690 - val_dice: 0.1136 - val_iou: 0.0602\n",
      "Epoch 24\n",
      "Epoch 1/1\n",
      "47/47 [==============================] - 1633s 35s/step - loss: 0.0042 - acc: 0.9696 - dice: 0.5575 - iou: 0.3911 - val_loss: 0.1544 - val_acc: 0.9702 - val_dice: 0.1311 - val_iou: 0.0702\n",
      "Epoch 25\n",
      "Epoch 1/1\n",
      "47/47 [==============================] - 1600s 34s/step - loss: 0.0041 - acc: 0.9702 - dice: 0.5618 - iou: 0.3953 - val_loss: 0.1633 - val_acc: 0.9712 - val_dice: 0.1348 - val_iou: 0.0723\n",
      "Epoch 26\n",
      "Epoch 1/1\n",
      "47/47 [==============================] - 918s 20s/step - loss: 0.0039 - acc: 0.9717 - dice: 0.5741 - iou: 0.4069 - val_loss: 0.1648 - val_acc: 0.9710 - val_dice: 0.1475 - val_iou: 0.0796\n",
      "Epoch 27\n",
      "Epoch 1/1\n",
      "47/47 [==============================] - 853s 18s/step - loss: 0.0039 - acc: 0.9713 - dice: 0.5712 - iou: 0.4039 - val_loss: 0.1738 - val_acc: 0.9733 - val_dice: 0.1333 - val_iou: 0.0714\n",
      "Epoch 28\n",
      "Epoch 1/1\n",
      "47/47 [==============================] - 851s 18s/step - loss: 0.0037 - acc: 0.9724 - dice: 0.5801 - iou: 0.4126 - val_loss: 0.1641 - val_acc: 0.9696 - val_dice: 0.1484 - val_iou: 0.0801\n",
      "Epoch 29\n",
      "Epoch 1/1\n",
      "47/47 [==============================] - 849s 18s/step - loss: 0.0036 - acc: 0.9735 - dice: 0.5900 - iou: 0.4225 - val_loss: 0.1753 - val_acc: 0.9716 - val_dice: 0.1276 - val_iou: 0.0682\n",
      "Epoch 30\n",
      "Epoch 1/1\n",
      "47/47 [==============================] - 851s 18s/step - loss: 0.0033 - acc: 0.9739 - dice: 0.5940 - iou: 0.4264 - val_loss: 0.1814 - val_acc: 0.9743 - val_dice: 0.1372 - val_iou: 0.0736\n",
      "Epoch 31\n",
      "Epoch 1/1\n",
      "47/47 [==============================] - 850s 18s/step - loss: 0.0033 - acc: 0.9746 - dice: 0.6001 - iou: 0.4325 - val_loss: 0.1755 - val_acc: 0.9693 - val_dice: 0.1445 - val_iou: 0.0779\n",
      "Epoch 32\n",
      "Epoch 1/1\n",
      "47/47 [==============================] - 850s 18s/step - loss: 0.0033 - acc: 0.9747 - dice: 0.6009 - iou: 0.4335 - val_loss: 0.1748 - val_acc: 0.9695 - val_dice: 0.1548 - val_iou: 0.0839\n",
      "Epoch 33\n",
      "Epoch 1/1\n",
      "47/47 [==============================] - 848s 18s/step - loss: 0.0031 - acc: 0.9757 - dice: 0.6099 - iou: 0.4424 - val_loss: 0.1895 - val_acc: 0.9743 - val_dice: 0.1414 - val_iou: 0.0761\n",
      "Epoch 34\n",
      "Epoch 1/1\n",
      "47/47 [==============================] - 1017s 22s/step - loss: 0.0031 - acc: 0.9759 - dice: 0.6128 - iou: 0.4453 - val_loss: 0.1864 - val_acc: 0.9704 - val_dice: 0.1452 - val_iou: 0.0783\n",
      "Epoch 35\n",
      "Epoch 1/1\n",
      "47/47 [==============================] - 853s 18s/step - loss: 0.0031 - acc: 0.9765 - dice: 0.6188 - iou: 0.4515 - val_loss: 0.1915 - val_acc: 0.9725 - val_dice: 0.1409 - val_iou: 0.0758\n",
      "Epoch 36\n",
      "Epoch 1/1\n",
      "47/47 [==============================] - 856s 18s/step - loss: 0.0029 - acc: 0.9765 - dice: 0.6188 - iou: 0.4514 - val_loss: 0.2019 - val_acc: 0.9754 - val_dice: 0.1447 - val_iou: 0.0780\n",
      "Epoch 37\n",
      "Epoch 1/1\n",
      "47/47 [==============================] - 855s 18s/step - loss: 0.0029 - acc: 0.9775 - dice: 0.6282 - iou: 0.4619 - val_loss: 0.1993 - val_acc: 0.9754 - val_dice: 0.1665 - val_iou: 0.0908\n",
      "Epoch 38\n",
      "Epoch 1/1\n",
      "47/47 [==============================] - 852s 18s/step - loss: 0.0030 - acc: 0.9766 - dice: 0.6196 - iou: 0.4520 - val_loss: 0.1960 - val_acc: 0.9715 - val_dice: 0.1340 - val_iou: 0.0718\n",
      "Epoch 39\n",
      "Epoch 1/1\n",
      "47/47 [==============================] - 851s 18s/step - loss: 0.0029 - acc: 0.9774 - dice: 0.6278 - iou: 0.4608 - val_loss: 0.2007 - val_acc: 0.9716 - val_dice: 0.1410 - val_iou: 0.0758\n",
      "Epoch 40\n",
      "Epoch 1/1\n",
      "47/47 [==============================] - 850s 18s/step - loss: 0.0027 - acc: 0.9776 - dice: 0.6299 - iou: 0.4630 - val_loss: 0.2040 - val_acc: 0.9731 - val_dice: 0.1412 - val_iou: 0.0760\n",
      "Epoch 41\n",
      "Epoch 1/1\n",
      "47/47 [==============================] - 852s 18s/step - loss: 0.0027 - acc: 0.9783 - dice: 0.6367 - iou: 0.4705 - val_loss: 0.2052 - val_acc: 0.9734 - val_dice: 0.1443 - val_iou: 0.0778\n",
      "Epoch 42\n",
      "Epoch 1/1\n",
      "47/47 [==============================] - 852s 18s/step - loss: 0.0027 - acc: 0.9786 - dice: 0.6392 - iou: 0.4735 - val_loss: 0.2025 - val_acc: 0.9710 - val_dice: 0.1188 - val_iou: 0.0632\n",
      "Epoch 43\n",
      "Epoch 1/1\n",
      "47/47 [==============================] - 851s 18s/step - loss: 0.0026 - acc: 0.9788 - dice: 0.6420 - iou: 0.4758 - val_loss: 0.2118 - val_acc: 0.9741 - val_dice: 0.1533 - val_iou: 0.0830\n",
      "Epoch 44\n",
      "Epoch 1/1\n",
      "47/47 [==============================] - 853s 18s/step - loss: 0.0025 - acc: 0.9792 - dice: 0.6467 - iou: 0.4808 - val_loss: 0.2128 - val_acc: 0.9736 - val_dice: 0.1418 - val_iou: 0.0763\n",
      "Epoch 45\n",
      "Epoch 1/1\n",
      "47/47 [==============================] - 850s 18s/step - loss: 0.0025 - acc: 0.9797 - dice: 0.6522 - iou: 0.4871 - val_loss: 0.2183 - val_acc: 0.9754 - val_dice: 0.1372 - val_iou: 0.0737\n",
      "Epoch 46\n",
      "Epoch 1/1\n",
      "47/47 [==============================] - 852s 18s/step - loss: 0.0025 - acc: 0.9798 - dice: 0.6535 - iou: 0.4882 - val_loss: 0.2354 - val_acc: 0.9786 - val_dice: 0.0910 - val_iou: 0.0476\n",
      "Epoch 47\n",
      "Epoch 1/1\n",
      "47/47 [==============================] - 853s 18s/step - loss: 0.0023 - acc: 0.9806 - dice: 0.6617 - iou: 0.4973 - val_loss: 0.2201 - val_acc: 0.9735 - val_dice: 0.1362 - val_iou: 0.0731\n",
      "Epoch 48\n",
      "Epoch 1/1\n",
      "47/47 [==============================] - 850s 18s/step - loss: 0.0024 - acc: 0.9804 - dice: 0.6598 - iou: 0.4953 - val_loss: 0.2171 - val_acc: 0.9719 - val_dice: 0.1361 - val_iou: 0.0730\n",
      "Epoch 49\n",
      "Epoch 1/1\n",
      "47/47 [==============================] - 836s 18s/step - loss: 0.0024 - acc: 0.9807 - dice: 0.6642 - iou: 0.5001 - val_loss: 0.2201 - val_acc: 0.9702 - val_dice: 0.1372 - val_iou: 0.0737\n"
     ]
    },
    {
     "data": {
      "image/png": "[encoded data removed]",
      "text/plain": [
       "<Figure size 432x288 with 1 Axes>"
      ]
     },
     "metadata": {
      "needs_background": "light"
     },
     "output_type": "display_data"
    },
    {
     "data": {
      "image/png": "[encoded data removed]",
      "text/plain": [
       "<Figure size 432x288 with 1 Axes>"
      ]
     },
     "metadata": {
      "needs_background": "light"
     },
     "output_type": "display_data"
    }
   ],
   "source": [
    "start = timeit.default_timer()\n",
    "train(\n",
    "    path_train_images, path_train_annotations, train_batch_size, \n",
    "    path_val_images, path_val_annotations, val_batch_size,\n",
    "    n_classes, input_width, input_height, \n",
    "    model_name, epochs, loss, optimizer, metrics,\n",
    "    path_save_weights, path_vgg_weights = path_vgg_weights, train_vgg = train_vgg, path_load_weights = None\n",
    ")\n",
    "end = timeit.default_timer()"
   ]
  },
  {
   "cell_type": "code",
   "execution_count": 7,
   "metadata": {},
   "outputs": [
    {
     "name": "stdout",
     "output_type": "stream",
     "text": [
      "Total training time:  63164.962534807\n"
     ]
    }
   ],
   "source": [
    "print('Total training time: ', end - start)"
   ]
  },
  {
   "cell_type": "code",
   "execution_count": 9,
   "metadata": {},
   "outputs": [],
   "source": [
    "epochs = 38"
   ]
  },
  {
   "cell_type": "code",
   "execution_count": 10,
   "metadata": {},
   "outputs": [
    {
     "name": "stdout",
     "output_type": "stream",
     "text": [
      "              precision    recall  f1-score   support\n",
      "\n",
      "           0       1.00      0.99      0.99  18491024\n",
      "           1       0.64      0.96      0.77    375152\n",
      "\n",
      "   micro avg       0.99      0.99      0.99  18866176\n",
      "   macro avg       0.82      0.98      0.88  18866176\n",
      "weighted avg       0.99      0.99      0.99  18866176\n",
      "\n",
      "F1/dice (binary):  0.7710369190009024\n",
      "Jaccard/IOU:  0.6273881867745614\n"
     ]
    }
   ],
   "source": [
    "predict(\n",
    "    path_train_images, path_train_annotations, path_train_predictions,\n",
    "    n_classes, input_width, input_height, \n",
    "    model_name, epochs, loss, optimizer, metrics, \n",
    "    path_save_weights\n",
    ")"
   ]
  },
  {
   "cell_type": "code",
   "execution_count": null,
   "metadata": {},
   "outputs": [],
   "source": [
    "visualize_dataset(\n",
    "    path_train_images, path_train_annotations, \n",
    "    n_classes, n_channel_annotations = n_channel_annotations,\n",
    "    dir_predictions = path_train_predictions\n",
    ")"
   ]
  },
  {
   "cell_type": "code",
   "execution_count": 12,
   "metadata": {},
   "outputs": [
    {
     "name": "stdout",
     "output_type": "stream",
     "text": [
      "              precision    recall  f1-score   support\n",
      "\n",
      "           0       0.99      0.99      0.99    739775\n",
      "           1       0.20      0.14      0.17     12865\n",
      "\n",
      "   micro avg       0.98      0.98      0.98    752640\n",
      "   macro avg       0.59      0.57      0.58    752640\n",
      "weighted avg       0.97      0.98      0.97    752640\n",
      "\n",
      "F1/dice (binary):  0.1665094127690165\n",
      "Jaccard/IOU:  0.09081552636737894\n"
     ]
    }
   ],
   "source": [
    "predict(\n",
    "    path_val_images, path_val_annotations, path_val_predictions,\n",
    "    n_classes, input_width, input_height, \n",
    "    model_name, epochs, loss, optimizer, metrics,\n",
    "    path_save_weights\n",
    ")"
   ]
  },
  {
   "cell_type": "code",
   "execution_count": null,
   "metadata": {},
   "outputs": [],
   "source": [
    "visualize_dataset(\n",
    "    path_val_images, path_val_annotations, \n",
    "    n_classes, n_channel_annotations = n_channel_annotations,\n",
    "    dir_predictions = path_val_predictions\n",
    ")"
   ]
  },
  {
   "cell_type": "code",
   "execution_count": 14,
   "metadata": {},
   "outputs": [
    {
     "name": "stdout",
     "output_type": "stream",
     "text": [
      "              precision    recall  f1-score   support\n",
      "\n",
      "           0       0.99      0.98      0.98    686571\n",
      "           1       0.36      0.40      0.38     15893\n",
      "\n",
      "   micro avg       0.97      0.97      0.97    702464\n",
      "   macro avg       0.67      0.69      0.68    702464\n",
      "weighted avg       0.97      0.97      0.97    702464\n",
      "\n",
      "F1/dice (binary):  0.3776641343226226\n",
      "Jaccard/IOU:  0.23279035020589628\n"
     ]
    }
   ],
   "source": [
    "predict(\n",
    "    path_test_images, path_test_annotations, path_test_predictions,\n",
    "    n_classes, input_width, input_height, \n",
    "    model_name, epochs, loss, optimizer, metrics,\n",
    "    path_save_weights\n",
    ")"
   ]
  },
  {
   "cell_type": "code",
   "execution_count": null,
   "metadata": {},
   "outputs": [],
   "source": [
    "visualize_dataset(\n",
    "    path_test_images, path_test_annotations, \n",
    "    n_classes, n_channel_annotations = n_channel_annotations, \n",
    "    dir_predictions = path_test_predictions\n",
    ")"
   ]
  }
 ],
 "metadata": {
  "kernelspec": {
   "display_name": "Python 3",
   "language": "python",
   "name": "python3"
  },
  "language_info": {
   "codemirror_mode": {
    "name": "ipython",
    "version": 3
   },
   "file_extension": ".py",
   "mimetype": "text/x-python",
   "name": "python",
   "nbconvert_exporter": "python",
   "pygments_lexer": "ipython3",
   "version": "3.5.2"
  }
 },
 "nbformat": 4,
 "nbformat_minor": 2
}
