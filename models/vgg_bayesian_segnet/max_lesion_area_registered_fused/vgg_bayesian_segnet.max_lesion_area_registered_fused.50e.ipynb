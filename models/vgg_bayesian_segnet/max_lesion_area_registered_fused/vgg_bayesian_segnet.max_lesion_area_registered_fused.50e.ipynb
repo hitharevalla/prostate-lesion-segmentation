{
 "cells": [
  {
   "cell_type": "code",
   "execution_count": 1,
   "metadata": {},
   "outputs": [
    {
     "name": "stderr",
     "output_type": "stream",
     "text": [
      "Using TensorFlow backend.\n"
     ]
    }
   ],
   "source": [
    "import glob\n",
    "import math\n",
    "import sys\n",
    "import timeit\n",
    "\n",
    "sys.path.insert(0, '../../')\n",
    "from visualize_dataset import *\n",
    "from losses import *\n",
    "from metrics import *\n",
    "from predict import *\n",
    "from train import *\n",
    "from utils import *"
   ]
  },
  {
   "cell_type": "code",
   "execution_count": 2,
   "metadata": {},
   "outputs": [],
   "source": [
    "path_train_images = '../../../data/stanford_max_lesion_area_registered_fused_cropped/train/Slice/'\n",
    "path_train_annotations = '../../../data/stanford_max_lesion_area_registered_fused_cropped/train/ROI/'\n",
    "path_train_predictions = './predictions.50e/train/'\n",
    "\n",
    "path_val_images = '../../../data/stanford_max_lesion_area_registered_fused_cropped/val/Slice/'\n",
    "path_val_annotations = '../../../data/stanford_max_lesion_area_registered_fused_cropped/val/ROI/'\n",
    "path_val_predictions = './predictions.50e/val/'\n",
    "\n",
    "path_test_images = '../../../data/stanford_max_lesion_area_registered_fused_cropped/test/Slice/'\n",
    "path_test_annotations = '../../../data/stanford_max_lesion_area_registered_fused_cropped/test/ROI/'\n",
    "path_test_predictions = './predictions.50e/test/'\n",
    "\n",
    "path_save_weights = './weights.50e/'\n",
    "path_load_weights = None\n",
    "\n",
    "train_vgg = False\n",
    "path_vgg_weights = '../../../data/vgg16_weights_th_dim_ordering_th_kernels.h5'\n",
    "\n",
    "n_classes = 2\n",
    "input_height = 224\n",
    "input_width = 224\n",
    "n_channel_annotations = 1"
   ]
  },
  {
   "cell_type": "code",
   "execution_count": 3,
   "metadata": {},
   "outputs": [
    {
     "name": "stdout",
     "output_type": "stream",
     "text": [
      "Number train images:  376\n",
      "Number val images:  15\n",
      "Number test images:  14\n"
     ]
    }
   ],
   "source": [
    "print('Number train images: ', len(glob.glob(path_train_images + '*.png')))\n",
    "print('Number val images: ', len(glob.glob(path_val_images + '*.png')))\n",
    "print('Number test images: ', len(glob.glob(path_test_images + '*.png')))"
   ]
  },
  {
   "cell_type": "code",
   "execution_count": 4,
   "metadata": {},
   "outputs": [],
   "source": [
    "model_name = 'vgg_bayesian_segnet'\n",
    "epochs = 50\n",
    "train_batch_size = 8\n",
    "val_batch_size = len(glob.glob(path_val_images + '*.png'))"
   ]
  },
  {
   "cell_type": "code",
   "execution_count": 5,
   "metadata": {},
   "outputs": [
    {
     "name": "stdout",
     "output_type": "stream",
     "text": [
      "[0.97276311 0.02723689]\n",
      "[ 1.         35.71490846]\n",
      "[0.02761469 3.6031829 ]\n"
     ]
    }
   ],
   "source": [
    "optimizer = 'adadelta'\n",
    "metrics = ['accuracy', dice, iou]\n",
    "\n",
    "class_props = calc_class_proportions(path_train_annotations, n_classes, n_channel_annotations)\n",
    "class_weights = calc_class_weights(path_train_annotations, n_classes, n_channel_annotations)\n",
    "class_weights_log = calc_class_weights(path_train_annotations, n_classes, n_channel_annotations, scale = 'log')\n",
    "\n",
    "print(class_props)\n",
    "print(class_weights)\n",
    "print(class_weights_log)\n",
    "\n",
    "loss = weighted_categorical_crossentropy_loss(class_weights_log)"
   ]
  },
  {
   "cell_type": "code",
   "execution_count": 6,
   "metadata": {},
   "outputs": [
    {
     "name": "stdout",
     "output_type": "stream",
     "text": [
      "Model output shape (None, 50176, 2)\n",
      "Epoch 0\n",
      "Epoch 1/1\n",
      "47/47 [==============================] - 1555s 33s/step - loss: 0.0482 - acc: 0.5909 - dice: 0.0840 - iou: 0.0441 - val_loss: 0.1217 - val_acc: 0.8985 - val_dice: 0.1017 - val_iou: 0.0536\n",
      "Epoch 1\n",
      "Epoch 1/1\n",
      "47/47 [==============================] - 1624s 35s/step - loss: 0.0303 - acc: 0.6411 - dice: 0.1080 - iou: 0.0574 - val_loss: 0.0804 - val_acc: 0.8406 - val_dice: 0.1021 - val_iou: 0.0538\n",
      "Epoch 2\n",
      "Epoch 1/1\n",
      "47/47 [==============================] - 1624s 35s/step - loss: 0.0249 - acc: 0.7273 - dice: 0.1388 - iou: 0.0751 - val_loss: 0.0890 - val_acc: 0.9258 - val_dice: 0.0752 - val_iou: 0.0391\n",
      "Epoch 3\n",
      "Epoch 1/1\n",
      "47/47 [==============================] - 1634s 35s/step - loss: 0.0216 - acc: 0.8015 - dice: 0.1817 - iou: 0.1009 - val_loss: 0.0776 - val_acc: 0.9100 - val_dice: 0.0851 - val_iou: 0.0444\n",
      "Epoch 4\n",
      "Epoch 1/1\n",
      "47/47 [==============================] - 1634s 35s/step - loss: 0.0195 - acc: 0.8361 - dice: 0.2116 - iou: 0.1197 - val_loss: 0.0816 - val_acc: 0.9394 - val_dice: 0.0752 - val_iou: 0.0391\n",
      "Epoch 5\n",
      "Epoch 1/1\n",
      "47/47 [==============================] - 1639s 35s/step - loss: 0.0176 - acc: 0.8759 - dice: 0.2620 - iou: 0.1529 - val_loss: 0.0805 - val_acc: 0.9400 - val_dice: 0.0873 - val_iou: 0.0457\n",
      "Epoch 6\n",
      "Epoch 1/1\n",
      "47/47 [==============================] - 1632s 35s/step - loss: 0.0163 - acc: 0.8879 - dice: 0.2819 - iou: 0.1667 - val_loss: 0.0804 - val_acc: 0.9525 - val_dice: 0.1127 - val_iou: 0.0597\n",
      "Epoch 7\n",
      "Epoch 1/1\n",
      "47/47 [==============================] - 1637s 35s/step - loss: 0.0143 - acc: 0.9130 - dice: 0.3348 - iou: 0.2045 - val_loss: 0.0895 - val_acc: 0.9689 - val_dice: 0.0676 - val_iou: 0.0350\n",
      "Epoch 8\n",
      "Epoch 1/1\n",
      "47/47 [==============================] - 1631s 35s/step - loss: 0.0148 - acc: 0.9109 - dice: 0.3296 - iou: 0.2008 - val_loss: 0.0930 - val_acc: 0.9682 - val_dice: 0.0586 - val_iou: 0.0302\n",
      "Epoch 9\n",
      "Epoch 1/1\n",
      "47/47 [==============================] - 1637s 35s/step - loss: 0.0132 - acc: 0.9181 - dice: 0.3484 - iou: 0.2149 - val_loss: 0.0921 - val_acc: 0.9710 - val_dice: 0.1173 - val_iou: 0.0623\n",
      "Epoch 10\n",
      "Epoch 1/1\n",
      "47/47 [==============================] - 1635s 35s/step - loss: 0.0122 - acc: 0.9277 - dice: 0.3752 - iou: 0.2350 - val_loss: 0.1072 - val_acc: 0.9683 - val_dice: 0.0000e+00 - val_iou: 0.0000e+00\n",
      "Epoch 11\n",
      "Epoch 1/1\n",
      "47/47 [==============================] - 1637s 35s/step - loss: 0.0107 - acc: 0.9404 - dice: 0.4188 - iou: 0.2692 - val_loss: 0.1059 - val_acc: 0.9735 - val_dice: 0.0405 - val_iou: 0.0207\n",
      "Epoch 12\n",
      "Epoch 1/1\n",
      "47/47 [==============================] - 1641s 35s/step - loss: 0.0099 - acc: 0.9479 - dice: 0.4497 - iou: 0.2943 - val_loss: 0.0940 - val_acc: 0.9659 - val_dice: 0.1530 - val_iou: 0.0828\n",
      "Epoch 13\n",
      "Epoch 1/1\n",
      "47/47 [==============================] - 1633s 35s/step - loss: 0.0097 - acc: 0.9484 - dice: 0.4528 - iou: 0.2976 - val_loss: 0.1080 - val_acc: 0.9730 - val_dice: 0.0827 - val_iou: 0.0431\n",
      "Epoch 14\n",
      "Epoch 1/1\n",
      "47/47 [==============================] - 1631s 35s/step - loss: 0.0091 - acc: 0.9501 - dice: 0.4605 - iou: 0.3037 - val_loss: 0.1162 - val_acc: 0.9751 - val_dice: 0.0456 - val_iou: 0.0234\n",
      "Epoch 15\n",
      "Epoch 1/1\n",
      "47/47 [==============================] - 1630s 35s/step - loss: 0.0084 - acc: 0.9552 - dice: 0.4867 - iou: 0.3261 - val_loss: 0.1230 - val_acc: 0.9709 - val_dice: 0.0148 - val_iou: 0.0074\n",
      "Epoch 16\n",
      "Epoch 1/1\n",
      "47/47 [==============================] - 1637s 35s/step - loss: 0.0079 - acc: 0.9565 - dice: 0.4943 - iou: 0.3331 - val_loss: 0.1303 - val_acc: 0.9789 - val_dice: 0.0000e+00 - val_iou: 0.0000e+00\n",
      "Epoch 17\n",
      "Epoch 1/1\n",
      "47/47 [==============================] - 1636s 35s/step - loss: 0.0071 - acc: 0.9611 - dice: 0.5207 - iou: 0.3567 - val_loss: 0.1317 - val_acc: 0.9806 - val_dice: 0.0128 - val_iou: 0.0065\n",
      "Epoch 18\n",
      "Epoch 1/1\n",
      "47/47 [==============================] - 1634s 35s/step - loss: 0.0069 - acc: 0.9618 - dice: 0.5255 - iou: 0.3611 - val_loss: 0.1380 - val_acc: 0.9812 - val_dice: 0.0269 - val_iou: 0.0136\n",
      "Epoch 19\n",
      "Epoch 1/1\n",
      "47/47 [==============================] - 1637s 35s/step - loss: 0.0065 - acc: 0.9641 - dice: 0.5408 - iou: 0.3757 - val_loss: 0.1398 - val_acc: 0.9824 - val_dice: 0.0321 - val_iou: 0.0163\n",
      "Epoch 20\n",
      "Epoch 1/1\n",
      "47/47 [==============================] - 1633s 35s/step - loss: 0.0062 - acc: 0.9650 - dice: 0.5461 - iou: 0.3806 - val_loss: 0.1459 - val_acc: 0.9789 - val_dice: 6.2826e-04 - val_iou: 3.1423e-04\n",
      "Epoch 21\n",
      "Epoch 1/1\n",
      "47/47 [==============================] - 1637s 35s/step - loss: 0.0062 - acc: 0.9659 - dice: 0.5525 - iou: 0.3864 - val_loss: 0.1422 - val_acc: 0.9791 - val_dice: 0.0949 - val_iou: 0.0498\n",
      "Epoch 22\n",
      "Epoch 1/1\n",
      "47/47 [==============================] - 1645s 35s/step - loss: 0.0060 - acc: 0.9655 - dice: 0.5497 - iou: 0.3834 - val_loss: 0.1425 - val_acc: 0.9715 - val_dice: 0.0924 - val_iou: 0.0485\n",
      "Epoch 23\n",
      "Epoch 1/1\n",
      "47/47 [==============================] - 1635s 35s/step - loss: 0.0062 - acc: 0.9642 - dice: 0.5405 - iou: 0.3754 - val_loss: 0.1519 - val_acc: 0.9803 - val_dice: 0.0753 - val_iou: 0.0391\n",
      "Epoch 24\n",
      "Epoch 1/1\n",
      "47/47 [==============================] - 1635s 35s/step - loss: 0.0060 - acc: 0.9650 - dice: 0.5466 - iou: 0.3810 - val_loss: 0.1549 - val_acc: 0.9772 - val_dice: 0.0689 - val_iou: 0.0357\n",
      "Epoch 25\n",
      "Epoch 1/1\n",
      "47/47 [==============================] - 1605s 34s/step - loss: 0.0057 - acc: 0.9655 - dice: 0.5491 - iou: 0.3830 - val_loss: 0.1553 - val_acc: 0.9757 - val_dice: 0.0902 - val_iou: 0.0472\n",
      "Epoch 26\n",
      "Epoch 1/1\n",
      "47/47 [==============================] - 957s 20s/step - loss: 0.0052 - acc: 0.9678 - dice: 0.5665 - iou: 0.3991 - val_loss: 0.1711 - val_acc: 0.9817 - val_dice: 0.0197 - val_iou: 0.0100\n",
      "Epoch 27\n",
      "Epoch 1/1\n",
      "47/47 [==============================] - 851s 18s/step - loss: 0.0046 - acc: 0.9700 - dice: 0.5835 - iou: 0.4164 - val_loss: 0.1733 - val_acc: 0.9795 - val_dice: 0.0349 - val_iou: 0.0178\n",
      "Epoch 28\n",
      "Epoch 1/1\n",
      "47/47 [==============================] - 850s 18s/step - loss: 0.0045 - acc: 0.9724 - dice: 0.6029 - iou: 0.4357 - val_loss: 0.1703 - val_acc: 0.9815 - val_dice: 0.0573 - val_iou: 0.0295\n",
      "Epoch 29\n",
      "Epoch 1/1\n",
      "47/47 [==============================] - 850s 18s/step - loss: 0.0046 - acc: 0.9718 - dice: 0.5976 - iou: 0.4303 - val_loss: 0.1705 - val_acc: 0.9793 - val_dice: 0.0913 - val_iou: 0.0478\n",
      "Epoch 30\n",
      "Epoch 1/1\n",
      "47/47 [==============================] - 851s 18s/step - loss: 0.0043 - acc: 0.9727 - dice: 0.6054 - iou: 0.4379 - val_loss: 0.1758 - val_acc: 0.9792 - val_dice: 0.0633 - val_iou: 0.0327\n",
      "Epoch 31\n",
      "Epoch 1/1\n",
      "47/47 [==============================] - 849s 18s/step - loss: 0.0041 - acc: 0.9736 - dice: 0.6126 - iou: 0.4453 - val_loss: 0.1841 - val_acc: 0.9801 - val_dice: 0.0391 - val_iou: 0.0199\n",
      "Epoch 32\n",
      "Epoch 1/1\n",
      "47/47 [==============================] - 850s 18s/step - loss: 0.0039 - acc: 0.9743 - dice: 0.6197 - iou: 0.4526 - val_loss: 0.1869 - val_acc: 0.9817 - val_dice: 0.0504 - val_iou: 0.0259\n",
      "Epoch 33\n",
      "Epoch 1/1\n",
      "47/47 [==============================] - 848s 18s/step - loss: 0.0038 - acc: 0.9753 - dice: 0.6292 - iou: 0.4628 - val_loss: 0.1851 - val_acc: 0.9799 - val_dice: 0.0597 - val_iou: 0.0308\n",
      "Epoch 34\n",
      "Epoch 1/1\n",
      "47/47 [==============================] - 1018s 22s/step - loss: 0.0039 - acc: 0.9751 - dice: 0.6270 - iou: 0.4603 - val_loss: 0.1847 - val_acc: 0.9786 - val_dice: 0.0904 - val_iou: 0.0474\n",
      "Epoch 35\n",
      "Epoch 1/1\n",
      "47/47 [==============================] - 851s 18s/step - loss: 0.0037 - acc: 0.9758 - dice: 0.6332 - iou: 0.4667 - val_loss: 0.1927 - val_acc: 0.9799 - val_dice: 0.0644 - val_iou: 0.0332\n",
      "Epoch 36\n",
      "Epoch 1/1\n",
      "47/47 [==============================] - 856s 18s/step - loss: 0.0036 - acc: 0.9761 - dice: 0.6359 - iou: 0.4695 - val_loss: 0.1863 - val_acc: 0.9789 - val_dice: 0.1057 - val_iou: 0.0558\n",
      "Epoch 37\n",
      "Epoch 1/1\n",
      "47/47 [==============================] - 854s 18s/step - loss: 0.0036 - acc: 0.9759 - dice: 0.6339 - iou: 0.4676 - val_loss: 0.2005 - val_acc: 0.9805 - val_dice: 0.0616 - val_iou: 0.0318\n",
      "Epoch 38\n",
      "Epoch 1/1\n",
      "47/47 [==============================] - 852s 18s/step - loss: 0.0035 - acc: 0.9770 - dice: 0.6454 - iou: 0.4794 - val_loss: 0.1891 - val_acc: 0.9790 - val_dice: 0.1356 - val_iou: 0.0728\n",
      "Epoch 39\n",
      "Epoch 1/1\n",
      "47/47 [==============================] - 850s 18s/step - loss: 0.0035 - acc: 0.9765 - dice: 0.6402 - iou: 0.4743 - val_loss: 0.1981 - val_acc: 0.9788 - val_dice: 0.0911 - val_iou: 0.0477\n",
      "Epoch 40\n",
      "Epoch 1/1\n",
      "47/47 [==============================] - 852s 18s/step - loss: 0.0034 - acc: 0.9772 - dice: 0.6476 - iou: 0.4821 - val_loss: 0.2010 - val_acc: 0.9766 - val_dice: 0.0807 - val_iou: 0.0420\n",
      "Epoch 41\n",
      "Epoch 1/1\n",
      "47/47 [==============================] - 851s 18s/step - loss: 0.0034 - acc: 0.9771 - dice: 0.6464 - iou: 0.4807 - val_loss: 0.2068 - val_acc: 0.9776 - val_dice: 0.0529 - val_iou: 0.0271\n",
      "Epoch 42\n",
      "Epoch 1/1\n",
      "47/47 [==============================] - 852s 18s/step - loss: 0.0033 - acc: 0.9780 - dice: 0.6553 - iou: 0.4907 - val_loss: 0.2088 - val_acc: 0.9779 - val_dice: 0.0518 - val_iou: 0.0266\n",
      "Epoch 43\n",
      "Epoch 1/1\n",
      "47/47 [==============================] - 853s 18s/step - loss: 0.0032 - acc: 0.9781 - dice: 0.6560 - iou: 0.4911 - val_loss: 0.2069 - val_acc: 0.9794 - val_dice: 0.0942 - val_iou: 0.0494\n",
      "Epoch 44\n",
      "Epoch 1/1\n",
      "47/47 [==============================] - 850s 18s/step - loss: 0.0032 - acc: 0.9784 - dice: 0.6591 - iou: 0.4946 - val_loss: 0.2141 - val_acc: 0.9789 - val_dice: 0.0552 - val_iou: 0.0284\n",
      "Epoch 45\n",
      "Epoch 1/1\n",
      "47/47 [==============================] - 851s 18s/step - loss: 0.0032 - acc: 0.9783 - dice: 0.6581 - iou: 0.4938 - val_loss: 0.2173 - val_acc: 0.9794 - val_dice: 0.0461 - val_iou: 0.0236\n",
      "Epoch 46\n",
      "Epoch 1/1\n",
      "47/47 [==============================] - 851s 18s/step - loss: 0.0031 - acc: 0.9786 - dice: 0.6613 - iou: 0.4968 - val_loss: 0.2182 - val_acc: 0.9786 - val_dice: 0.0496 - val_iou: 0.0254\n",
      "Epoch 47\n",
      "Epoch 1/1\n",
      "47/47 [==============================] - 852s 18s/step - loss: 0.0032 - acc: 0.9780 - dice: 0.6555 - iou: 0.4911 - val_loss: 0.2237 - val_acc: 0.9803 - val_dice: 0.0288 - val_iou: 0.0146\n",
      "Epoch 48\n",
      "Epoch 1/1\n",
      "47/47 [==============================] - 852s 18s/step - loss: 0.0031 - acc: 0.9787 - dice: 0.6631 - iou: 0.4991 - val_loss: 0.2103 - val_acc: 0.9783 - val_dice: 0.1260 - val_iou: 0.0672\n",
      "Epoch 49\n",
      "Epoch 1/1\n",
      "47/47 [==============================] - 850s 18s/step - loss: 0.0029 - acc: 0.9796 - dice: 0.6719 - iou: 0.5090 - val_loss: 0.2147 - val_acc: 0.9787 - val_dice: 0.1152 - val_iou: 0.0611\n"
     ]
    },
    {
     "data": {
      "image/png": "[encoded data removed]",
      "text/plain": [
       "<Figure size 432x288 with 1 Axes>"
      ]
     },
     "metadata": {
      "needs_background": "light"
     },
     "output_type": "display_data"
    },
    {
     "data": {
      "image/png": "[encoded data removed]",
      "text/plain": [
       "<Figure size 432x288 with 1 Axes>"
      ]
     },
     "metadata": {
      "needs_background": "light"
     },
     "output_type": "display_data"
    }
   ],
   "source": [
    "start = timeit.default_timer()\n",
    "train(\n",
    "    path_train_images, path_train_annotations, train_batch_size, \n",
    "    path_val_images, path_val_annotations, val_batch_size,\n",
    "    n_classes, input_width, input_height, \n",
    "    model_name, epochs, loss, optimizer, metrics,\n",
    "    path_save_weights, path_vgg_weights = path_vgg_weights, train_vgg = train_vgg, path_load_weights = None\n",
    ")\n",
    "end = timeit.default_timer()"
   ]
  },
  {
   "cell_type": "code",
   "execution_count": 7,
   "metadata": {},
   "outputs": [
    {
     "name": "stdout",
     "output_type": "stream",
     "text": [
      "Total training time:  63144.430304979\n"
     ]
    }
   ],
   "source": [
    "print('Total training time: ', end - start)"
   ]
  },
  {
   "cell_type": "code",
   "execution_count": 9,
   "metadata": {},
   "outputs": [],
   "source": [
    "epochs = 49"
   ]
  },
  {
   "cell_type": "code",
   "execution_count": 10,
   "metadata": {},
   "outputs": [
    {
     "name": "stdout",
     "output_type": "stream",
     "text": [
      "              precision    recall  f1-score   support\n",
      "\n",
      "           0       1.00      0.99      0.99  18452344\n",
      "           1       0.67      0.98      0.80    413832\n",
      "\n",
      "   micro avg       0.99      0.99      0.99  18866176\n",
      "   macro avg       0.84      0.98      0.90  18866176\n",
      "weighted avg       0.99      0.99      0.99  18866176\n",
      "\n",
      "F1/dice (binary):  0.7960575760948687\n",
      "Jaccard/IOU:  0.661209008245395\n"
     ]
    }
   ],
   "source": [
    "predict(\n",
    "    path_train_images, path_train_annotations, path_train_predictions,\n",
    "    n_classes, input_width, input_height, \n",
    "    model_name, epochs, loss, optimizer, metrics, \n",
    "    path_save_weights\n",
    ")"
   ]
  },
  {
   "cell_type": "code",
   "execution_count": null,
   "metadata": {},
   "outputs": [],
   "source": [
    "visualize_dataset(\n",
    "    path_train_images, path_train_annotations, \n",
    "    n_classes, n_channel_annotations = n_channel_annotations,\n",
    "    dir_predictions = path_train_predictions\n",
    ")"
   ]
  },
  {
   "cell_type": "code",
   "execution_count": 12,
   "metadata": {},
   "outputs": [
    {
     "name": "stdout",
     "output_type": "stream",
     "text": [
      "              precision    recall  f1-score   support\n",
      "\n",
      "           0       0.99      0.99      0.99    740323\n",
      "           1       0.18      0.10      0.13     12317\n",
      "\n",
      "   micro avg       0.98      0.98      0.98    752640\n",
      "   macro avg       0.58      0.54      0.56    752640\n",
      "weighted avg       0.97      0.98      0.97    752640\n",
      "\n",
      "F1/dice (binary):  0.12596992561673892\n",
      "Jaccard/IOU:  0.06721873215305539\n"
     ]
    }
   ],
   "source": [
    "predict(\n",
    "    path_val_images, path_val_annotations, path_val_predictions,\n",
    "    n_classes, input_width, input_height, \n",
    "    model_name, epochs, loss, optimizer, metrics,\n",
    "    path_save_weights\n",
    ")"
   ]
  },
  {
   "cell_type": "code",
   "execution_count": null,
   "metadata": {},
   "outputs": [],
   "source": [
    "visualize_dataset(\n",
    "    path_val_images, path_val_annotations, \n",
    "    n_classes, n_channel_annotations = n_channel_annotations,\n",
    "    dir_predictions = path_val_predictions\n",
    ")"
   ]
  },
  {
   "cell_type": "code",
   "execution_count": 14,
   "metadata": {},
   "outputs": [
    {
     "name": "stdout",
     "output_type": "stream",
     "text": [
      "              precision    recall  f1-score   support\n",
      "\n",
      "           0       0.99      0.99      0.99    686380\n",
      "           1       0.37      0.37      0.37     16084\n",
      "\n",
      "   micro avg       0.97      0.97      0.97    702464\n",
      "   macro avg       0.68      0.68      0.68    702464\n",
      "weighted avg       0.97      0.97      0.97    702464\n",
      "\n",
      "F1/dice (binary):  0.37064048620850865\n",
      "Jaccard/IOU:  0.22747618501090325\n"
     ]
    }
   ],
   "source": [
    "predict(\n",
    "    path_test_images, path_test_annotations, path_test_predictions,\n",
    "    n_classes, input_width, input_height, \n",
    "    model_name, epochs, loss, optimizer, metrics,\n",
    "    path_save_weights\n",
    ")"
   ]
  },
  {
   "cell_type": "code",
   "execution_count": null,
   "metadata": {},
   "outputs": [],
   "source": [
    "visualize_dataset(\n",
    "    path_test_images, path_test_annotations, \n",
    "    n_classes, n_channel_annotations = n_channel_annotations, \n",
    "    dir_predictions = path_test_predictions\n",
    ")"
   ]
  }
 ],
 "metadata": {
  "kernelspec": {
   "display_name": "Python 3",
   "language": "python",
   "name": "python3"
  },
  "language_info": {
   "codemirror_mode": {
    "name": "ipython",
    "version": 3
   },
   "file_extension": ".py",
   "mimetype": "text/x-python",
   "name": "python",
   "nbconvert_exporter": "python",
   "pygments_lexer": "ipython3",
   "version": "3.5.2"
  }
 },
 "nbformat": 4,
 "nbformat_minor": 2
}
