{
 "cells": [
  {
   "cell_type": "code",
   "execution_count": 1,
   "metadata": {},
   "outputs": [
    {
     "name": "stderr",
     "output_type": "stream",
     "text": [
      "Using TensorFlow backend.\n"
     ]
    }
   ],
   "source": [
    "import glob\n",
    "import math\n",
    "import sys\n",
    "import timeit\n",
    "\n",
    "sys.path.insert(0, '../../')\n",
    "from visualize_dataset import *\n",
    "from losses import *\n",
    "from metrics import *\n",
    "from predict import *\n",
    "from train import *\n",
    "from utils import *"
   ]
  },
  {
   "cell_type": "code",
   "execution_count": 2,
   "metadata": {},
   "outputs": [],
   "source": [
    "path_train_images = '../../../data/stanford_t2_cropped/train/Slice/'\n",
    "path_train_annotations = '../../../data/stanford_t2_cropped/train/ROI/'\n",
    "path_train_predictions = './predictions.50e/train/'\n",
    "\n",
    "path_val_images = '../../../data/stanford_t2_cropped/val/Slice/'\n",
    "path_val_annotations = '../../../data/stanford_t2_cropped/val/ROI/'\n",
    "path_val_predictions = './predictions.50e/val/'\n",
    "\n",
    "path_test_images = '../../../data/stanford_t2_cropped/test/Slice/'\n",
    "path_test_annotations = '../../../data/stanford_t2_cropped/test/ROI/'\n",
    "path_test_predictions = './predictions.50e/test/'\n",
    "\n",
    "path_save_weights = './weights.50e/'\n",
    "path_load_weights = None\n",
    "\n",
    "train_vgg = False\n",
    "path_vgg_weights = '../../../data/vgg16_weights_th_dim_ordering_th_kernels.h5'\n",
    "\n",
    "n_classes = 2\n",
    "input_height = 224\n",
    "input_width = 224\n",
    "n_channel_annotations = 1"
   ]
  },
  {
   "cell_type": "code",
   "execution_count": 3,
   "metadata": {},
   "outputs": [
    {
     "name": "stdout",
     "output_type": "stream",
     "text": [
      "Number train images:  728\n",
      "Number val images:  36\n",
      "Number test images:  35\n"
     ]
    }
   ],
   "source": [
    "print('Number train images: ', len(glob.glob(path_train_images + '*.png')))\n",
    "print('Number val images: ', len(glob.glob(path_val_images + '*.png')))\n",
    "print('Number test images: ', len(glob.glob(path_test_images + '*.png')))"
   ]
  },
  {
   "cell_type": "code",
   "execution_count": 4,
   "metadata": {},
   "outputs": [],
   "source": [
    "model_name = 'vgg_bayesian_segnet'\n",
    "epochs = 50\n",
    "train_batch_size = 8\n",
    "val_batch_size = len(glob.glob(path_val_images + '*.png'))"
   ]
  },
  {
   "cell_type": "code",
   "execution_count": 5,
   "metadata": {},
   "outputs": [
    {
     "name": "stdout",
     "output_type": "stream",
     "text": [
      "[0.98302371 0.01697629]\n",
      "[ 1.         57.90569446]\n",
      "[0.01712204 4.07593777]\n"
     ]
    }
   ],
   "source": [
    "optimizer = 'adadelta'\n",
    "metrics = ['accuracy', dice, iou]\n",
    "\n",
    "class_props = calc_class_proportions(path_train_annotations, n_classes, n_channel_annotations)\n",
    "class_weights = calc_class_weights(path_train_annotations, n_classes, n_channel_annotations)\n",
    "class_weights_log = calc_class_weights(path_train_annotations, n_classes, n_channel_annotations, scale = 'log')\n",
    "\n",
    "print(class_props)\n",
    "print(class_weights)\n",
    "print(class_weights_log)\n",
    "\n",
    "loss = weighted_categorical_crossentropy_loss(class_weights_log)"
   ]
  },
  {
   "cell_type": "code",
   "execution_count": 6,
   "metadata": {},
   "outputs": [
    {
     "name": "stdout",
     "output_type": "stream",
     "text": [
      "Model output shape (None, 50176, 2)\n",
      "Epoch 0\n",
      "Epoch 1/1\n",
      "91/91 [==============================] - 545s 6s/step - loss: 0.0303 - acc: 0.5627 - dice: 0.0686 - iou: 0.0356 - val_loss: 0.0424 - val_acc: 0.7939 - val_dice: 0.1012 - val_iou: 0.0533\n",
      "Epoch 1\n",
      "Epoch 1/1\n",
      "91/91 [==============================] - 538s 6s/step - loss: 0.0195 - acc: 0.6718 - dice: 0.0939 - iou: 0.0494 - val_loss: 0.0313 - val_acc: 0.7456 - val_dice: 0.0950 - val_iou: 0.0498\n",
      "Epoch 2\n",
      "Epoch 1/1\n",
      "91/91 [==============================] - 539s 6s/step - loss: 0.0157 - acc: 0.7452 - dice: 0.1177 - iou: 0.0629 - val_loss: 0.0893 - val_acc: 0.9038 - val_dice: 0.0533 - val_iou: 0.0274\n",
      "Epoch 3\n",
      "Epoch 1/1\n",
      "91/91 [==============================] - 539s 6s/step - loss: 0.0137 - acc: 0.7969 - dice: 0.1439 - iou: 0.0781 - val_loss: 0.0528 - val_acc: 0.8787 - val_dice: 0.1257 - val_iou: 0.0671\n",
      "Epoch 4\n",
      "Epoch 1/1\n",
      "91/91 [==============================] - 539s 6s/step - loss: 0.0114 - acc: 0.8483 - dice: 0.1836 - iou: 0.1021 - val_loss: 0.0764 - val_acc: 0.9048 - val_dice: 0.0925 - val_iou: 0.0485\n",
      "Epoch 5\n",
      "Epoch 1/1\n",
      "91/91 [==============================] - 541s 6s/step - loss: 0.0102 - acc: 0.8731 - dice: 0.2118 - iou: 0.1197 - val_loss: 0.0808 - val_acc: 0.9372 - val_dice: 0.1296 - val_iou: 0.0693\n",
      "Epoch 6\n",
      "Epoch 1/1\n",
      "91/91 [==============================] - 544s 6s/step - loss: 0.0089 - acc: 0.8916 - dice: 0.2398 - iou: 0.1380 - val_loss: 0.1046 - val_acc: 0.9459 - val_dice: 0.0749 - val_iou: 0.0389\n",
      "Epoch 7\n",
      "Epoch 1/1\n",
      "91/91 [==============================] - 542s 6s/step - loss: 0.0080 - acc: 0.9095 - dice: 0.2734 - iou: 0.1608 - val_loss: 0.0942 - val_acc: 0.9374 - val_dice: 0.1082 - val_iou: 0.0572\n",
      "Epoch 8\n",
      "Epoch 1/1\n",
      "91/91 [==============================] - 544s 6s/step - loss: 0.0069 - acc: 0.9212 - dice: 0.3027 - iou: 0.1814 - val_loss: 0.1141 - val_acc: 0.9587 - val_dice: 0.1013 - val_iou: 0.0533\n",
      "Epoch 9\n",
      "Epoch 1/1\n",
      "91/91 [==============================] - 543s 6s/step - loss: 0.0060 - acc: 0.9356 - dice: 0.3445 - iou: 0.2116 - val_loss: 0.1322 - val_acc: 0.9637 - val_dice: 0.0568 - val_iou: 0.0292\n",
      "Epoch 10\n",
      "Epoch 1/1\n",
      "91/91 [==============================] - 544s 6s/step - loss: 0.0054 - acc: 0.9431 - dice: 0.3712 - iou: 0.2315 - val_loss: 0.1159 - val_acc: 0.9422 - val_dice: 0.0932 - val_iou: 0.0489\n",
      "Epoch 11\n",
      "Epoch 1/1\n",
      "91/91 [==============================] - 543s 6s/step - loss: 0.0055 - acc: 0.9430 - dice: 0.3708 - iou: 0.2313 - val_loss: 0.1250 - val_acc: 0.9510 - val_dice: 0.0970 - val_iou: 0.0510\n",
      "Epoch 12\n",
      "Epoch 1/1\n",
      "91/91 [==============================] - 543s 6s/step - loss: 0.0053 - acc: 0.9458 - dice: 0.3822 - iou: 0.2401 - val_loss: 0.1181 - val_acc: 0.9444 - val_dice: 0.1185 - val_iou: 0.0630\n",
      "Epoch 13\n",
      "Epoch 1/1\n",
      "91/91 [==============================] - 545s 6s/step - loss: 0.0054 - acc: 0.9400 - dice: 0.3598 - iou: 0.2230 - val_loss: 0.1573 - val_acc: 0.9655 - val_dice: 0.0561 - val_iou: 0.0289\n",
      "Epoch 14\n",
      "Epoch 1/1\n",
      "91/91 [==============================] - 542s 6s/step - loss: 0.0045 - acc: 0.9508 - dice: 0.4047 - iou: 0.2577 - val_loss: 0.1558 - val_acc: 0.9519 - val_dice: 0.0424 - val_iou: 0.0217\n",
      "Epoch 15\n",
      "Epoch 1/1\n",
      "91/91 [==============================] - 547s 6s/step - loss: 0.0040 - acc: 0.9553 - dice: 0.4280 - iou: 0.2768 - val_loss: 0.1562 - val_acc: 0.9630 - val_dice: 0.0916 - val_iou: 0.0480\n",
      "Epoch 16\n",
      "Epoch 1/1\n",
      "91/91 [==============================] - 545s 6s/step - loss: 0.0036 - acc: 0.9599 - dice: 0.4529 - iou: 0.2971 - val_loss: 0.1845 - val_acc: 0.9763 - val_dice: 0.0334 - val_iou: 0.0170\n",
      "Epoch 17\n",
      "Epoch 1/1\n",
      "91/91 [==============================] - 542s 6s/step - loss: 0.0036 - acc: 0.9618 - dice: 0.4649 - iou: 0.3077 - val_loss: 0.1688 - val_acc: 0.9657 - val_dice: 0.0827 - val_iou: 0.0432\n",
      "Epoch 18\n",
      "Epoch 1/1\n",
      "91/91 [==============================] - 543s 6s/step - loss: 0.0035 - acc: 0.9622 - dice: 0.4671 - iou: 0.3095 - val_loss: 0.1799 - val_acc: 0.9644 - val_dice: 0.0512 - val_iou: 0.0263\n",
      "Epoch 19\n",
      "Epoch 1/1\n",
      "91/91 [==============================] - 542s 6s/step - loss: 0.0032 - acc: 0.9650 - dice: 0.4856 - iou: 0.3253 - val_loss: 0.1702 - val_acc: 0.9682 - val_dice: 0.0972 - val_iou: 0.0511\n",
      "Epoch 20\n",
      "Epoch 1/1\n",
      "91/91 [==============================] - 542s 6s/step - loss: 0.0030 - acc: 0.9670 - dice: 0.4993 - iou: 0.3374 - val_loss: 0.1892 - val_acc: 0.9712 - val_dice: 0.0644 - val_iou: 0.0333\n",
      "Epoch 21\n",
      "Epoch 1/1\n",
      "91/91 [==============================] - 540s 6s/step - loss: 0.0029 - acc: 0.9686 - dice: 0.5111 - iou: 0.3478 - val_loss: 0.1983 - val_acc: 0.9756 - val_dice: 0.0609 - val_iou: 0.0314\n",
      "Epoch 22\n",
      "Epoch 1/1\n",
      "91/91 [==============================] - 541s 6s/step - loss: 0.0027 - acc: 0.9711 - dice: 0.5320 - iou: 0.3672 - val_loss: 0.1763 - val_acc: 0.9678 - val_dice: 0.1193 - val_iou: 0.0634\n",
      "Epoch 23\n",
      "Epoch 1/1\n",
      "91/91 [==============================] - 540s 6s/step - loss: 0.0026 - acc: 0.9713 - dice: 0.5330 - iou: 0.3680 - val_loss: 0.1980 - val_acc: 0.9746 - val_dice: 0.0874 - val_iou: 0.0457\n",
      "Epoch 24\n",
      "Epoch 1/1\n",
      "91/91 [==============================] - 541s 6s/step - loss: 0.0025 - acc: 0.9727 - dice: 0.5455 - iou: 0.3798 - val_loss: 0.1591 - val_acc: 0.9618 - val_dice: 0.1503 - val_iou: 0.0813\n",
      "Epoch 25\n",
      "Epoch 1/1\n",
      "91/91 [==============================] - 542s 6s/step - loss: 0.0025 - acc: 0.9729 - dice: 0.5468 - iou: 0.3810 - val_loss: 0.2152 - val_acc: 0.9703 - val_dice: 0.0340 - val_iou: 0.0173\n",
      "Epoch 26\n",
      "Epoch 1/1\n",
      "91/91 [==============================] - 541s 6s/step - loss: 0.0026 - acc: 0.9721 - dice: 0.5400 - iou: 0.3747 - val_loss: 0.2010 - val_acc: 0.9689 - val_dice: 0.0877 - val_iou: 0.0458\n",
      "Epoch 27\n",
      "Epoch 1/1\n",
      "91/91 [==============================] - 542s 6s/step - loss: 0.0026 - acc: 0.9721 - dice: 0.5406 - iou: 0.3753 - val_loss: 0.2181 - val_acc: 0.9741 - val_dice: 0.0489 - val_iou: 0.0251\n",
      "Epoch 28\n",
      "Epoch 1/1\n",
      "91/91 [==============================] - 543s 6s/step - loss: 0.0024 - acc: 0.9736 - dice: 0.5530 - iou: 0.3865 - val_loss: 0.2223 - val_acc: 0.9762 - val_dice: 0.0600 - val_iou: 0.0310\n",
      "Epoch 29\n",
      "Epoch 1/1\n",
      "91/91 [==============================] - 541s 6s/step - loss: 0.0023 - acc: 0.9751 - dice: 0.5669 - iou: 0.3997 - val_loss: 0.2221 - val_acc: 0.9731 - val_dice: 0.0644 - val_iou: 0.0333\n",
      "Epoch 30\n",
      "Epoch 1/1\n",
      "91/91 [==============================] - 542s 6s/step - loss: 0.0022 - acc: 0.9761 - dice: 0.5771 - iou: 0.4101 - val_loss: 0.2149 - val_acc: 0.9738 - val_dice: 0.0850 - val_iou: 0.0444\n",
      "Epoch 31\n",
      "Epoch 1/1\n",
      "91/91 [==============================] - 540s 6s/step - loss: 0.0020 - acc: 0.9770 - dice: 0.5862 - iou: 0.4190 - val_loss: 0.2301 - val_acc: 0.9778 - val_dice: 0.0507 - val_iou: 0.0260\n",
      "Epoch 32\n",
      "Epoch 1/1\n",
      "91/91 [==============================] - 542s 6s/step - loss: 0.0020 - acc: 0.9778 - dice: 0.5952 - iou: 0.4280 - val_loss: 0.2120 - val_acc: 0.9721 - val_dice: 0.1005 - val_iou: 0.0529\n",
      "Epoch 33\n",
      "Epoch 1/1\n",
      "91/91 [==============================] - 541s 6s/step - loss: 0.0020 - acc: 0.9778 - dice: 0.5945 - iou: 0.4275 - val_loss: 0.2293 - val_acc: 0.9742 - val_dice: 0.0653 - val_iou: 0.0338\n",
      "Epoch 34\n",
      "Epoch 1/1\n",
      "91/91 [==============================] - 542s 6s/step - loss: 0.0020 - acc: 0.9780 - dice: 0.5974 - iou: 0.4300 - val_loss: 0.2209 - val_acc: 0.9720 - val_dice: 0.0868 - val_iou: 0.0453\n",
      "Epoch 35\n",
      "Epoch 1/1\n",
      "91/91 [==============================] - 541s 6s/step - loss: 0.0019 - acc: 0.9784 - dice: 0.6007 - iou: 0.4337 - val_loss: 0.2284 - val_acc: 0.9756 - val_dice: 0.0853 - val_iou: 0.0446\n",
      "Epoch 36\n",
      "Epoch 1/1\n",
      "91/91 [==============================] - 541s 6s/step - loss: 0.0019 - acc: 0.9791 - dice: 0.6088 - iou: 0.4418 - val_loss: 0.2376 - val_acc: 0.9789 - val_dice: 0.0694 - val_iou: 0.0360\n",
      "Epoch 37\n",
      "Epoch 1/1\n",
      "91/91 [==============================] - 541s 6s/step - loss: 0.0018 - acc: 0.9798 - dice: 0.6162 - iou: 0.4493 - val_loss: 0.2433 - val_acc: 0.9754 - val_dice: 0.0524 - val_iou: 0.0269\n",
      "Epoch 38\n",
      "Epoch 1/1\n",
      "91/91 [==============================] - 541s 6s/step - loss: 0.0018 - acc: 0.9799 - dice: 0.6180 - iou: 0.4511 - val_loss: 0.2332 - val_acc: 0.9733 - val_dice: 0.0795 - val_iou: 0.0414\n",
      "Epoch 39\n",
      "Epoch 1/1\n",
      "91/91 [==============================] - 544s 6s/step - loss: 0.0019 - acc: 0.9793 - dice: 0.6112 - iou: 0.4440 - val_loss: 0.2388 - val_acc: 0.9739 - val_dice: 0.0718 - val_iou: 0.0373\n"
     ]
    },
    {
     "name": "stdout",
     "output_type": "stream",
     "text": [
      "Epoch 40\n",
      "Epoch 1/1\n",
      "91/91 [==============================] - 544s 6s/step - loss: 0.0018 - acc: 0.9806 - dice: 0.6260 - iou: 0.4594 - val_loss: 0.2440 - val_acc: 0.9770 - val_dice: 0.0618 - val_iou: 0.0319\n",
      "Epoch 41\n",
      "Epoch 1/1\n",
      "91/91 [==============================] - 545s 6s/step - loss: 0.0018 - acc: 0.9805 - dice: 0.6252 - iou: 0.4584 - val_loss: 0.2441 - val_acc: 0.9733 - val_dice: 0.0632 - val_iou: 0.0326\n",
      "Epoch 42\n",
      "Epoch 1/1\n",
      "91/91 [==============================] - 544s 6s/step - loss: 0.0018 - acc: 0.9801 - dice: 0.6198 - iou: 0.4529 - val_loss: 0.2357 - val_acc: 0.9745 - val_dice: 0.1048 - val_iou: 0.0553\n",
      "Epoch 43\n",
      "Epoch 1/1\n",
      "91/91 [==============================] - 546s 6s/step - loss: 0.0018 - acc: 0.9805 - dice: 0.6246 - iou: 0.4579 - val_loss: 0.2573 - val_acc: 0.9774 - val_dice: 0.0380 - val_iou: 0.0194\n",
      "Epoch 44\n",
      "Epoch 1/1\n",
      "91/91 [==============================] - 545s 6s/step - loss: 0.0017 - acc: 0.9809 - dice: 0.6296 - iou: 0.4631 - val_loss: 0.2412 - val_acc: 0.9761 - val_dice: 0.0981 - val_iou: 0.0516\n",
      "Epoch 45\n",
      "Epoch 1/1\n",
      "91/91 [==============================] - 546s 6s/step - loss: 0.0017 - acc: 0.9815 - dice: 0.6377 - iou: 0.4718 - val_loss: 0.2525 - val_acc: 0.9753 - val_dice: 0.0649 - val_iou: 0.0335\n",
      "Epoch 46\n",
      "Epoch 1/1\n",
      "91/91 [==============================] - 543s 6s/step - loss: 0.0016 - acc: 0.9824 - dice: 0.6480 - iou: 0.4827 - val_loss: 0.2434 - val_acc: 0.9733 - val_dice: 0.0728 - val_iou: 0.0378\n",
      "Epoch 47\n",
      "Epoch 1/1\n",
      "91/91 [==============================] - 541s 6s/step - loss: 0.0016 - acc: 0.9823 - dice: 0.6470 - iou: 0.4818 - val_loss: 0.2454 - val_acc: 0.9749 - val_dice: 0.0906 - val_iou: 0.0475\n",
      "Epoch 48\n",
      "Epoch 1/1\n",
      "91/91 [==============================] - 542s 6s/step - loss: 0.0015 - acc: 0.9828 - dice: 0.6535 - iou: 0.4888 - val_loss: 0.2392 - val_acc: 0.9722 - val_dice: 0.0938 - val_iou: 0.0492\n",
      "Epoch 49\n",
      "Epoch 1/1\n",
      "91/91 [==============================] - 543s 6s/step - loss: 0.0015 - acc: 0.9830 - dice: 0.6569 - iou: 0.4924 - val_loss: 0.2593 - val_acc: 0.9762 - val_dice: 0.0485 - val_iou: 0.0249\n"
     ]
    },
    {
     "data": {
      "image/png": "[encoded data removed]",
      "text/plain": [
       "<Figure size 432x288 with 1 Axes>"
      ]
     },
     "metadata": {
      "needs_background": "light"
     },
     "output_type": "display_data"
    },
    {
     "data": {
      "image/png": "[encoded data removed]",
      "text/plain": [
       "<Figure size 432x288 with 1 Axes>"
      ]
     },
     "metadata": {
      "needs_background": "light"
     },
     "output_type": "display_data"
    }
   ],
   "source": [
    "start = timeit.default_timer()\n",
    "train(\n",
    "    path_train_images, path_train_annotations, train_batch_size, \n",
    "    path_val_images, path_val_annotations, val_batch_size,\n",
    "    n_classes, input_width, input_height, \n",
    "    model_name, epochs, loss, optimizer, metrics,\n",
    "    path_save_weights, path_vgg_weights = path_vgg_weights, train_vgg = train_vgg, path_load_weights = None\n",
    ")\n",
    "end = timeit.default_timer()"
   ]
  },
  {
   "cell_type": "code",
   "execution_count": 7,
   "metadata": {},
   "outputs": [
    {
     "name": "stdout",
     "output_type": "stream",
     "text": [
      "Total training time:  27149.038797230998\n"
     ]
    }
   ],
   "source": [
    "print('Total training time: ', end - start)"
   ]
  },
  {
   "cell_type": "code",
   "execution_count": 14,
   "metadata": {},
   "outputs": [],
   "source": [
    "epochs = 24"
   ]
  },
  {
   "cell_type": "code",
   "execution_count": 15,
   "metadata": {},
   "outputs": [
    {
     "name": "stdout",
     "output_type": "stream",
     "text": [
      "              precision    recall  f1-score   support\n",
      "\n",
      "           0       1.00      0.98      0.99  35908016\n",
      "           1       0.52      0.99      0.68    620112\n",
      "\n",
      "   micro avg       0.98      0.98      0.98  36528128\n",
      "   macro avg       0.76      0.99      0.84  36528128\n",
      "weighted avg       0.99      0.98      0.99  36528128\n",
      "\n",
      "F1/dice (binary):  0.6784423314579919\n",
      "Jaccard/IOU:  0.5133656650840481\n"
     ]
    }
   ],
   "source": [
    "predict(\n",
    "    path_train_images, path_train_annotations, path_train_predictions,\n",
    "    n_classes, input_width, input_height, \n",
    "    model_name, epochs, loss, optimizer, metrics, \n",
    "    path_save_weights\n",
    ")"
   ]
  },
  {
   "cell_type": "code",
   "execution_count": null,
   "metadata": {},
   "outputs": [],
   "source": [
    "visualize_dataset(\n",
    "    path_train_images, path_train_annotations, \n",
    "    n_classes, n_channel_annotations = n_channel_annotations,\n",
    "    dir_predictions = path_train_predictions\n",
    ")"
   ]
  },
  {
   "cell_type": "code",
   "execution_count": 17,
   "metadata": {},
   "outputs": [
    {
     "name": "stdout",
     "output_type": "stream",
     "text": [
      "              precision    recall  f1-score   support\n",
      "\n",
      "           0       0.99      0.99      0.99   1779279\n",
      "           1       0.09      0.08      0.09     27057\n",
      "\n",
      "   micro avg       0.97      0.97      0.97   1806336\n",
      "   macro avg       0.54      0.53      0.54   1806336\n",
      "weighted avg       0.97      0.97      0.97   1806336\n",
      "\n",
      "F1/dice (binary):  0.0873643626535236\n",
      "Jaccard/IOU:  0.04567747298420615\n"
     ]
    }
   ],
   "source": [
    "predict(\n",
    "    path_val_images, path_val_annotations, path_val_predictions,\n",
    "    n_classes, input_width, input_height, \n",
    "    model_name, epochs, loss, optimizer, metrics,\n",
    "    path_save_weights\n",
    ")"
   ]
  },
  {
   "cell_type": "code",
   "execution_count": null,
   "metadata": {},
   "outputs": [],
   "source": [
    "visualize_dataset(\n",
    "    path_val_images, path_val_annotations, \n",
    "    n_classes, n_channel_annotations = n_channel_annotations,\n",
    "    dir_predictions = path_val_predictions\n",
    ")"
   ]
  },
  {
   "cell_type": "code",
   "execution_count": 19,
   "metadata": {},
   "outputs": [
    {
     "name": "stdout",
     "output_type": "stream",
     "text": [
      "              precision    recall  f1-score   support\n",
      "\n",
      "           0       0.98      0.99      0.99   1714591\n",
      "           1       0.21      0.07      0.10     41569\n",
      "\n",
      "   micro avg       0.97      0.97      0.97   1756160\n",
      "   macro avg       0.59      0.53      0.54   1756160\n",
      "weighted avg       0.96      0.97      0.96   1756160\n",
      "\n",
      "F1/dice (binary):  0.0995737801293357\n",
      "Jaccard/IOU:  0.05239549901395924\n"
     ]
    }
   ],
   "source": [
    "predict(\n",
    "    path_test_images, path_test_annotations, path_test_predictions,\n",
    "    n_classes, input_width, input_height, \n",
    "    model_name, epochs, loss, optimizer, metrics,\n",
    "    path_save_weights\n",
    ")"
   ]
  },
  {
   "cell_type": "code",
   "execution_count": null,
   "metadata": {},
   "outputs": [],
   "source": [
    "visualize_dataset(\n",
    "    path_test_images, path_test_annotations, \n",
    "    n_classes, n_channel_annotations = n_channel_annotations, \n",
    "    dir_predictions = path_test_predictions\n",
    ")"
   ]
  }
 ],
 "metadata": {
  "kernelspec": {
   "display_name": "Python 3",
   "language": "python",
   "name": "python3"
  },
  "language_info": {
   "codemirror_mode": {
    "name": "ipython",
    "version": 3
   },
   "file_extension": ".py",
   "mimetype": "text/x-python",
   "name": "python",
   "nbconvert_exporter": "python",
   "pygments_lexer": "ipython3",
   "version": "3.5.2"
  }
 },
 "nbformat": 4,
 "nbformat_minor": 2
}
