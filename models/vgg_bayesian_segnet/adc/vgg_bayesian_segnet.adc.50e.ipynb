{
 "cells": [
  {
   "cell_type": "code",
   "execution_count": 1,
   "metadata": {},
   "outputs": [
    {
     "name": "stderr",
     "output_type": "stream",
     "text": [
      "Using TensorFlow backend.\n"
     ]
    }
   ],
   "source": [
    "import glob\n",
    "import math\n",
    "import sys\n",
    "import timeit\n",
    "\n",
    "sys.path.insert(0, '../../')\n",
    "from visualize_dataset import *\n",
    "from losses import *\n",
    "from metrics import *\n",
    "from predict import *\n",
    "from train import *\n",
    "from utils import *"
   ]
  },
  {
   "cell_type": "code",
   "execution_count": 2,
   "metadata": {},
   "outputs": [],
   "source": [
    "path_train_images = '../../../data/stanford_adc_cropped/train/Slice/'\n",
    "path_train_annotations = '../../../data/stanford_adc_cropped/train/ROI/'\n",
    "path_train_predictions = './predictions.50e/train/'\n",
    "\n",
    "path_val_images = '../../../data/stanford_adc_cropped/val/Slice/'\n",
    "path_val_annotations = '../../../data/stanford_adc_cropped/val/ROI/'\n",
    "path_val_predictions = './predictions.50e/val/'\n",
    "\n",
    "path_test_images = '../../../data/stanford_adc_cropped/test/Slice/'\n",
    "path_test_annotations = '../../../data/stanford_adc_cropped/test/ROI/'\n",
    "path_test_predictions = './predictions.50e/test/'\n",
    "\n",
    "path_save_weights = './weights.50e/'\n",
    "path_load_weights = None\n",
    "\n",
    "train_vgg = False\n",
    "path_vgg_weights = '../../../data/vgg16_weights_th_dim_ordering_th_kernels.h5'\n",
    "\n",
    "n_classes = 2\n",
    "input_height = 224\n",
    "input_width = 224\n",
    "n_channel_annotations = 1"
   ]
  },
  {
   "cell_type": "code",
   "execution_count": 3,
   "metadata": {},
   "outputs": [
    {
     "name": "stdout",
     "output_type": "stream",
     "text": [
      "Number train images:  192\n",
      "Number val images:  11\n",
      "Number test images:  12\n"
     ]
    }
   ],
   "source": [
    "print('Number train images: ', len(glob.glob(path_train_images + '*.png')))\n",
    "print('Number val images: ', len(glob.glob(path_val_images + '*.png')))\n",
    "print('Number test images: ', len(glob.glob(path_test_images + '*.png')))"
   ]
  },
  {
   "cell_type": "code",
   "execution_count": 4,
   "metadata": {},
   "outputs": [],
   "source": [
    "model_name = 'vgg_bayesian_segnet'\n",
    "epochs = 50\n",
    "train_batch_size = 8\n",
    "val_batch_size = len(glob.glob(path_val_images + '*.png'))"
   ]
  },
  {
   "cell_type": "code",
   "execution_count": 5,
   "metadata": {},
   "outputs": [
    {
     "name": "stdout",
     "output_type": "stream",
     "text": [
      "[0.98175173 0.01824827]\n",
      "[ 1.         53.79972696]\n",
      "[0.01841682 4.00368521]\n"
     ]
    }
   ],
   "source": [
    "optimizer = 'adadelta'\n",
    "metrics = ['accuracy', dice, iou]\n",
    "\n",
    "class_props = calc_class_proportions(path_train_annotations, n_classes, n_channel_annotations)\n",
    "class_weights = calc_class_weights(path_train_annotations, n_classes, n_channel_annotations)\n",
    "class_weights_log = calc_class_weights(path_train_annotations, n_classes, n_channel_annotations, scale = 'log')\n",
    "\n",
    "print(class_props)\n",
    "print(class_weights)\n",
    "print(class_weights_log)\n",
    "\n",
    "loss = weighted_categorical_crossentropy_loss(class_weights_log)"
   ]
  },
  {
   "cell_type": "code",
   "execution_count": 6,
   "metadata": {},
   "outputs": [
    {
     "name": "stdout",
     "output_type": "stream",
     "text": [
      "Model output shape (None, 50176, 2)\n",
      "Epoch 0\n",
      "Epoch 1/1\n",
      "24/24 [==============================] - 855s 36s/step - loss: 0.0368 - acc: 0.6443 - dice: 0.0861 - iou: 0.0452 - val_loss: 0.0441 - val_acc: 0.5694 - val_dice: 0.0380 - val_iou: 0.0194\n",
      "Epoch 1\n",
      "Epoch 1/1\n",
      "24/24 [==============================] - 841s 35s/step - loss: 0.0196 - acc: 0.7188 - dice: 0.1148 - iou: 0.0610 - val_loss: 0.0396 - val_acc: 0.6473 - val_dice: 0.0427 - val_iou: 0.0218\n",
      "Epoch 2\n",
      "Epoch 1/1\n",
      "24/24 [==============================] - 847s 35s/step - loss: 0.0177 - acc: 0.7591 - dice: 0.1314 - iou: 0.0705 - val_loss: 0.0285 - val_acc: 0.7504 - val_dice: 0.0585 - val_iou: 0.0301\n",
      "Epoch 3\n",
      "Epoch 1/1\n",
      "24/24 [==============================] - 847s 35s/step - loss: 0.0161 - acc: 0.7980 - dice: 0.1530 - iou: 0.0831 - val_loss: 0.0291 - val_acc: 0.7974 - val_dice: 0.0666 - val_iou: 0.0345\n",
      "Epoch 4\n",
      "Epoch 1/1\n",
      "24/24 [==============================] - 845s 35s/step - loss: 0.0154 - acc: 0.8257 - dice: 0.1730 - iou: 0.0949 - val_loss: 0.0336 - val_acc: 0.7946 - val_dice: 0.0649 - val_iou: 0.0335\n",
      "Epoch 5\n",
      "Epoch 1/1\n",
      "24/24 [==============================] - 842s 35s/step - loss: 0.0142 - acc: 0.8477 - dice: 0.1934 - iou: 0.1074 - val_loss: 0.0286 - val_acc: 0.8342 - val_dice: 0.0786 - val_iou: 0.0409\n",
      "Epoch 6\n",
      "Epoch 1/1\n",
      "24/24 [==============================] - 836s 35s/step - loss: 0.0144 - acc: 0.8588 - dice: 0.2065 - iou: 0.1157 - val_loss: 0.0324 - val_acc: 0.7959 - val_dice: 0.0651 - val_iou: 0.0336\n",
      "Epoch 7\n",
      "Epoch 1/1\n",
      "24/24 [==============================] - 847s 35s/step - loss: 0.0135 - acc: 0.8642 - dice: 0.2123 - iou: 0.1192 - val_loss: 0.0269 - val_acc: 0.8422 - val_dice: 0.0814 - val_iou: 0.0424\n",
      "Epoch 8\n",
      "Epoch 1/1\n",
      "24/24 [==============================] - 847s 35s/step - loss: 0.0123 - acc: 0.8837 - dice: 0.2401 - iou: 0.1371 - val_loss: 0.0336 - val_acc: 0.8926 - val_dice: 0.0763 - val_iou: 0.0396\n",
      "Epoch 9\n",
      "Epoch 1/1\n",
      "24/24 [==============================] - 841s 35s/step - loss: 0.0117 - acc: 0.8990 - dice: 0.2660 - iou: 0.1541 - val_loss: 0.0424 - val_acc: 0.9646 - val_dice: 0.1244 - val_iou: 0.0663\n",
      "Epoch 10\n",
      "Epoch 1/1\n",
      "24/24 [==============================] - 839s 35s/step - loss: 0.0114 - acc: 0.9047 - dice: 0.2773 - iou: 0.1616 - val_loss: 0.0321 - val_acc: 0.9052 - val_dice: 0.0897 - val_iou: 0.0469\n",
      "Epoch 11\n",
      "Epoch 1/1\n",
      "24/24 [==============================] - 849s 35s/step - loss: 0.0111 - acc: 0.9121 - dice: 0.2938 - iou: 0.1730 - val_loss: 0.0280 - val_acc: 0.8726 - val_dice: 0.0872 - val_iou: 0.0456\n",
      "Epoch 12\n",
      "Epoch 1/1\n",
      "24/24 [==============================] - 846s 35s/step - loss: 0.0102 - acc: 0.9235 - dice: 0.3222 - iou: 0.1928 - val_loss: 0.0332 - val_acc: 0.9098 - val_dice: 0.0929 - val_iou: 0.0487\n",
      "Epoch 13\n",
      "Epoch 1/1\n",
      "24/24 [==============================] - 844s 35s/step - loss: 0.0100 - acc: 0.9285 - dice: 0.3371 - iou: 0.2034 - val_loss: 0.0271 - val_acc: 0.8818 - val_dice: 0.0948 - val_iou: 0.0497\n",
      "Epoch 14\n",
      "Epoch 1/1\n",
      "24/24 [==============================] - 835s 35s/step - loss: 0.0095 - acc: 0.9317 - dice: 0.3487 - iou: 0.2122 - val_loss: 0.0325 - val_acc: 0.9240 - val_dice: 0.1071 - val_iou: 0.0566\n",
      "Epoch 15\n",
      "Epoch 1/1\n",
      "24/24 [==============================] - 841s 35s/step - loss: 0.0089 - acc: 0.9408 - dice: 0.3803 - iou: 0.2359 - val_loss: 0.0377 - val_acc: 0.9434 - val_dice: 0.1077 - val_iou: 0.0569\n",
      "Epoch 16\n",
      "Epoch 1/1\n",
      "24/24 [==============================] - 839s 35s/step - loss: 0.0085 - acc: 0.9449 - dice: 0.3971 - iou: 0.2488 - val_loss: 0.0344 - val_acc: 0.9300 - val_dice: 0.1077 - val_iou: 0.0569\n",
      "Epoch 17\n",
      "Epoch 1/1\n",
      "24/24 [==============================] - 843s 35s/step - loss: 0.0082 - acc: 0.9486 - dice: 0.4146 - iou: 0.2630 - val_loss: 0.0333 - val_acc: 0.9315 - val_dice: 0.1143 - val_iou: 0.0606\n",
      "Epoch 18\n",
      "Epoch 1/1\n",
      "24/24 [==============================] - 839s 35s/step - loss: 0.0093 - acc: 0.9442 - dice: 0.4036 - iou: 0.2551 - val_loss: 0.0321 - val_acc: 0.8839 - val_dice: 0.0947 - val_iou: 0.0497\n",
      "Epoch 19\n",
      "Epoch 1/1\n",
      "24/24 [==============================] - 847s 35s/step - loss: 0.0085 - acc: 0.9265 - dice: 0.3324 - iou: 0.2003 - val_loss: 0.0383 - val_acc: 0.9341 - val_dice: 0.0973 - val_iou: 0.0511\n",
      "Epoch 20\n",
      "Epoch 1/1\n",
      "24/24 [==============================] - 843s 35s/step - loss: 0.0076 - acc: 0.9476 - dice: 0.4096 - iou: 0.2585 - val_loss: 0.0375 - val_acc: 0.9400 - val_dice: 0.1174 - val_iou: 0.0624\n",
      "Epoch 21\n",
      "Epoch 1/1\n",
      "24/24 [==============================] - 837s 35s/step - loss: 0.0075 - acc: 0.9494 - dice: 0.4192 - iou: 0.2668 - val_loss: 0.0331 - val_acc: 0.9238 - val_dice: 0.1079 - val_iou: 0.0570\n",
      "Epoch 22\n",
      "Epoch 1/1\n",
      "24/24 [==============================] - 845s 35s/step - loss: 0.0069 - acc: 0.9553 - dice: 0.4476 - iou: 0.2894 - val_loss: 0.0336 - val_acc: 0.9214 - val_dice: 0.1058 - val_iou: 0.0558\n",
      "Epoch 23\n",
      "Epoch 1/1\n",
      "24/24 [==============================] - 842s 35s/step - loss: 0.0065 - acc: 0.9599 - dice: 0.4745 - iou: 0.3121 - val_loss: 0.0379 - val_acc: 0.9291 - val_dice: 0.1022 - val_iou: 0.0539\n",
      "Epoch 24\n",
      "Epoch 1/1\n",
      "24/24 [==============================] - 839s 35s/step - loss: 0.0063 - acc: 0.9615 - dice: 0.4844 - iou: 0.3207 - val_loss: 0.0331 - val_acc: 0.9112 - val_dice: 0.1022 - val_iou: 0.0538\n",
      "Epoch 25\n",
      "Epoch 1/1\n",
      "24/24 [==============================] - 839s 35s/step - loss: 0.0059 - acc: 0.9636 - dice: 0.4984 - iou: 0.3329 - val_loss: 0.0380 - val_acc: 0.9364 - val_dice: 0.1168 - val_iou: 0.0620\n",
      "Epoch 26\n",
      "Epoch 1/1\n",
      "24/24 [==============================] - 839s 35s/step - loss: 0.0056 - acc: 0.9667 - dice: 0.5198 - iou: 0.3522 - val_loss: 0.0408 - val_acc: 0.9512 - val_dice: 0.1368 - val_iou: 0.0734\n",
      "Epoch 27\n",
      "Epoch 1/1\n",
      "24/24 [==============================] - 840s 35s/step - loss: 0.0055 - acc: 0.9664 - dice: 0.5183 - iou: 0.3507 - val_loss: 0.0387 - val_acc: 0.9400 - val_dice: 0.1207 - val_iou: 0.0642\n",
      "Epoch 28\n",
      "Epoch 1/1\n",
      "24/24 [==============================] - 843s 35s/step - loss: 0.0054 - acc: 0.9676 - dice: 0.5271 - iou: 0.3589 - val_loss: 0.0380 - val_acc: 0.9386 - val_dice: 0.1224 - val_iou: 0.0652\n",
      "Epoch 29\n",
      "Epoch 1/1\n",
      "24/24 [==============================] - 849s 35s/step - loss: 0.0051 - acc: 0.9687 - dice: 0.5360 - iou: 0.3671 - val_loss: 0.0448 - val_acc: 0.9542 - val_dice: 0.1239 - val_iou: 0.0660\n",
      "Epoch 30\n",
      "Epoch 1/1\n",
      "24/24 [==============================] - 849s 35s/step - loss: 0.0049 - acc: 0.9703 - dice: 0.5489 - iou: 0.3790 - val_loss: 0.0389 - val_acc: 0.9392 - val_dice: 0.1225 - val_iou: 0.0652\n",
      "Epoch 31\n",
      "Epoch 1/1\n",
      "24/24 [==============================] - 842s 35s/step - loss: 0.0048 - acc: 0.9700 - dice: 0.5457 - iou: 0.3761 - val_loss: 0.0466 - val_acc: 0.9580 - val_dice: 0.1321 - val_iou: 0.0707\n",
      "Epoch 32\n",
      "Epoch 1/1\n",
      "24/24 [==============================] - 837s 35s/step - loss: 0.0048 - acc: 0.9698 - dice: 0.5444 - iou: 0.3757 - val_loss: 0.0412 - val_acc: 0.9471 - val_dice: 0.1278 - val_iou: 0.0683\n",
      "Epoch 33\n",
      "Epoch 1/1\n",
      "24/24 [==============================] - 846s 35s/step - loss: 0.0048 - acc: 0.9690 - dice: 0.5381 - iou: 0.3691 - val_loss: 0.0364 - val_acc: 0.9286 - val_dice: 0.1172 - val_iou: 0.0622\n",
      "Epoch 34\n",
      "Epoch 1/1\n",
      "24/24 [==============================] - 847s 35s/step - loss: 0.0046 - acc: 0.9694 - dice: 0.5416 - iou: 0.3724 - val_loss: 0.0366 - val_acc: 0.9296 - val_dice: 0.1224 - val_iou: 0.0652\n",
      "Epoch 35\n",
      "Epoch 1/1\n",
      "24/24 [==============================] - 843s 35s/step - loss: 0.0043 - acc: 0.9709 - dice: 0.5538 - iou: 0.3840 - val_loss: 0.0439 - val_acc: 0.9462 - val_dice: 0.1235 - val_iou: 0.0658\n",
      "Epoch 36\n",
      "Epoch 1/1\n",
      "24/24 [==============================] - 844s 35s/step - loss: 0.0041 - acc: 0.9722 - dice: 0.5651 - iou: 0.3945 - val_loss: 0.0551 - val_acc: 0.9662 - val_dice: 0.1334 - val_iou: 0.0714\n",
      "Epoch 37\n",
      "Epoch 1/1\n",
      "24/24 [==============================] - 840s 35s/step - loss: 0.0039 - acc: 0.9747 - dice: 0.5879 - iou: 0.4172 - val_loss: 0.0505 - val_acc: 0.9561 - val_dice: 0.1271 - val_iou: 0.0678\n",
      "Epoch 38\n",
      "Epoch 1/1\n",
      "24/24 [==============================] - 849s 35s/step - loss: 0.0039 - acc: 0.9734 - dice: 0.5762 - iou: 0.4058 - val_loss: 0.0543 - val_acc: 0.9609 - val_dice: 0.1278 - val_iou: 0.0683\n",
      "Epoch 39\n",
      "Epoch 1/1\n",
      "24/24 [==============================] - 845s 35s/step - loss: 0.0037 - acc: 0.9750 - dice: 0.5906 - iou: 0.4198 - val_loss: 0.0570 - val_acc: 0.9671 - val_dice: 0.1402 - val_iou: 0.0754\n"
     ]
    },
    {
     "name": "stdout",
     "output_type": "stream",
     "text": [
      "Epoch 40\n",
      "Epoch 1/1\n",
      "24/24 [==============================] - 842s 35s/step - loss: 0.0036 - acc: 0.9751 - dice: 0.5915 - iou: 0.4206 - val_loss: 0.0553 - val_acc: 0.9631 - val_dice: 0.1384 - val_iou: 0.0743\n",
      "Epoch 41\n",
      "Epoch 1/1\n",
      "24/24 [==============================] - 838s 35s/step - loss: 0.0036 - acc: 0.9757 - dice: 0.5975 - iou: 0.4272 - val_loss: 0.0582 - val_acc: 0.9661 - val_dice: 0.1399 - val_iou: 0.0752\n",
      "Epoch 42\n",
      "Epoch 1/1\n",
      "24/24 [==============================] - 845s 35s/step - loss: 0.0035 - acc: 0.9752 - dice: 0.5925 - iou: 0.4218 - val_loss: 0.0541 - val_acc: 0.9623 - val_dice: 0.1433 - val_iou: 0.0772\n",
      "Epoch 43\n",
      "Epoch 1/1\n",
      "24/24 [==============================] - 839s 35s/step - loss: 0.0034 - acc: 0.9763 - dice: 0.6036 - iou: 0.4329 - val_loss: 0.0502 - val_acc: 0.9577 - val_dice: 0.1518 - val_iou: 0.0821\n",
      "Epoch 44\n",
      "Epoch 1/1\n",
      "24/24 [==============================] - 844s 35s/step - loss: 0.0032 - acc: 0.9770 - dice: 0.6099 - iou: 0.4397 - val_loss: 0.0559 - val_acc: 0.9684 - val_dice: 0.1621 - val_iou: 0.0882\n",
      "Epoch 45\n",
      "Epoch 1/1\n",
      "24/24 [==============================] - 847s 35s/step - loss: 0.0031 - acc: 0.9777 - dice: 0.6179 - iou: 0.4477 - val_loss: 0.0550 - val_acc: 0.9661 - val_dice: 0.1615 - val_iou: 0.0879\n",
      "Epoch 46\n",
      "Epoch 1/1\n",
      "24/24 [==============================] - 843s 35s/step - loss: 0.0030 - acc: 0.9783 - dice: 0.6241 - iou: 0.4544 - val_loss: 0.0549 - val_acc: 0.9631 - val_dice: 0.1531 - val_iou: 0.0829\n",
      "Epoch 47\n",
      "Epoch 1/1\n",
      "24/24 [==============================] - 842s 35s/step - loss: 0.0029 - acc: 0.9783 - dice: 0.6243 - iou: 0.4544 - val_loss: 0.0615 - val_acc: 0.9677 - val_dice: 0.1504 - val_iou: 0.0813\n",
      "Epoch 48\n",
      "Epoch 1/1\n",
      "24/24 [==============================] - 847s 35s/step - loss: 0.0029 - acc: 0.9788 - dice: 0.6298 - iou: 0.4605 - val_loss: 0.0653 - val_acc: 0.9686 - val_dice: 0.1432 - val_iou: 0.0771\n",
      "Epoch 49\n",
      "Epoch 1/1\n",
      "24/24 [==============================] - 837s 35s/step - loss: 0.0029 - acc: 0.9782 - dice: 0.6225 - iou: 0.4527 - val_loss: 0.0579 - val_acc: 0.9649 - val_dice: 0.1549 - val_iou: 0.0839\n"
     ]
    },
    {
     "data": {
      "image/png": "[encoded data removed]",
      "text/plain": [
       "<Figure size 432x288 with 1 Axes>"
      ]
     },
     "metadata": {
      "needs_background": "light"
     },
     "output_type": "display_data"
    },
    {
     "data": {
      "image/png": "[encoded data removed]",
      "text/plain": [
       "<Figure size 432x288 with 1 Axes>"
      ]
     },
     "metadata": {
      "needs_background": "light"
     },
     "output_type": "display_data"
    }
   ],
   "source": [
    "start = timeit.default_timer()\n",
    "train(\n",
    "    path_train_images, path_train_annotations, train_batch_size, \n",
    "    path_val_images, path_val_annotations, val_batch_size,\n",
    "    n_classes, input_width, input_height, \n",
    "    model_name, epochs, loss, optimizer, metrics,\n",
    "    path_save_weights, path_vgg_weights = path_vgg_weights, train_vgg = train_vgg, path_load_weights = None\n",
    ")\n",
    "end = timeit.default_timer()"
   ]
  },
  {
   "cell_type": "code",
   "execution_count": 7,
   "metadata": {},
   "outputs": [
    {
     "name": "stdout",
     "output_type": "stream",
     "text": [
      "Total training time:  42218.468286344\n"
     ]
    }
   ],
   "source": [
    "print('Total training time: ', end - start)"
   ]
  },
  {
   "cell_type": "code",
   "execution_count": 14,
   "metadata": {},
   "outputs": [],
   "source": [
    "epochs = 45"
   ]
  },
  {
   "cell_type": "code",
   "execution_count": 15,
   "metadata": {},
   "outputs": [
    {
     "name": "stdout",
     "output_type": "stream",
     "text": [
      "              precision    recall  f1-score   support\n",
      "\n",
      "           0       1.00      0.97      0.98   9457992\n",
      "           1       0.38      1.00      0.55    175800\n",
      "\n",
      "   micro avg       0.97      0.97      0.97   9633792\n",
      "   macro avg       0.69      0.98      0.77   9633792\n",
      "weighted avg       0.99      0.97      0.98   9633792\n",
      "\n",
      "F1/dice (binary):  0.5526696388708978\n",
      "Jaccard/IOU:  0.38185451899160394\n"
     ]
    }
   ],
   "source": [
    "predict(\n",
    "    path_train_images, path_train_annotations, path_train_predictions,\n",
    "    n_classes, input_width, input_height, \n",
    "    model_name, epochs, loss, optimizer, metrics, \n",
    "    path_save_weights\n",
    ")"
   ]
  },
  {
   "cell_type": "code",
   "execution_count": null,
   "metadata": {},
   "outputs": [],
   "source": [
    "visualize_dataset(\n",
    "    path_train_images, path_train_annotations, \n",
    "    n_classes, n_channel_annotations = n_channel_annotations,\n",
    "    dir_predictions = path_train_predictions\n",
    ")"
   ]
  },
  {
   "cell_type": "code",
   "execution_count": 17,
   "metadata": {},
   "outputs": [
    {
     "name": "stdout",
     "output_type": "stream",
     "text": [
      "              precision    recall  f1-score   support\n",
      "\n",
      "           0       0.99      0.97      0.98    547242\n",
      "           1       0.10      0.36      0.16      4694\n",
      "\n",
      "   micro avg       0.97      0.97      0.97    551936\n",
      "   macro avg       0.55      0.67      0.57    551936\n",
      "weighted avg       0.99      0.97      0.98    551936\n",
      "\n",
      "F1/dice (binary):  0.1621232482242273\n",
      "Jaccard/IOU:  0.08821225257220452\n"
     ]
    }
   ],
   "source": [
    "predict(\n",
    "    path_val_images, path_val_annotations, path_val_predictions,\n",
    "    n_classes, input_width, input_height, \n",
    "    model_name, epochs, loss, optimizer, metrics,\n",
    "    path_save_weights\n",
    ")"
   ]
  },
  {
   "cell_type": "code",
   "execution_count": null,
   "metadata": {},
   "outputs": [],
   "source": [
    "visualize_dataset(\n",
    "    path_val_images, path_val_annotations, \n",
    "    n_classes, n_channel_annotations = n_channel_annotations,\n",
    "    dir_predictions = path_val_predictions\n",
    ")"
   ]
  },
  {
   "cell_type": "code",
   "execution_count": 19,
   "metadata": {},
   "outputs": [
    {
     "name": "stdout",
     "output_type": "stream",
     "text": [
      "              precision    recall  f1-score   support\n",
      "\n",
      "           0       0.98      0.98      0.98    585528\n",
      "           1       0.28      0.23      0.25     16584\n",
      "\n",
      "   micro avg       0.96      0.96      0.96    602112\n",
      "   macro avg       0.63      0.61      0.62    602112\n",
      "weighted avg       0.96      0.96      0.96    602112\n",
      "\n",
      "F1/dice (binary):  0.25185136640671074\n",
      "Jaccard/IOU:  0.14406747891283975\n"
     ]
    }
   ],
   "source": [
    "predict(\n",
    "    path_test_images, path_test_annotations, path_test_predictions,\n",
    "    n_classes, input_width, input_height, \n",
    "    model_name, epochs, loss, optimizer, metrics,\n",
    "    path_save_weights\n",
    ")"
   ]
  },
  {
   "cell_type": "code",
   "execution_count": null,
   "metadata": {},
   "outputs": [],
   "source": [
    "visualize_dataset(\n",
    "    path_test_images, path_test_annotations, \n",
    "    n_classes, n_channel_annotations = n_channel_annotations, \n",
    "    dir_predictions = path_test_predictions\n",
    ")"
   ]
  }
 ],
 "metadata": {
  "kernelspec": {
   "display_name": "Python 3",
   "language": "python",
   "name": "python3"
  },
  "language_info": {
   "codemirror_mode": {
    "name": "ipython",
    "version": 3
   },
   "file_extension": ".py",
   "mimetype": "text/x-python",
   "name": "python",
   "nbconvert_exporter": "python",
   "pygments_lexer": "ipython3",
   "version": "3.5.2"
  }
 },
 "nbformat": 4,
 "nbformat_minor": 2
}
