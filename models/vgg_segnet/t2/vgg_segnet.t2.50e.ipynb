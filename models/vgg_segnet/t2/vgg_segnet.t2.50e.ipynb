{
 "cells": [
  {
   "cell_type": "code",
   "execution_count": 1,
   "metadata": {},
   "outputs": [
    {
     "name": "stderr",
     "output_type": "stream",
     "text": [
      "Using TensorFlow backend.\n"
     ]
    }
   ],
   "source": [
    "import glob\n",
    "import math\n",
    "import sys\n",
    "import timeit\n",
    "\n",
    "sys.path.insert(0, '../../')\n",
    "from visualize_dataset import *\n",
    "from losses import *\n",
    "from metrics import *\n",
    "from predict import *\n",
    "from train import *\n",
    "from utils import *"
   ]
  },
  {
   "cell_type": "code",
   "execution_count": 2,
   "metadata": {},
   "outputs": [],
   "source": [
    "path_train_images = '../../../data/stanford_t2_cropped/train/Slice/'\n",
    "path_train_annotations = '../../../data/stanford_t2_cropped/train/ROI/'\n",
    "path_train_predictions = './predictions.50e/train/'\n",
    "\n",
    "path_val_images = '../../../data/stanford_t2_cropped/val/Slice/'\n",
    "path_val_annotations = '../../../data/stanford_t2_cropped/val/ROI/'\n",
    "path_val_predictions = './predictions.50e/val/'\n",
    "\n",
    "path_test_images = '../../../data/stanford_t2_cropped/test/Slice/'\n",
    "path_test_annotations = '../../../data/stanford_t2_cropped/test/ROI/'\n",
    "path_test_predictions = './predictions.50e/test/'\n",
    "\n",
    "path_save_weights = './weights.50e/'\n",
    "path_load_weights = None\n",
    "\n",
    "train_vgg = False\n",
    "path_vgg_weights = '../../../data/vgg16_weights_th_dim_ordering_th_kernels.h5'\n",
    "\n",
    "n_classes = 2\n",
    "input_height = 224\n",
    "input_width = 224\n",
    "n_channel_annotations = 1"
   ]
  },
  {
   "cell_type": "code",
   "execution_count": 3,
   "metadata": {},
   "outputs": [
    {
     "name": "stdout",
     "output_type": "stream",
     "text": [
      "('Number train images: ', 728)\n",
      "('Number val images: ', 36)\n",
      "('Number test images: ', 35)\n"
     ]
    }
   ],
   "source": [
    "print('Number train images: ', len(glob.glob(path_train_images + '*.png')))\n",
    "print('Number val images: ', len(glob.glob(path_val_images + '*.png')))\n",
    "print('Number test images: ', len(glob.glob(path_test_images + '*.png')))"
   ]
  },
  {
   "cell_type": "code",
   "execution_count": 4,
   "metadata": {},
   "outputs": [],
   "source": [
    "model_name = 'vgg_segnet'\n",
    "epochs = 50\n",
    "train_batch_size = 8\n",
    "val_batch_size = len(glob.glob(path_val_images + '*.png'))"
   ]
  },
  {
   "cell_type": "code",
   "execution_count": 5,
   "metadata": {},
   "outputs": [
    {
     "name": "stdout",
     "output_type": "stream",
     "text": [
      "[0.98302371 0.01697629]\n",
      "[ 1.         57.90569446]\n",
      "[0.01712204 4.07593777]\n"
     ]
    }
   ],
   "source": [
    "optimizer = 'adadelta'\n",
    "metrics = ['accuracy', dice, iou]\n",
    "\n",
    "class_props = calc_class_proportions(path_train_annotations, n_classes, n_channel_annotations)\n",
    "class_weights = calc_class_weights(path_train_annotations, n_classes, n_channel_annotations)\n",
    "class_weights_log = calc_class_weights(path_train_annotations, n_classes, n_channel_annotations, scale = 'log')\n",
    "\n",
    "print(class_props)\n",
    "print(class_weights)\n",
    "print(class_weights_log)\n",
    "\n",
    "loss = weighted_categorical_crossentropy_loss(class_weights_log)"
   ]
  },
  {
   "cell_type": "code",
   "execution_count": null,
   "metadata": {},
   "outputs": [
    {
     "name": "stdout",
     "output_type": "stream",
     "text": [
      "('Model output shape', (None, 50176, 2))\n",
      "('Epoch', 0)\n",
      "Epoch 1/1\n",
      "91/91 [==============================] - 2062s 23s/step - loss: 0.0282 - acc: 0.5462 - dice: 0.0676 - iou: 0.0351 - val_loss: 0.0260 - val_acc: 0.6379 - val_dice: 0.0730 - val_iou: 0.0379\n",
      "('Epoch', 1)\n",
      "Epoch 1/1\n",
      "91/91 [==============================] - 2369s 26s/step - loss: 0.0182 - acc: 0.6711 - dice: 0.0946 - iou: 0.0499 - val_loss: 0.0280 - val_acc: 0.6690 - val_dice: 0.0793 - val_iou: 0.0413\n",
      "('Epoch', 2)\n",
      "Epoch 1/1\n",
      "91/91 [==============================] - 2377s 26s/step - loss: 0.0141 - acc: 0.7762 - dice: 0.1331 - iou: 0.0717 - val_loss: 0.0326 - val_acc: 0.7573 - val_dice: 0.0942 - val_iou: 0.0494\n",
      "('Epoch', 3)\n",
      "Epoch 1/1\n",
      "91/91 [==============================] - 2399s 26s/step - loss: 0.0111 - acc: 0.8563 - dice: 0.1927 - iou: 0.1077 - val_loss: 0.0532 - val_acc: 0.8524 - val_dice: 0.0921 - val_iou: 0.0483\n",
      "('Epoch', 4)\n",
      "Epoch 1/1\n",
      "91/91 [==============================] - 2386s 26s/step - loss: 0.0091 - acc: 0.9044 - dice: 0.2628 - iou: 0.1533 - val_loss: 0.0720 - val_acc: 0.8956 - val_dice: 0.0846 - val_iou: 0.0442\n",
      "('Epoch', 5)\n",
      "Epoch 1/1\n",
      "91/91 [==============================] - 2375s 26s/step - loss: 0.0080 - acc: 0.9225 - dice: 0.3046 - iou: 0.1823 - val_loss: 0.0854 - val_acc: 0.9408 - val_dice: 0.0949 - val_iou: 0.0498\n",
      "('Epoch', 6)\n",
      "Epoch 1/1\n",
      "91/91 [==============================] - 2390s 26s/step - loss: 0.0067 - acc: 0.9396 - dice: 0.3588 - iou: 0.2221 - val_loss: 0.1005 - val_acc: 0.9651 - val_dice: 0.0856 - val_iou: 0.0447\n",
      "('Epoch', 7)\n",
      "Epoch 1/1\n",
      "91/91 [==============================] - 2386s 26s/step - loss: 0.0057 - acc: 0.9519 - dice: 0.4139 - iou: 0.2663 - val_loss: 0.0494 - val_acc: 0.8579 - val_dice: 0.1232 - val_iou: 0.0656\n",
      "('Epoch', 8)\n",
      "Epoch 1/1\n",
      "91/91 [==============================] - 2377s 26s/step - loss: 0.0050 - acc: 0.9589 - dice: 0.4516 - iou: 0.2971 - val_loss: 0.0539 - val_acc: 0.8328 - val_dice: 0.1023 - val_iou: 0.0539\n",
      "('Epoch', 9)\n",
      "Epoch 1/1\n",
      "91/91 [==============================] - 2384s 26s/step - loss: 0.0042 - acc: 0.9649 - dice: 0.4898 - iou: 0.3300 - val_loss: 0.1316 - val_acc: 0.9690 - val_dice: 0.0608 - val_iou: 0.0313\n",
      "('Epoch', 10)\n",
      "Epoch 1/1\n",
      "91/91 [==============================] - 2377s 26s/step - loss: 0.0036 - acc: 0.9730 - dice: 0.5496 - iou: 0.3843 - val_loss: 0.1255 - val_acc: 0.9666 - val_dice: 0.0987 - val_iou: 0.0519\n",
      "('Epoch', 11)\n",
      "Epoch 1/1\n",
      "91/91 [==============================] - 2379s 26s/step - loss: 0.0037 - acc: 0.9689 - dice: 0.5214 - iou: 0.3581 - val_loss: 0.1128 - val_acc: 0.9240 - val_dice: 0.0898 - val_iou: 0.0470\n",
      "('Epoch', 12)\n",
      "Epoch 1/1\n",
      "91/91 [==============================] - 2379s 26s/step - loss: 0.0032 - acc: 0.9732 - dice: 0.5553 - iou: 0.3895 - val_loss: 0.1052 - val_acc: 0.9315 - val_dice: 0.1142 - val_iou: 0.0606\n",
      "('Epoch', 13)\n",
      "Epoch 1/1\n",
      "91/91 [==============================] - 2229s 24s/step - loss: 0.0039 - acc: 0.9619 - dice: 0.4688 - iou: 0.3115 - val_loss: 0.1526 - val_acc: 0.9700 - val_dice: 0.0625 - val_iou: 0.0322\n",
      "('Epoch', 14)\n",
      "Epoch 1/1\n",
      "91/91 [==============================] - 1456s 16s/step - loss: 0.0030 - acc: 0.9730 - dice: 0.5493 - iou: 0.3834 - val_loss: 0.1495 - val_acc: 0.9586 - val_dice: 0.0748 - val_iou: 0.0388\n",
      "('Epoch', 15)\n",
      "Epoch 1/1\n",
      "91/91 [==============================] - 1526s 17s/step - loss: 0.0025 - acc: 0.9778 - dice: 0.5969 - iou: 0.4294 - val_loss: 0.1578 - val_acc: 0.9666 - val_dice: 0.0816 - val_iou: 0.0426\n",
      "('Epoch', 16)\n",
      "Epoch 1/1\n",
      "91/91 [==============================] - 1836s 20s/step - loss: 0.0021 - acc: 0.9822 - dice: 0.6471 - iou: 0.4819 - val_loss: 0.1837 - val_acc: 0.9769 - val_dice: 0.0445 - val_iou: 0.0227\n",
      "('Epoch', 17)\n",
      "Epoch 1/1\n",
      "91/91 [==============================] - 1996s 22s/step - loss: 0.0020 - acc: 0.9835 - dice: 0.6644 - iou: 0.5009 - val_loss: 0.1782 - val_acc: 0.9761 - val_dice: 0.0671 - val_iou: 0.0347\n",
      "('Epoch', 18)\n",
      "Epoch 1/1\n",
      "91/91 [==============================] - 1855s 20s/step - loss: 0.0018 - acc: 0.9853 - dice: 0.6905 - iou: 0.5313 - val_loss: 0.1339 - val_acc: 0.9424 - val_dice: 0.1151 - val_iou: 0.0611\n",
      "('Epoch', 19)\n",
      "Epoch 1/1\n",
      "91/91 [==============================] - 1914s 21s/step - loss: 0.0018 - acc: 0.9840 - dice: 0.6750 - iou: 0.5136 - val_loss: 0.1808 - val_acc: 0.9730 - val_dice: 0.0641 - val_iou: 0.0331\n",
      "('Epoch', 20)\n",
      "Epoch 1/1\n",
      "91/91 [==============================] - 1843s 20s/step - loss: 0.0018 - acc: 0.9839 - dice: 0.6727 - iou: 0.5118 - val_loss: 0.1715 - val_acc: 0.9713 - val_dice: 0.1063 - val_iou: 0.0561\n",
      "('Epoch', 21)\n",
      "Epoch 1/1\n",
      "91/91 [==============================] - 1776s 20s/step - loss: 0.0015 - acc: 0.9866 - dice: 0.7089 - iou: 0.5518 - val_loss: 0.2039 - val_acc: 0.9738 - val_dice: 0.0453 - val_iou: 0.0232\n",
      "('Epoch', 22)\n",
      "Epoch 1/1\n",
      "91/91 [==============================] - 1412s 16s/step - loss: 0.0013 - acc: 0.9883 - dice: 0.7365 - iou: 0.5853 - val_loss: 0.2053 - val_acc: 0.9751 - val_dice: 0.0604 - val_iou: 0.0311\n",
      "('Epoch', 23)\n",
      "Epoch 1/1\n",
      "91/91 [==============================] - 1402s 15s/step - loss: 0.0012 - acc: 0.9901 - dice: 0.7671 - iou: 0.6243 - val_loss: 0.2171 - val_acc: 0.9775 - val_dice: 0.0525 - val_iou: 0.0269\n",
      "('Epoch', 24)\n",
      "Epoch 1/1\n",
      "91/91 [==============================] - 1480s 16s/step - loss: 0.0010 - acc: 0.9912 - dice: 0.7878 - iou: 0.6519 - val_loss: 0.2246 - val_acc: 0.9795 - val_dice: 0.0443 - val_iou: 0.0227\n",
      "('Epoch', 25)\n",
      "Epoch 1/1\n",
      "75/91 [=======================>......] - ETA: 3:30 - loss: 9.6950e-04 - acc: 0.9918 - dice: 0.7993 - iou: 0.6675"
     ]
    }
   ],
   "source": [
    "start = timeit.default_timer()\n",
    "train(\n",
    "    path_train_images, path_train_annotations, train_batch_size, \n",
    "    path_val_images, path_val_annotations, val_batch_size,\n",
    "    n_classes, input_width, input_height, \n",
    "    model_name, epochs, loss, optimizer, metrics,\n",
    "    path_save_weights, path_vgg_weights = path_vgg_weights, train_vgg = train_vgg, path_load_weights = None\n",
    ")\n",
    "end = timeit.default_timer()"
   ]
  },
  {
   "cell_type": "code",
   "execution_count": null,
   "metadata": {},
   "outputs": [],
   "source": [
    "print('Total training time: ', end - start)"
   ]
  },
  {
   "cell_type": "code",
   "execution_count": 6,
   "metadata": {},
   "outputs": [
    {
     "name": "stdout",
     "output_type": "stream",
     "text": [
      "('Model output shape', (None, 50176, 2))\n",
      "('Epoch', 25)\n",
      "Epoch 1/1\n",
      "91/91 [==============================] - 549s 6s/step - loss: 0.0350 - acc: 0.8928 - dice: 0.2496 - iou: 0.1573 - val_loss: 0.0954 - val_acc: 0.8644 - val_dice: 0.0975 - val_iou: 0.0512\n",
      "('Epoch', 26)\n",
      "Epoch 1/1\n",
      "91/91 [==============================] - 543s 6s/step - loss: 0.0087 - acc: 0.8790 - dice: 0.2178 - iou: 0.1240 - val_loss: 0.1018 - val_acc: 0.8845 - val_dice: 0.0937 - val_iou: 0.0492\n",
      "('Epoch', 27)\n",
      "Epoch 1/1\n",
      "91/91 [==============================] - 542s 6s/step - loss: 0.0051 - acc: 0.9195 - dice: 0.2979 - iou: 0.1783 - val_loss: 0.1111 - val_acc: 0.9115 - val_dice: 0.1011 - val_iou: 0.0532\n",
      "('Epoch', 28)\n",
      "Epoch 1/1\n",
      "91/91 [==============================] - 541s 6s/step - loss: 0.0038 - acc: 0.9480 - dice: 0.3946 - iou: 0.2518 - val_loss: 0.0991 - val_acc: 0.9183 - val_dice: 0.1275 - val_iou: 0.0681\n",
      "('Epoch', 29)\n",
      "Epoch 1/1\n",
      "91/91 [==============================] - 543s 6s/step - loss: 0.0030 - acc: 0.9636 - dice: 0.4761 - iou: 0.3181 - val_loss: 0.1681 - val_acc: 0.9575 - val_dice: 0.0783 - val_iou: 0.0407\n",
      "('Epoch', 30)\n",
      "Epoch 1/1\n",
      "91/91 [==============================] - 543s 6s/step - loss: 0.0025 - acc: 0.9714 - dice: 0.5337 - iou: 0.3702 - val_loss: 0.1844 - val_acc: 0.9655 - val_dice: 0.0772 - val_iou: 0.0402\n",
      "('Epoch', 31)\n",
      "Epoch 1/1\n",
      "91/91 [==============================] - 542s 6s/step - loss: 0.0022 - acc: 0.9762 - dice: 0.5771 - iou: 0.4114 - val_loss: 0.1788 - val_acc: 0.9622 - val_dice: 0.0807 - val_iou: 0.0421\n",
      "('Epoch', 32)\n",
      "Epoch 1/1\n",
      "91/91 [==============================] - 654s 7s/step - loss: 0.0020 - acc: 0.9783 - dice: 0.5976 - iou: 0.4313 - val_loss: 0.1946 - val_acc: 0.9721 - val_dice: 0.0834 - val_iou: 0.0435\n",
      "('Epoch', 33)\n",
      "Epoch 1/1\n",
      "91/91 [==============================] - 666s 7s/step - loss: 0.0017 - acc: 0.9821 - dice: 0.6431 - iou: 0.4784 - val_loss: 0.1944 - val_acc: 0.9693 - val_dice: 0.0842 - val_iou: 0.0439\n",
      "('Epoch', 34)\n",
      "Epoch 1/1\n",
      "91/91 [==============================] - 545s 6s/step - loss: 0.0015 - acc: 0.9846 - dice: 0.6763 - iou: 0.5151 - val_loss: 0.1948 - val_acc: 0.9692 - val_dice: 0.0999 - val_iou: 0.0526\n",
      "('Epoch', 35)\n",
      "Epoch 1/1\n",
      "91/91 [==============================] - 580s 6s/step - loss: 0.0013 - acc: 0.9862 - dice: 0.6996 - iou: 0.5415 - val_loss: 0.2160 - val_acc: 0.9753 - val_dice: 0.0663 - val_iou: 0.0343\n",
      "('Epoch', 36)\n",
      "Epoch 1/1\n",
      "91/91 [==============================] - 551s 6s/step - loss: 0.0012 - acc: 0.9876 - dice: 0.7221 - iou: 0.5682 - val_loss: 0.2178 - val_acc: 0.9761 - val_dice: 0.0734 - val_iou: 0.0381\n",
      "('Epoch', 37)\n",
      "Epoch 1/1\n",
      "91/91 [==============================] - 545s 6s/step - loss: 0.0011 - acc: 0.9887 - dice: 0.7405 - iou: 0.5908 - val_loss: 0.2201 - val_acc: 0.9758 - val_dice: 0.0754 - val_iou: 0.0392\n",
      "('Epoch', 38)\n",
      "Epoch 1/1\n",
      "91/91 [==============================] - 544s 6s/step - loss: 9.9178e-04 - acc: 0.9895 - dice: 0.7548 - iou: 0.6088 - val_loss: 0.2285 - val_acc: 0.9770 - val_dice: 0.0579 - val_iou: 0.0298\n",
      "('Epoch', 39)\n",
      "Epoch 1/1\n",
      "91/91 [==============================] - 544s 6s/step - loss: 9.2902e-04 - acc: 0.9902 - dice: 0.7663 - iou: 0.6235 - val_loss: 0.2331 - val_acc: 0.9775 - val_dice: 0.0577 - val_iou: 0.0297\n",
      "('Epoch', 40)\n",
      "Epoch 1/1\n",
      "91/91 [==============================] - 544s 6s/step - loss: 8.7206e-04 - acc: 0.9908 - dice: 0.7784 - iou: 0.6392 - val_loss: 0.2341 - val_acc: 0.9773 - val_dice: 0.0641 - val_iou: 0.0331\n",
      "('Epoch', 41)\n",
      "Epoch 1/1\n",
      "91/91 [==============================] - 542s 6s/step - loss: 8.2731e-04 - acc: 0.9913 - dice: 0.7874 - iou: 0.6512 - val_loss: 0.2376 - val_acc: 0.9773 - val_dice: 0.0611 - val_iou: 0.0315\n",
      "('Epoch', 42)\n",
      "Epoch 1/1\n",
      "91/91 [==============================] - 544s 6s/step - loss: 7.8348e-04 - acc: 0.9917 - dice: 0.7961 - iou: 0.6629 - val_loss: 0.2420 - val_acc: 0.9777 - val_dice: 0.0574 - val_iou: 0.0295\n",
      "('Epoch', 43)\n",
      "Epoch 1/1\n",
      "91/91 [==============================] - 543s 6s/step - loss: 7.6109e-04 - acc: 0.9919 - dice: 0.8006 - iou: 0.6692 - val_loss: 0.2458 - val_acc: 0.9779 - val_dice: 0.0565 - val_iou: 0.0291\n",
      "('Epoch', 44)\n",
      "Epoch 1/1\n",
      "91/91 [==============================] - 543s 6s/step - loss: 7.3241e-04 - acc: 0.9923 - dice: 0.8081 - iou: 0.6795 - val_loss: 0.2433 - val_acc: 0.9764 - val_dice: 0.0696 - val_iou: 0.0361\n",
      "('Epoch', 45)\n",
      "Epoch 1/1\n",
      "91/91 [==============================] - 541s 6s/step - loss: 7.4550e-04 - acc: 0.9922 - dice: 0.8063 - iou: 0.6769 - val_loss: 0.2513 - val_acc: 0.9779 - val_dice: 0.0546 - val_iou: 0.0280\n",
      "('Epoch', 46)\n",
      "Epoch 1/1\n",
      "91/91 [==============================] - 541s 6s/step - loss: 8.9217e-04 - acc: 0.9909 - dice: 0.7828 - iou: 0.6464 - val_loss: 0.2255 - val_acc: 0.9682 - val_dice: 0.1113 - val_iou: 0.0589\n",
      "('Epoch', 47)\n",
      "Epoch 1/1\n",
      "91/91 [==============================] - 544s 6s/step - loss: 0.0078 - acc: 0.9535 - dice: 0.4792 - iou: 0.3471 - val_loss: 0.1182 - val_acc: 0.8907 - val_dice: 0.1040 - val_iou: 0.0549\n",
      "('Epoch', 48)\n",
      "Epoch 1/1\n",
      "91/91 [==============================] - 543s 6s/step - loss: 0.0035 - acc: 0.9527 - dice: 0.4147 - iou: 0.2671 - val_loss: 0.2263 - val_acc: 0.9648 - val_dice: 0.0955 - val_iou: 0.0501\n",
      "('Epoch', 49)\n",
      "Epoch 1/1\n",
      "91/91 [==============================] - 543s 6s/step - loss: 0.0021 - acc: 0.9739 - dice: 0.5563 - iou: 0.3924 - val_loss: 0.2200 - val_acc: 0.9557 - val_dice: 0.0918 - val_iou: 0.0481\n"
     ]
    },
    {
     "data": {
      "image/png": "[encoded data removed]",
      "text/plain": [
       "<Figure size 432x288 with 1 Axes>"
      ]
     },
     "metadata": {
      "needs_background": "light"
     },
     "output_type": "display_data"
    },
    {
     "data": {
      "image/png": "[encoded data removed]",
      "text/plain": [
       "<Figure size 432x288 with 1 Axes>"
      ]
     },
     "metadata": {
      "needs_background": "light"
     },
     "output_type": "display_data"
    }
   ],
   "source": [
    "\"\"\"\n",
    "resume_epoch = 26\n",
    "path_load_weights = './weights.50e/.24'\n",
    "\n",
    "train(path_train_images, path_train_annotations, train_batch_size, \n",
    "    path_val_images, path_val_annotations, val_batch_size,\n",
    "    n_classes, input_width, input_height, \n",
    "    model_name, epochs, loss, optimizer, metrics, \n",
    "    path_save_weights, path_vgg_weights = None, train_vgg = False, \n",
    "    path_load_weights = path_load_weights, resume_epoch = resume_epoch)\n",
    "\"\"\""
   ]
  },
  {
   "cell_type": "code",
   "execution_count": 6,
   "metadata": {},
   "outputs": [],
   "source": [
    "epochs = 46"
   ]
  },
  {
   "cell_type": "code",
   "execution_count": 7,
   "metadata": {},
   "outputs": [
    {
     "name": "stdout",
     "output_type": "stream",
     "text": [
      "              precision    recall  f1-score   support\n",
      "\n",
      "           0       1.00      0.99      1.00  35908016\n",
      "           1       0.69      1.00      0.81    620112\n",
      "\n",
      "   micro avg       0.99      0.99      0.99  36528128\n",
      "   macro avg       0.84      0.99      0.91  36528128\n",
      "weighted avg       0.99      0.99      0.99  36528128\n",
      "\n",
      "('F1/dice (binary): ', 0.8140677466396773)\n",
      "('Jaccard/IOU: ', 0.6864369733878368)\n"
     ]
    }
   ],
   "source": [
    "predict(\n",
    "    path_train_images, path_train_annotations, path_train_predictions,\n",
    "    n_classes, input_width, input_height, \n",
    "    model_name, epochs, loss, optimizer, metrics, \n",
    "    path_save_weights\n",
    ")"
   ]
  },
  {
   "cell_type": "code",
   "execution_count": null,
   "metadata": {},
   "outputs": [],
   "source": [
    "visualize_dataset(\n",
    "    path_train_images, path_train_annotations, \n",
    "    n_classes, n_channel_annotations = n_channel_annotations,\n",
    "    dir_predictions = path_train_predictions\n",
    ")"
   ]
  },
  {
   "cell_type": "code",
   "execution_count": 9,
   "metadata": {},
   "outputs": [
    {
     "name": "stdout",
     "output_type": "stream",
     "text": [
      "              precision    recall  f1-score   support\n",
      "\n",
      "           0       0.99      0.99      0.99   1779279\n",
      "           1       0.08      0.04      0.05     27057\n",
      "\n",
      "   micro avg       0.98      0.98      0.98   1806336\n",
      "   macro avg       0.53      0.52      0.52   1806336\n",
      "weighted avg       0.97      0.98      0.97   1806336\n",
      "\n",
      "('F1/dice (binary): ', 0.054563985873094877)\n",
      "('Jaccard/IOU: ', 0.028047175788293778)\n"
     ]
    }
   ],
   "source": [
    "predict(\n",
    "    path_val_images, path_val_annotations, path_val_predictions,\n",
    "    n_classes, input_width, input_height, \n",
    "    model_name, epochs, loss, optimizer, metrics,\n",
    "    path_save_weights\n",
    ")"
   ]
  },
  {
   "cell_type": "code",
   "execution_count": null,
   "metadata": {},
   "outputs": [],
   "source": [
    "visualize_dataset(\n",
    "    path_val_images, path_val_annotations, \n",
    "    n_classes, n_channel_annotations = n_channel_annotations,\n",
    "    dir_predictions = path_val_predictions\n",
    ")"
   ]
  },
  {
   "cell_type": "code",
   "execution_count": 11,
   "metadata": {},
   "outputs": [
    {
     "name": "stdout",
     "output_type": "stream",
     "text": [
      "              precision    recall  f1-score   support\n",
      "\n",
      "           0       0.98      1.00      0.99   1714591\n",
      "           1       0.29      0.07      0.11     41569\n",
      "\n",
      "   micro avg       0.97      0.97      0.97   1756160\n",
      "   macro avg       0.63      0.53      0.55   1756160\n",
      "weighted avg       0.96      0.97      0.97   1756160\n",
      "\n",
      "('F1/dice (binary): ', 0.11269628680680914)\n",
      "('Jaccard/IOU: ', 0.05971285173605397)\n"
     ]
    }
   ],
   "source": [
    "predict(\n",
    "    path_test_images, path_test_annotations, path_test_predictions,\n",
    "    n_classes, input_width, input_height, \n",
    "    model_name, epochs, loss, optimizer, metrics,\n",
    "    path_save_weights\n",
    ")"
   ]
  },
  {
   "cell_type": "code",
   "execution_count": null,
   "metadata": {},
   "outputs": [],
   "source": [
    "visualize_dataset(\n",
    "    path_test_images, path_test_annotations, \n",
    "    n_classes, n_channel_annotations = n_channel_annotations, \n",
    "    dir_predictions = path_test_predictions\n",
    ")"
   ]
  }
 ],
 "metadata": {
  "kernelspec": {
   "display_name": "Python 3",
   "language": "python",
   "name": "python3"
  },
  "language_info": {
   "codemirror_mode": {
    "name": "ipython",
    "version": 3
   },
   "file_extension": ".py",
   "mimetype": "text/x-python",
   "name": "python",
   "nbconvert_exporter": "python",
   "pygments_lexer": "ipython3",
   "version": "3.7.0"
  }
 },
 "nbformat": 4,
 "nbformat_minor": 2
}
