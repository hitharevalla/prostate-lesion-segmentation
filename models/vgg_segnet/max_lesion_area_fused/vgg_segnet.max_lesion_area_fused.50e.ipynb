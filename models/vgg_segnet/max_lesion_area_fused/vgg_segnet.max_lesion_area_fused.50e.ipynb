{
 "cells": [
  {
   "cell_type": "code",
   "execution_count": 1,
   "metadata": {},
   "outputs": [
    {
     "name": "stderr",
     "output_type": "stream",
     "text": [
      "Using TensorFlow backend.\n"
     ]
    }
   ],
   "source": [
    "import glob\n",
    "import math\n",
    "import sys\n",
    "import timeit\n",
    "\n",
    "sys.path.insert(0, '../../')\n",
    "from visualize_dataset import *\n",
    "from losses import *\n",
    "from metrics import *\n",
    "from predict import *\n",
    "from train import *\n",
    "from utils import *"
   ]
  },
  {
   "cell_type": "code",
   "execution_count": 2,
   "metadata": {},
   "outputs": [],
   "source": [
    "path_train_images = '../../../data/stanford_max_lesion_area_fused_cropped/train/Slice/'\n",
    "path_train_annotations = '../../../data/stanford_max_lesion_area_fused_cropped/train/ROI/'\n",
    "path_train_predictions = './predictions.50e/train/'\n",
    "\n",
    "path_val_images = '../../../data/stanford_max_lesion_area_fused_cropped/val/Slice/'\n",
    "path_val_annotations = '../../../data/stanford_max_lesion_area_fused_cropped/val/ROI/'\n",
    "path_val_predictions = './predictions.50e/val/'\n",
    "\n",
    "path_test_images = '../../../data/stanford_max_lesion_area_fused_cropped/test/Slice/'\n",
    "path_test_annotations = '../../../data/stanford_max_lesion_area_fused_cropped/test/ROI/'\n",
    "path_test_predictions = './predictions.50e/test/'\n",
    "\n",
    "path_save_weights = './weights.50e/'\n",
    "path_load_weights = None\n",
    "\n",
    "train_vgg = False\n",
    "path_vgg_weights = '../../../data/vgg16_weights_th_dim_ordering_th_kernels.h5'\n",
    "\n",
    "n_classes = 2\n",
    "input_height = 224\n",
    "input_width = 224\n",
    "n_channel_annotations = 1"
   ]
  },
  {
   "cell_type": "code",
   "execution_count": 3,
   "metadata": {},
   "outputs": [
    {
     "name": "stdout",
     "output_type": "stream",
     "text": [
      "('Number train images: ', 376)\n",
      "('Number val images: ', 15)\n",
      "('Number test images: ', 14)\n"
     ]
    }
   ],
   "source": [
    "print('Number train images: ', len(glob.glob(path_train_images + '*.png')))\n",
    "print('Number val images: ', len(glob.glob(path_val_images + '*.png')))\n",
    "print('Number test images: ', len(glob.glob(path_test_images + '*.png')))"
   ]
  },
  {
   "cell_type": "code",
   "execution_count": 4,
   "metadata": {},
   "outputs": [],
   "source": [
    "model_name = 'vgg_segnet'\n",
    "epochs = 50\n",
    "train_batch_size = 8\n",
    "val_batch_size = len(glob.glob(path_val_images + '*.png'))"
   ]
  },
  {
   "cell_type": "code",
   "execution_count": 5,
   "metadata": {},
   "outputs": [
    {
     "name": "stdout",
     "output_type": "stream",
     "text": [
      "[0.97803434 0.02196566]\n",
      "[ 1.         44.52560761]\n",
      "[0.0222105  3.81827497]\n"
     ]
    }
   ],
   "source": [
    "optimizer = 'adadelta'\n",
    "metrics = ['accuracy', dice, iou]\n",
    "\n",
    "class_props = calc_class_proportions(path_train_annotations, n_classes, n_channel_annotations)\n",
    "class_weights = calc_class_weights(path_train_annotations, n_classes, n_channel_annotations)\n",
    "class_weights_log = calc_class_weights(path_train_annotations, n_classes, n_channel_annotations, scale = 'log')\n",
    "\n",
    "print(class_props)\n",
    "print(class_weights)\n",
    "print(class_weights_log)\n",
    "\n",
    "loss = weighted_categorical_crossentropy_loss(class_weights_log)"
   ]
  },
  {
   "cell_type": "code",
   "execution_count": null,
   "metadata": {},
   "outputs": [
    {
     "name": "stdout",
     "output_type": "stream",
     "text": [
      "('Model output shape', (None, 50176, 2))\n",
      "('Epoch', 0)\n",
      "Epoch 1/1\n",
      "47/47 [==============================] - 1196s 25s/step - loss: 0.0354 - acc: 0.5768 - dice: 0.0814 - iou: 0.0426 - val_loss: 0.0311 - val_acc: 0.5474 - val_dice: 0.0695 - val_iou: 0.0360\n",
      "('Epoch', 1)\n",
      "Epoch 1/1\n",
      "47/47 [==============================] - 1217s 26s/step - loss: 0.0235 - acc: 0.6484 - dice: 0.1022 - iou: 0.0541 - val_loss: 0.0329 - val_acc: 0.6397 - val_dice: 0.0828 - val_iou: 0.0432\n",
      "('Epoch', 2)\n",
      "Epoch 1/1\n",
      "47/47 [==============================] - 1198s 25s/step - loss: 0.0190 - acc: 0.7569 - dice: 0.1409 - iou: 0.0762 - val_loss: 0.0348 - val_acc: 0.6778 - val_dice: 0.0895 - val_iou: 0.0469\n",
      "('Epoch', 3)\n",
      "Epoch 1/1\n",
      "47/47 [==============================] - 1227s 26s/step - loss: 0.0158 - acc: 0.8448 - dice: 0.2060 - iou: 0.1159 - val_loss: 0.0380 - val_acc: 0.7529 - val_dice: 0.1059 - val_iou: 0.0559\n",
      "('Epoch', 4)\n",
      "Epoch 1/1\n",
      "47/47 [==============================] - 1193s 25s/step - loss: 0.0139 - acc: 0.8881 - dice: 0.2648 - iou: 0.1548 - val_loss: 0.0467 - val_acc: 0.8717 - val_dice: 0.1439 - val_iou: 0.0775\n",
      "('Epoch', 5)\n",
      "Epoch 1/1\n",
      "47/47 [==============================] - 1236s 26s/step - loss: 0.0132 - acc: 0.9123 - dice: 0.3142 - iou: 0.1895 - val_loss: 0.0437 - val_acc: 0.7899 - val_dice: 0.1186 - val_iou: 0.0630\n",
      "('Epoch', 6)\n",
      "Epoch 1/1\n",
      "47/47 [==============================] - 1206s 26s/step - loss: 0.0127 - acc: 0.9007 - dice: 0.2904 - iou: 0.1727 - val_loss: 0.0639 - val_acc: 0.9306 - val_dice: 0.1567 - val_iou: 0.0850\n",
      "('Epoch', 7)\n",
      "Epoch 1/1\n",
      "47/47 [==============================] - 1233s 26s/step - loss: 0.0107 - acc: 0.9371 - dice: 0.3878 - iou: 0.2448 - val_loss: 0.0712 - val_acc: 0.9439 - val_dice: 0.1562 - val_iou: 0.0847\n",
      "('Epoch', 8)\n",
      "Epoch 1/1\n",
      "47/47 [==============================] - 1197s 25s/step - loss: 0.0093 - acc: 0.9525 - dice: 0.4531 - iou: 0.2981 - val_loss: 0.0830 - val_acc: 0.9609 - val_dice: 0.1426 - val_iou: 0.0768\n",
      "('Epoch', 9)\n",
      "Epoch 1/1\n",
      "47/47 [==============================] - 1226s 26s/step - loss: 0.0086 - acc: 0.9608 - dice: 0.4990 - iou: 0.3380 - val_loss: 0.0679 - val_acc: 0.8921 - val_dice: 0.1283 - val_iou: 0.0685\n",
      "('Epoch', 10)\n",
      "Epoch 1/1\n",
      "47/47 [==============================] - 1196s 25s/step - loss: 0.0079 - acc: 0.9648 - dice: 0.5265 - iou: 0.3626 - val_loss: 0.0751 - val_acc: 0.9362 - val_dice: 0.1531 - val_iou: 0.0829\n",
      "('Epoch', 11)\n",
      "Epoch 1/1\n",
      "47/47 [==============================] - 1231s 26s/step - loss: 0.0070 - acc: 0.9697 - dice: 0.5613 - iou: 0.3936 - val_loss: 0.0984 - val_acc: 0.9695 - val_dice: 0.1283 - val_iou: 0.0686\n",
      "('Epoch', 12)\n",
      "Epoch 1/1\n",
      "47/47 [==============================] - 1197s 25s/step - loss: 0.0063 - acc: 0.9748 - dice: 0.6055 - iou: 0.4374 - val_loss: 0.0911 - val_acc: 0.9545 - val_dice: 0.1544 - val_iou: 0.0837\n",
      "('Epoch', 13)\n",
      "Epoch 1/1\n",
      "47/47 [==============================] - 1226s 26s/step - loss: 0.0057 - acc: 0.9786 - dice: 0.6424 - iou: 0.4763 - val_loss: 0.0954 - val_acc: 0.9637 - val_dice: 0.1757 - val_iou: 0.0963\n",
      "('Epoch', 14)\n",
      "Epoch 1/1\n",
      "47/47 [==============================] - 1201s 26s/step - loss: 0.0053 - acc: 0.9793 - dice: 0.6523 - iou: 0.4879 - val_loss: 0.0856 - val_acc: 0.9415 - val_dice: 0.1618 - val_iou: 0.0880\n",
      "('Epoch', 15)\n",
      "Epoch 1/1\n",
      "47/47 [==============================] - 1226s 26s/step - loss: 0.0047 - acc: 0.9817 - dice: 0.6773 - iou: 0.5148 - val_loss: 0.0999 - val_acc: 0.9604 - val_dice: 0.1796 - val_iou: 0.0987\n",
      "('Epoch', 16)\n",
      "Epoch 1/1\n",
      "47/47 [==============================] - 1206s 26s/step - loss: 0.0043 - acc: 0.9835 - dice: 0.6998 - iou: 0.5400 - val_loss: 0.1086 - val_acc: 0.9627 - val_dice: 0.1645 - val_iou: 0.0896\n",
      "('Epoch', 17)\n",
      "Epoch 1/1\n",
      "47/47 [==============================] - 1224s 26s/step - loss: 0.0040 - acc: 0.9850 - dice: 0.7196 - iou: 0.5639 - val_loss: 0.1199 - val_acc: 0.9688 - val_dice: 0.1519 - val_iou: 0.0822\n",
      "('Epoch', 18)\n",
      "Epoch 1/1\n",
      "47/47 [==============================] - 1198s 25s/step - loss: 0.0036 - acc: 0.9864 - dice: 0.7384 - iou: 0.5870 - val_loss: 0.1169 - val_acc: 0.9626 - val_dice: 0.1556 - val_iou: 0.0844\n",
      "('Epoch', 19)\n",
      "Epoch 1/1\n",
      "47/47 [==============================] - 1237s 26s/step - loss: 0.0034 - acc: 0.9867 - dice: 0.7425 - iou: 0.5924 - val_loss: 0.1285 - val_acc: 0.9694 - val_dice: 0.1530 - val_iou: 0.0828\n",
      "('Epoch', 20)\n",
      "Epoch 1/1\n",
      "47/47 [==============================] - 1206s 26s/step - loss: 0.0033 - acc: 0.9861 - dice: 0.7353 - iou: 0.5837 - val_loss: 0.1101 - val_acc: 0.9408 - val_dice: 0.1552 - val_iou: 0.0841\n",
      "('Epoch', 21)\n",
      "Epoch 1/1\n",
      "47/47 [==============================] - 1217s 26s/step - loss: 0.0036 - acc: 0.9813 - dice: 0.6737 - iou: 0.5122 - val_loss: 0.1338 - val_acc: 0.9661 - val_dice: 0.1423 - val_iou: 0.0766\n",
      "('Epoch', 22)\n",
      "Epoch 1/1\n",
      "47/47 [==============================] - 1216s 26s/step - loss: 0.0064 - acc: 0.9588 - dice: 0.5245 - iou: 0.3736 - val_loss: 0.1056 - val_acc: 0.9341 - val_dice: 0.1361 - val_iou: 0.0730\n",
      "('Epoch', 23)\n",
      "Epoch 1/1\n",
      "47/47 [==============================] - 1218s 26s/step - loss: 0.0041 - acc: 0.9715 - dice: 0.5782 - iou: 0.4125 - val_loss: 0.1324 - val_acc: 0.9661 - val_dice: 0.1526 - val_iou: 0.0826\n",
      "('Epoch', 24)\n",
      "Epoch 1/1\n",
      "47/47 [==============================] - 1219s 26s/step - loss: 0.0033 - acc: 0.9805 - dice: 0.6620 - iou: 0.4988 - val_loss: 0.1374 - val_acc: 0.9672 - val_dice: 0.1561 - val_iou: 0.0846\n",
      "('Epoch', 25)\n",
      "Epoch 1/1\n",
      "47/47 [==============================] - 1210s 26s/step - loss: 0.0028 - acc: 0.9841 - dice: 0.7066 - iou: 0.5497 - val_loss: 0.1343 - val_acc: 0.9647 - val_dice: 0.1669 - val_iou: 0.0910\n",
      "('Epoch', 26)\n",
      "Epoch 1/1\n",
      "47/47 [==============================] - 1086s 23s/step - loss: 0.0025 - acc: 0.9863 - dice: 0.7369 - iou: 0.5866 - val_loss: 0.1537 - val_acc: 0.9714 - val_dice: 0.1461 - val_iou: 0.0788\n",
      "('Epoch', 27)\n",
      "Epoch 1/1\n",
      "47/47 [==============================] - 785s 17s/step - loss: 0.0022 - acc: 0.9880 - dice: 0.7609 - iou: 0.6166 - val_loss: 0.1638 - val_acc: 0.9733 - val_dice: 0.1312 - val_iou: 0.0702\n",
      "('Epoch', 28)\n",
      "Epoch 1/1\n",
      "47/47 [==============================] - 706s 15s/step - loss: 0.0020 - acc: 0.9892 - dice: 0.7800 - iou: 0.6415 - val_loss: 0.1644 - val_acc: 0.9719 - val_dice: 0.1359 - val_iou: 0.0729\n",
      "('Epoch', 29)\n",
      "Epoch 1/1\n",
      "47/47 [==============================] - 685s 15s/step - loss: 0.0018 - acc: 0.9901 - dice: 0.7943 - iou: 0.6608 - val_loss: 0.1760 - val_acc: 0.9737 - val_dice: 0.1235 - val_iou: 0.0658\n",
      "('Epoch', 30)\n",
      "Epoch 1/1\n",
      "47/47 [==============================] - 882s 19s/step - loss: 0.0017 - acc: 0.9908 - dice: 0.8064 - iou: 0.6771 - val_loss: 0.1801 - val_acc: 0.9743 - val_dice: 0.1231 - val_iou: 0.0656\n",
      "('Epoch', 31)\n",
      "Epoch 1/1\n",
      "47/47 [==============================] - 933s 20s/step - loss: 0.0016 - acc: 0.9914 - dice: 0.8172 - iou: 0.6923 - val_loss: 0.1826 - val_acc: 0.9735 - val_dice: 0.1271 - val_iou: 0.0679\n",
      "('Epoch', 32)\n",
      "Epoch 1/1\n",
      "47/47 [==============================] - 957s 20s/step - loss: 0.0015 - acc: 0.9919 - dice: 0.8254 - iou: 0.7038 - val_loss: 0.1889 - val_acc: 0.9742 - val_dice: 0.1233 - val_iou: 0.0657\n",
      "('Epoch', 33)\n",
      "Epoch 1/1\n",
      "47/47 [==============================] - 1067s 23s/step - loss: 0.0014 - acc: 0.9923 - dice: 0.8331 - iou: 0.7150 - val_loss: 0.1901 - val_acc: 0.9733 - val_dice: 0.1294 - val_iou: 0.0691\n",
      "('Epoch', 34)\n",
      "Epoch 1/1\n",
      "47/47 [==============================] - 969s 21s/step - loss: 0.0013 - acc: 0.9926 - dice: 0.8389 - iou: 0.7234 - val_loss: 0.1988 - val_acc: 0.9750 - val_dice: 0.1202 - val_iou: 0.0639\n",
      "('Epoch', 35)\n",
      "Epoch 1/1\n",
      "47/47 [==============================] - 938s 20s/step - loss: 0.0013 - acc: 0.9930 - dice: 0.8451 - iou: 0.7326 - val_loss: 0.2035 - val_acc: 0.9748 - val_dice: 0.1123 - val_iou: 0.0595\n",
      "('Epoch', 36)\n",
      "Epoch 1/1\n",
      "47/47 [==============================] - 968s 21s/step - loss: 0.0012 - acc: 0.9932 - dice: 0.8486 - iou: 0.7377 - val_loss: 0.2069 - val_acc: 0.9748 - val_dice: 0.1189 - val_iou: 0.0632\n",
      "('Epoch', 37)\n",
      "Epoch 1/1\n",
      "47/47 [==============================] - 933s 20s/step - loss: 0.0012 - acc: 0.9934 - dice: 0.8527 - iou: 0.7438 - val_loss: 0.2087 - val_acc: 0.9744 - val_dice: 0.1208 - val_iou: 0.0643\n",
      "('Epoch', 38)\n",
      "Epoch 1/1\n",
      "47/47 [==============================] - 1038s 22s/step - loss: 0.0011 - acc: 0.9932 - dice: 0.8500 - iou: 0.7398 - val_loss: 0.2131 - val_acc: 0.9752 - val_dice: 0.1156 - val_iou: 0.0613\n",
      "('Epoch', 39)\n",
      "Epoch 1/1\n",
      "47/47 [==============================] - 931s 20s/step - loss: 0.0011 - acc: 0.9933 - dice: 0.8510 - iou: 0.7413 - val_loss: 0.2068 - val_acc: 0.9722 - val_dice: 0.1319 - val_iou: 0.0706\n",
      "('Epoch', 40)\n",
      "Epoch 1/1\n",
      "47/47 [==============================] - 923s 20s/step - loss: 0.0011 - acc: 0.9932 - dice: 0.8492 - iou: 0.7386 - val_loss: 0.2229 - val_acc: 0.9759 - val_dice: 0.1075 - val_iou: 0.0568\n",
      "('Epoch', 41)\n",
      "Epoch 1/1\n",
      "47/47 [==============================] - 892s 19s/step - loss: 0.0011 - acc: 0.9929 - dice: 0.8448 - iou: 0.7323 - val_loss: 0.2144 - val_acc: 0.9736 - val_dice: 0.1222 - val_iou: 0.0651\n",
      "('Epoch', 42)\n",
      "Epoch 1/1\n",
      "47/47 [==============================] - 887s 19s/step - loss: 0.0012 - acc: 0.9929 - dice: 0.8432 - iou: 0.7299 - val_loss: 0.1858 - val_acc: 0.9632 - val_dice: 0.1611 - val_iou: 0.0876\n",
      "('Epoch', 43)\n",
      "Epoch 1/1\n",
      "47/47 [==============================] - 694s 15s/step - loss: 0.0012 - acc: 0.9923 - dice: 0.8337 - iou: 0.7157 - val_loss: 0.2142 - val_acc: 0.9726 - val_dice: 0.1306 - val_iou: 0.0699\n",
      "('Epoch', 44)\n",
      "Epoch 1/1\n",
      "47/47 [==============================] - 723s 15s/step - loss: 0.0012 - acc: 0.9926 - dice: 0.8393 - iou: 0.7242 - val_loss: 0.1859 - val_acc: 0.9622 - val_dice: 0.1575 - val_iou: 0.0855\n",
      "('Epoch', 45)\n",
      "Epoch 1/1\n",
      "47/47 [==============================] - 699s 15s/step - loss: 0.0012 - acc: 0.9924 - dice: 0.8353 - iou: 0.7181 - val_loss: 0.2275 - val_acc: 0.9766 - val_dice: 0.1172 - val_iou: 0.0623\n",
      "('Epoch', 46)\n",
      "Epoch 1/1\n",
      "47/47 [==============================] - 791s 17s/step - loss: 0.0012 - acc: 0.9924 - dice: 0.8358 - iou: 0.7189 - val_loss: 0.2229 - val_acc: 0.9738 - val_dice: 0.1224 - val_iou: 0.0652\n",
      "('Epoch', 47)\n",
      "Epoch 1/1\n",
      "47/47 [==============================] - 764s 16s/step - loss: 0.0011 - acc: 0.9930 - dice: 0.8462 - iou: 0.7341 - val_loss: 0.2208 - val_acc: 0.9722 - val_dice: 0.1264 - val_iou: 0.0675\n",
      "('Epoch', 48)\n",
      "Epoch 1/1\n",
      "47/47 [==============================] - 722s 15s/step - loss: 0.0011 - acc: 0.9925 - dice: 0.8371 - iou: 0.7208 - val_loss: 0.2295 - val_acc: 0.9743 - val_dice: 0.1210 - val_iou: 0.0644\n",
      "('Epoch', 49)\n",
      "Epoch 1/1\n",
      "46/47 [============================>.] - ETA: 13s - loss: 0.0011 - acc: 0.9925 - dice: 0.8372 - iou: 0.7211"
     ]
    }
   ],
   "source": [
    "start = timeit.default_timer()\n",
    "train(\n",
    "    path_train_images, path_train_annotations, train_batch_size, \n",
    "    path_val_images, path_val_annotations, val_batch_size,\n",
    "    n_classes, input_width, input_height, \n",
    "    model_name, epochs, loss, optimizer, metrics,\n",
    "    path_save_weights, path_vgg_weights = path_vgg_weights, train_vgg = train_vgg, path_load_weights = None\n",
    ")\n",
    "end = timeit.default_timer()"
   ]
  },
  {
   "cell_type": "code",
   "execution_count": null,
   "metadata": {},
   "outputs": [],
   "source": [
    "print('Total training time: ', end - start)"
   ]
  },
  {
   "cell_type": "code",
   "execution_count": 6,
   "metadata": {},
   "outputs": [],
   "source": [
    "epochs = 42"
   ]
  },
  {
   "cell_type": "code",
   "execution_count": 7,
   "metadata": {},
   "outputs": [
    {
     "name": "stdout",
     "output_type": "stream",
     "text": [
      "              precision    recall  f1-score   support\n",
      "\n",
      "           0       1.00      0.99      1.00  18491024\n",
      "           1       0.74      0.99      0.85    375152\n",
      "\n",
      "   micro avg       0.99      0.99      0.99  18866176\n",
      "   macro avg       0.87      0.99      0.92  18866176\n",
      "weighted avg       0.99      0.99      0.99  18866176\n",
      "\n",
      "('F1/dice (binary): ', 0.8473716078478054)\n",
      "('Jaccard/IOU: ', 0.7351646147337982)\n"
     ]
    }
   ],
   "source": [
    "predict(\n",
    "    path_train_images, path_train_annotations, path_train_predictions,\n",
    "    n_classes, input_width, input_height, \n",
    "    model_name, epochs, loss, optimizer, metrics, \n",
    "    path_save_weights\n",
    ")"
   ]
  },
  {
   "cell_type": "code",
   "execution_count": null,
   "metadata": {},
   "outputs": [],
   "source": [
    "visualize_dataset(\n",
    "    path_train_images, path_train_annotations, \n",
    "    n_classes, n_channel_annotations = n_channel_annotations,\n",
    "    dir_predictions = path_train_predictions\n",
    ")"
   ]
  },
  {
   "cell_type": "code",
   "execution_count": 9,
   "metadata": {},
   "outputs": [
    {
     "name": "stdout",
     "output_type": "stream",
     "text": [
      "              precision    recall  f1-score   support\n",
      "\n",
      "           0       0.98      0.99      0.99    739775\n",
      "           1       0.13      0.11      0.12     12865\n",
      "\n",
      "   micro avg       0.97      0.97      0.97    752640\n",
      "   macro avg       0.56      0.55      0.55    752640\n",
      "weighted avg       0.97      0.97      0.97    752640\n",
      "\n",
      "('F1/dice (binary): ', 0.12196369215034518)\n",
      "('Jaccard/IOU: ', 0.06494213750850919)\n"
     ]
    }
   ],
   "source": [
    "predict(\n",
    "    path_val_images, path_val_annotations, path_val_predictions,\n",
    "    n_classes, input_width, input_height, \n",
    "    model_name, epochs, loss, optimizer, metrics,\n",
    "    path_save_weights\n",
    ")"
   ]
  },
  {
   "cell_type": "code",
   "execution_count": null,
   "metadata": {},
   "outputs": [],
   "source": [
    "visualize_dataset(\n",
    "    path_val_images, path_val_annotations, \n",
    "    n_classes, n_channel_annotations = n_channel_annotations,\n",
    "    dir_predictions = path_val_predictions\n",
    ")"
   ]
  },
  {
   "cell_type": "code",
   "execution_count": 11,
   "metadata": {},
   "outputs": [
    {
     "name": "stdout",
     "output_type": "stream",
     "text": [
      "              precision    recall  f1-score   support\n",
      "\n",
      "           0       0.98      0.99      0.99    686571\n",
      "           1       0.38      0.23      0.29     15893\n",
      "\n",
      "   micro avg       0.97      0.97      0.97    702464\n",
      "   macro avg       0.68      0.61      0.64    702464\n",
      "weighted avg       0.97      0.97      0.97    702464\n",
      "\n",
      "('F1/dice (binary): ', 0.28548877224831287)\n",
      "('Jaccard/IOU: ', 0.16651321241138017)\n"
     ]
    }
   ],
   "source": [
    "predict(\n",
    "    path_test_images, path_test_annotations, path_test_predictions,\n",
    "    n_classes, input_width, input_height, \n",
    "    model_name, epochs, loss, optimizer, metrics,\n",
    "    path_save_weights\n",
    ")"
   ]
  },
  {
   "cell_type": "code",
   "execution_count": null,
   "metadata": {},
   "outputs": [],
   "source": [
    "visualize_dataset(\n",
    "    path_test_images, path_test_annotations, \n",
    "    n_classes, n_channel_annotations = n_channel_annotations, \n",
    "    dir_predictions = path_test_predictions\n",
    ")"
   ]
  }
 ],
 "metadata": {
  "kernelspec": {
   "display_name": "Python 3",
   "language": "python",
   "name": "python3"
  },
  "language_info": {
   "codemirror_mode": {
    "name": "ipython",
    "version": 3
   },
   "file_extension": ".py",
   "mimetype": "text/x-python",
   "name": "python",
   "nbconvert_exporter": "python",
   "pygments_lexer": "ipython3",
   "version": "3.7.0"
  }
 },
 "nbformat": 4,
 "nbformat_minor": 2
}
