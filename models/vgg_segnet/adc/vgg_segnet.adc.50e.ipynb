{
 "cells": [
  {
   "cell_type": "code",
   "execution_count": 1,
   "metadata": {},
   "outputs": [
    {
     "name": "stderr",
     "output_type": "stream",
     "text": [
      "Using TensorFlow backend.\n"
     ]
    }
   ],
   "source": [
    "import glob\n",
    "import math\n",
    "import sys\n",
    "import timeit\n",
    "\n",
    "sys.path.insert(0, '../../')\n",
    "from visualize_dataset import *\n",
    "from losses import *\n",
    "from metrics import *\n",
    "from predict import *\n",
    "from train import *\n",
    "from utils import *"
   ]
  },
  {
   "cell_type": "code",
   "execution_count": 2,
   "metadata": {},
   "outputs": [],
   "source": [
    "path_train_images = '../../../data/stanford_adc_cropped/train/Slice/'\n",
    "path_train_annotations = '../../../data/stanford_adc_cropped/train/ROI/'\n",
    "path_train_predictions = './predictions.50e/train/'\n",
    "\n",
    "path_val_images = '../../../data/stanford_adc_cropped/val/Slice/'\n",
    "path_val_annotations = '../../../data/stanford_adc_cropped/val/ROI/'\n",
    "path_val_predictions = './predictions.50e/val/'\n",
    "\n",
    "path_test_images = '../../../data/stanford_adc_cropped/test/Slice/'\n",
    "path_test_annotations = '../../../data/stanford_adc_cropped/test/ROI/'\n",
    "path_test_predictions = './predictions.50e/test/'\n",
    "\n",
    "path_save_weights = './weights.50e/'\n",
    "path_load_weights = None\n",
    "\n",
    "train_vgg = False\n",
    "path_vgg_weights = '../../../data/vgg16_weights_th_dim_ordering_th_kernels.h5'\n",
    "\n",
    "n_classes = 2\n",
    "input_height = 224\n",
    "input_width = 224\n",
    "n_channel_annotations = 1"
   ]
  },
  {
   "cell_type": "code",
   "execution_count": 3,
   "metadata": {},
   "outputs": [
    {
     "name": "stdout",
     "output_type": "stream",
     "text": [
      "('Number train images: ', 192)\n",
      "('Number val images: ', 11)\n",
      "('Number test images: ', 12)\n"
     ]
    }
   ],
   "source": [
    "print('Number train images: ', len(glob.glob(path_train_images + '*.png')))\n",
    "print('Number val images: ', len(glob.glob(path_val_images + '*.png')))\n",
    "print('Number test images: ', len(glob.glob(path_test_images + '*.png')))"
   ]
  },
  {
   "cell_type": "code",
   "execution_count": 4,
   "metadata": {},
   "outputs": [],
   "source": [
    "model_name = 'vgg_segnet'\n",
    "epochs = 50\n",
    "train_batch_size = 8\n",
    "val_batch_size = len(glob.glob(path_val_images + '*.png'))"
   ]
  },
  {
   "cell_type": "code",
   "execution_count": 5,
   "metadata": {},
   "outputs": [
    {
     "name": "stdout",
     "output_type": "stream",
     "text": [
      "[0.98175173 0.01824827]\n",
      "[ 1.         53.79972696]\n",
      "[0.01841682 4.00368521]\n"
     ]
    }
   ],
   "source": [
    "optimizer = 'adadelta'\n",
    "metrics = ['accuracy', dice, iou]\n",
    "\n",
    "class_props = calc_class_proportions(path_train_annotations, n_classes, n_channel_annotations)\n",
    "class_weights = calc_class_weights(path_train_annotations, n_classes, n_channel_annotations)\n",
    "class_weights_log = calc_class_weights(path_train_annotations, n_classes, n_channel_annotations, scale = 'log')\n",
    "\n",
    "print(class_props)\n",
    "print(class_weights)\n",
    "print(class_weights_log)\n",
    "\n",
    "loss = weighted_categorical_crossentropy_loss(class_weights_log)"
   ]
  },
  {
   "cell_type": "code",
   "execution_count": 6,
   "metadata": {},
   "outputs": [
    {
     "name": "stdout",
     "output_type": "stream",
     "text": [
      "('Model output shape', (None, 50176, 2))\n",
      "('Epoch', 0)\n",
      "Epoch 1/1\n",
      "24/24 [==============================] - 479s 20s/step - loss: 0.0263 - acc: 0.6793 - dice: 0.1001 - iou: 0.0529 - val_loss: 0.0297 - val_acc: 0.6434 - val_dice: 0.0454 - val_iou: 0.0232\n",
      "('Epoch', 1)\n",
      "Epoch 1/1\n",
      "24/24 [==============================] - 625s 26s/step - loss: 0.0168 - acc: 0.7484 - dice: 0.1270 - iou: 0.0681 - val_loss: 0.0222 - val_acc: 0.7586 - val_dice: 0.0611 - val_iou: 0.0315\n",
      "('Epoch', 2)\n",
      "Epoch 1/1\n",
      "24/24 [==============================] - 642s 27s/step - loss: 0.0145 - acc: 0.7988 - dice: 0.1537 - iou: 0.0836 - val_loss: 0.0257 - val_acc: 0.8419 - val_dice: 0.0741 - val_iou: 0.0385\n",
      "('Epoch', 3)\n",
      "Epoch 1/1\n",
      "24/24 [==============================] - 652s 27s/step - loss: 0.0132 - acc: 0.8388 - dice: 0.1855 - iou: 0.1029 - val_loss: 0.0480 - val_acc: 0.9048 - val_dice: 0.0554 - val_iou: 0.0285\n",
      "('Epoch', 4)\n",
      "Epoch 1/1\n",
      "24/24 [==============================] - 645s 27s/step - loss: 0.0146 - acc: 0.8324 - dice: 0.1791 - iou: 0.0989 - val_loss: 0.0242 - val_acc: 0.8017 - val_dice: 0.0673 - val_iou: 0.0348\n",
      "('Epoch', 5)\n",
      "Epoch 1/1\n",
      "24/24 [==============================] - 632s 26s/step - loss: 0.0124 - acc: 0.8723 - dice: 0.2249 - iou: 0.1279 - val_loss: 0.0250 - val_acc: 0.7986 - val_dice: 0.0667 - val_iou: 0.0345\n",
      "('Epoch', 6)\n",
      "Epoch 1/1\n",
      "24/24 [==============================] - 668s 28s/step - loss: 0.0117 - acc: 0.8896 - dice: 0.2504 - iou: 0.1445 - val_loss: 0.0269 - val_acc: 0.8399 - val_dice: 0.0725 - val_iou: 0.0376\n",
      "('Epoch', 7)\n",
      "Epoch 1/1\n",
      "24/24 [==============================] - 653s 27s/step - loss: 0.0108 - acc: 0.9095 - dice: 0.2885 - iou: 0.1703 - val_loss: 0.0386 - val_acc: 0.9533 - val_dice: 0.0884 - val_iou: 0.0462\n",
      "('Epoch', 8)\n",
      "Epoch 1/1\n",
      "24/24 [==============================] - 626s 26s/step - loss: 0.0099 - acc: 0.9373 - dice: 0.3696 - iou: 0.2299 - val_loss: 0.0336 - val_acc: 0.9279 - val_dice: 0.0936 - val_iou: 0.0491\n",
      "('Epoch', 9)\n",
      "Epoch 1/1\n",
      "24/24 [==============================] - 647s 27s/step - loss: 0.0092 - acc: 0.9500 - dice: 0.4234 - iou: 0.2731 - val_loss: 0.0435 - val_acc: 0.9757 - val_dice: 0.0730 - val_iou: 0.0379\n",
      "('Epoch', 10)\n",
      "Epoch 1/1\n",
      "24/24 [==============================] - 655s 27s/step - loss: 0.0086 - acc: 0.9610 - dice: 0.4834 - iou: 0.3237 - val_loss: 0.0409 - val_acc: 0.9608 - val_dice: 0.0820 - val_iou: 0.0427\n",
      "('Epoch', 11)\n",
      "Epoch 1/1\n",
      "24/24 [==============================] - 646s 27s/step - loss: 0.0081 - acc: 0.9671 - dice: 0.5233 - iou: 0.3596 - val_loss: 0.0434 - val_acc: 0.9734 - val_dice: 0.0759 - val_iou: 0.0394\n",
      "('Epoch', 12)\n",
      "Epoch 1/1\n",
      "24/24 [==============================] - 625s 26s/step - loss: 0.0078 - acc: 0.9682 - dice: 0.5321 - iou: 0.3675 - val_loss: 0.0402 - val_acc: 0.9573 - val_dice: 0.0826 - val_iou: 0.0431\n",
      "('Epoch', 13)\n",
      "Epoch 1/1\n",
      "24/24 [==============================] - 648s 27s/step - loss: 0.0080 - acc: 0.9635 - dice: 0.5015 - iou: 0.3407 - val_loss: 0.0448 - val_acc: 0.9727 - val_dice: 0.0780 - val_iou: 0.0406\n",
      "('Epoch', 14)\n",
      "Epoch 1/1\n",
      "24/24 [==============================] - 652s 27s/step - loss: 0.0079 - acc: 0.9596 - dice: 0.4847 - iou: 0.3268 - val_loss: 0.0434 - val_acc: 0.9698 - val_dice: 0.0769 - val_iou: 0.0400\n",
      "('Epoch', 15)\n",
      "Epoch 1/1\n",
      "24/24 [==============================] - 646s 27s/step - loss: 0.0089 - acc: 0.9523 - dice: 0.4612 - iou: 0.3087 - val_loss: 0.0420 - val_acc: 0.7133 - val_dice: 0.0513 - val_iou: 0.0263\n",
      "('Epoch', 16)\n",
      "Epoch 1/1\n",
      "24/24 [==============================] - 624s 26s/step - loss: 0.0091 - acc: 0.9224 - dice: 0.3238 - iou: 0.1958 - val_loss: 0.0354 - val_acc: 0.9125 - val_dice: 0.0746 - val_iou: 0.0388\n",
      "('Epoch', 17)\n",
      "Epoch 1/1\n",
      "24/24 [==============================] - 666s 28s/step - loss: 0.0070 - acc: 0.9595 - dice: 0.4745 - iou: 0.3155 - val_loss: 0.0425 - val_acc: 0.9595 - val_dice: 0.0885 - val_iou: 0.0463\n",
      "('Epoch', 18)\n",
      "Epoch 1/1\n",
      "24/24 [==============================] - 640s 27s/step - loss: 0.0062 - acc: 0.9721 - dice: 0.5625 - iou: 0.3951 - val_loss: 0.0521 - val_acc: 0.9815 - val_dice: 0.0541 - val_iou: 0.0278\n",
      "('Epoch', 19)\n",
      "Epoch 1/1\n",
      "24/24 [==============================] - 641s 27s/step - loss: 0.0058 - acc: 0.9780 - dice: 0.6185 - iou: 0.4509 - val_loss: 0.0462 - val_acc: 0.9671 - val_dice: 0.0951 - val_iou: 0.0499\n",
      "('Epoch', 20)\n",
      "Epoch 1/1\n",
      "24/24 [==============================] - 631s 26s/step - loss: 0.0055 - acc: 0.9801 - dice: 0.6405 - iou: 0.4735 - val_loss: 0.0555 - val_acc: 0.9843 - val_dice: 0.0529 - val_iou: 0.0272\n",
      "('Epoch', 21)\n",
      "Epoch 1/1\n",
      "24/24 [==============================] - 674s 28s/step - loss: 0.0051 - acc: 0.9840 - dice: 0.6888 - iou: 0.5270 - val_loss: 0.0560 - val_acc: 0.9830 - val_dice: 0.0535 - val_iou: 0.0275\n",
      "('Epoch', 22)\n",
      "Epoch 1/1\n",
      "24/24 [==============================] - 648s 27s/step - loss: 0.0048 - acc: 0.9857 - dice: 0.7119 - iou: 0.5543 - val_loss: 0.0567 - val_acc: 0.9828 - val_dice: 0.0601 - val_iou: 0.0310\n",
      "('Epoch', 23)\n",
      "Epoch 1/1\n",
      "24/24 [==============================] - 624s 26s/step - loss: 0.0046 - acc: 0.9870 - dice: 0.7313 - iou: 0.5778 - val_loss: 0.0584 - val_acc: 0.9841 - val_dice: 0.0524 - val_iou: 0.0269\n",
      "('Epoch', 24)\n",
      "Epoch 1/1\n",
      "24/24 [==============================] - 646s 27s/step - loss: 0.0043 - acc: 0.9877 - dice: 0.7424 - iou: 0.5917 - val_loss: 0.0601 - val_acc: 0.9851 - val_dice: 0.0510 - val_iou: 0.0262\n",
      "('Epoch', 25)\n",
      "Epoch 1/1\n",
      "24/24 [==============================] - 652s 27s/step - loss: 0.0041 - acc: 0.9884 - dice: 0.7534 - iou: 0.6055 - val_loss: 0.0601 - val_acc: 0.9833 - val_dice: 0.0564 - val_iou: 0.0290\n",
      "('Epoch', 26)\n",
      "Epoch 1/1\n",
      "24/24 [==============================] - 644s 27s/step - loss: 0.0039 - acc: 0.9890 - dice: 0.7628 - iou: 0.6176 - val_loss: 0.0630 - val_acc: 0.9862 - val_dice: 0.0460 - val_iou: 0.0235\n",
      "('Epoch', 27)\n",
      "Epoch 1/1\n",
      "24/24 [==============================] - 627s 26s/step - loss: 0.0037 - acc: 0.9898 - dice: 0.7763 - iou: 0.6353 - val_loss: 0.0600 - val_acc: 0.9810 - val_dice: 0.0771 - val_iou: 0.0401\n",
      "('Epoch', 28)\n",
      "Epoch 1/1\n",
      "24/24 [==============================] - 666s 28s/step - loss: 0.0036 - acc: 0.9899 - dice: 0.7788 - iou: 0.6387 - val_loss: 0.0635 - val_acc: 0.9832 - val_dice: 0.0560 - val_iou: 0.0288\n",
      "('Epoch', 29)\n",
      "Epoch 1/1\n",
      "24/24 [==============================] - 644s 27s/step - loss: 0.0034 - acc: 0.9908 - dice: 0.7943 - iou: 0.6595 - val_loss: 0.0658 - val_acc: 0.9854 - val_dice: 0.0491 - val_iou: 0.0252\n",
      "('Epoch', 30)\n",
      "Epoch 1/1\n",
      "24/24 [==============================] - 647s 27s/step - loss: 0.0032 - acc: 0.9913 - dice: 0.8023 - iou: 0.6705 - val_loss: 0.0657 - val_acc: 0.9836 - val_dice: 0.0570 - val_iou: 0.0293\n",
      "('Epoch', 31)\n",
      "Epoch 1/1\n",
      "24/24 [==============================] - 625s 26s/step - loss: 0.0031 - acc: 0.9917 - dice: 0.8100 - iou: 0.6814 - val_loss: 0.0686 - val_acc: 0.9856 - val_dice: 0.0471 - val_iou: 0.0241\n",
      "('Epoch', 32)\n",
      "Epoch 1/1\n",
      "24/24 [==============================] - 670s 28s/step - loss: 0.0029 - acc: 0.9920 - dice: 0.8159 - iou: 0.6896 - val_loss: 0.0690 - val_acc: 0.9848 - val_dice: 0.0516 - val_iou: 0.0265\n",
      "('Epoch', 33)\n",
      "Epoch 1/1\n",
      "24/24 [==============================] - 628s 26s/step - loss: 0.0028 - acc: 0.9922 - dice: 0.8199 - iou: 0.6955 - val_loss: 0.0716 - val_acc: 0.9864 - val_dice: 0.0439 - val_iou: 0.0224\n",
      "('Epoch', 34)\n",
      "Epoch 1/1\n",
      "24/24 [==============================] - 642s 27s/step - loss: 0.0027 - acc: 0.9923 - dice: 0.8229 - iou: 0.6997 - val_loss: 0.0711 - val_acc: 0.9844 - val_dice: 0.0518 - val_iou: 0.0266\n",
      "('Epoch', 35)\n",
      "Epoch 1/1\n",
      "24/24 [==============================] - 626s 26s/step - loss: 0.0026 - acc: 0.9923 - dice: 0.8223 - iou: 0.6990 - val_loss: 0.0732 - val_acc: 0.9857 - val_dice: 0.0495 - val_iou: 0.0254\n",
      "('Epoch', 36)\n",
      "Epoch 1/1\n",
      "24/24 [==============================] - 671s 28s/step - loss: 0.0025 - acc: 0.9926 - dice: 0.8266 - iou: 0.7050 - val_loss: 0.0755 - val_acc: 0.9866 - val_dice: 0.0407 - val_iou: 0.0208\n",
      "('Epoch', 37)\n",
      "Epoch 1/1\n",
      "24/24 [==============================] - 638s 27s/step - loss: 0.0024 - acc: 0.9927 - dice: 0.8292 - iou: 0.7089 - val_loss: 0.0629 - val_acc: 0.9671 - val_dice: 0.0865 - val_iou: 0.0452\n",
      "('Epoch', 38)\n",
      "Epoch 1/1\n",
      "24/24 [==============================] - 632s 26s/step - loss: 0.0026 - acc: 0.9901 - dice: 0.7886 - iou: 0.6556 - val_loss: 0.0435 - val_acc: 0.9016 - val_dice: 0.0780 - val_iou: 0.0406\n"
     ]
    },
    {
     "name": "stdout",
     "output_type": "stream",
     "text": [
      "('Epoch', 39)\n",
      "Epoch 1/1\n",
      "24/24 [==============================] - 651s 27s/step - loss: 0.0033 - acc: 0.9837 - dice: 0.7097 - iou: 0.5671 - val_loss: 0.0594 - val_acc: 0.6364 - val_dice: 0.0424 - val_iou: 0.0217\n",
      "('Epoch', 40)\n",
      "Epoch 1/1\n",
      "24/24 [==============================] - 647s 27s/step - loss: 0.0047 - acc: 0.9653 - dice: 0.5146 - iou: 0.3524 - val_loss: 0.0487 - val_acc: 0.9344 - val_dice: 0.0859 - val_iou: 0.0449\n",
      "('Epoch', 41)\n",
      "Epoch 1/1\n",
      "24/24 [==============================] - 643s 27s/step - loss: 0.0041 - acc: 0.9684 - dice: 0.5358 - iou: 0.3711 - val_loss: 0.0693 - val_acc: 0.9774 - val_dice: 0.0769 - val_iou: 0.0400\n",
      "('Epoch', 42)\n",
      "Epoch 1/1\n",
      "24/24 [==============================] - 630s 26s/step - loss: 0.0031 - acc: 0.9799 - dice: 0.6402 - iou: 0.4760 - val_loss: 0.0723 - val_acc: 0.9784 - val_dice: 0.0755 - val_iou: 0.0392\n",
      "('Epoch', 43)\n",
      "Epoch 1/1\n",
      "24/24 [==============================] - 667s 28s/step - loss: 0.0028 - acc: 0.9836 - dice: 0.6825 - iou: 0.5225 - val_loss: 0.0786 - val_acc: 0.9837 - val_dice: 0.0625 - val_iou: 0.0322\n",
      "('Epoch', 44)\n",
      "Epoch 1/1\n",
      "24/24 [==============================] - 628s 26s/step - loss: 0.0024 - acc: 0.9870 - dice: 0.7320 - iou: 0.5805 - val_loss: 0.0806 - val_acc: 0.9848 - val_dice: 0.0511 - val_iou: 0.0262\n",
      "('Epoch', 45)\n",
      "Epoch 1/1\n",
      "24/24 [==============================] - 643s 27s/step - loss: 0.0022 - acc: 0.9889 - dice: 0.7620 - iou: 0.6175 - val_loss: 0.0862 - val_acc: 0.9881 - val_dice: 0.0397 - val_iou: 0.0203\n",
      "('Epoch', 46)\n",
      "Epoch 1/1\n",
      "24/24 [==============================] - 627s 26s/step - loss: 0.0020 - acc: 0.9906 - dice: 0.7927 - iou: 0.6582 - val_loss: 0.0896 - val_acc: 0.9890 - val_dice: 0.0240 - val_iou: 0.0121\n",
      "('Epoch', 47)\n",
      "Epoch 1/1\n",
      "24/24 [==============================] - 660s 27s/step - loss: 0.0018 - acc: 0.9915 - dice: 0.8079 - iou: 0.6794 - val_loss: 0.0905 - val_acc: 0.9890 - val_dice: 0.0260 - val_iou: 0.0132\n",
      "('Epoch', 48)\n",
      "Epoch 1/1\n",
      "24/24 [==============================] - 625s 26s/step - loss: 0.0017 - acc: 0.9922 - dice: 0.8213 - iou: 0.6978 - val_loss: 0.0923 - val_acc: 0.9893 - val_dice: 0.0247 - val_iou: 0.0125\n",
      "('Epoch', 49)\n",
      "Epoch 1/1\n",
      "24/24 [==============================] - 638s 27s/step - loss: 0.0016 - acc: 0.9928 - dice: 0.8320 - iou: 0.7134 - val_loss: 0.0923 - val_acc: 0.9888 - val_dice: 0.0343 - val_iou: 0.0174\n"
     ]
    },
    {
     "data": {
      "image/png": "[encoded data removed]",
      "text/plain": [
       "<Figure size 432x288 with 1 Axes>"
      ]
     },
     "metadata": {
      "needs_background": "light"
     },
     "output_type": "display_data"
    },
    {
     "data": {
      "image/png": "[encoded data removed]",
      "text/plain": [
       "<Figure size 432x288 with 1 Axes>"
      ]
     },
     "metadata": {
      "needs_background": "light"
     },
     "output_type": "display_data"
    }
   ],
   "source": [
    "start = timeit.default_timer()\n",
    "train(\n",
    "    path_train_images, path_train_annotations, train_batch_size, \n",
    "    path_val_images, path_val_annotations, val_batch_size,\n",
    "    n_classes, input_width, input_height, \n",
    "    model_name, epochs, loss, optimizer, metrics,\n",
    "    path_save_weights, path_vgg_weights = path_vgg_weights, train_vgg = train_vgg, path_load_weights = None\n",
    ")\n",
    "end = timeit.default_timer()"
   ]
  },
  {
   "cell_type": "code",
   "execution_count": 7,
   "metadata": {},
   "outputs": [
    {
     "name": "stdout",
     "output_type": "stream",
     "text": [
      "('Total training time: ', 32139.85964989662)\n"
     ]
    }
   ],
   "source": [
    "print('Total training time: ', end - start)"
   ]
  },
  {
   "cell_type": "code",
   "execution_count": 6,
   "metadata": {},
   "outputs": [],
   "source": [
    "epochs = 38"
   ]
  },
  {
   "cell_type": "code",
   "execution_count": 7,
   "metadata": {},
   "outputs": [
    {
     "name": "stdout",
     "output_type": "stream",
     "text": [
      "              precision    recall  f1-score   support\n",
      "\n",
      "           0       1.00      0.98      0.99   9457992\n",
      "           1       0.52      1.00      0.69    175800\n",
      "\n",
      "   micro avg       0.98      0.98      0.98   9633792\n",
      "   macro avg       0.76      0.99      0.84   9633792\n",
      "weighted avg       0.99      0.98      0.99   9633792\n",
      "\n",
      "('F1/dice (binary): ', 0.685591793823522)\n",
      "('Jaccard/IOU: ', 0.5215973170297382)\n"
     ]
    }
   ],
   "source": [
    "predict(\n",
    "    path_train_images, path_train_annotations, path_train_predictions,\n",
    "    n_classes, input_width, input_height, \n",
    "    model_name, epochs, loss, optimizer, metrics, \n",
    "    path_save_weights\n",
    ")"
   ]
  },
  {
   "cell_type": "code",
   "execution_count": null,
   "metadata": {},
   "outputs": [],
   "source": [
    "visualize_dataset(\n",
    "    path_train_images, path_train_annotations, \n",
    "    n_classes, n_channel_annotations = n_channel_annotations,\n",
    "    dir_predictions = path_train_predictions\n",
    ")"
   ]
  },
  {
   "cell_type": "code",
   "execution_count": 9,
   "metadata": {},
   "outputs": [
    {
     "name": "stdout",
     "output_type": "stream",
     "text": [
      "              precision    recall  f1-score   support\n",
      "\n",
      "           0       0.99      0.97      0.98    547242\n",
      "           1       0.06      0.18      0.09      4694\n",
      "\n",
      "   micro avg       0.97      0.97      0.97    551936\n",
      "   macro avg       0.53      0.58      0.54    551936\n",
      "weighted avg       0.98      0.97      0.98    551936\n",
      "\n",
      "('F1/dice (binary): ', 0.08807151979565774)\n",
      "('Jaccard/IOU: ', 0.04606423342061668)\n"
     ]
    }
   ],
   "source": [
    "predict(\n",
    "    path_val_images, path_val_annotations, path_val_predictions,\n",
    "    n_classes, input_width, input_height, \n",
    "    model_name, epochs, loss, optimizer, metrics,\n",
    "    path_save_weights\n",
    ")"
   ]
  },
  {
   "cell_type": "code",
   "execution_count": null,
   "metadata": {},
   "outputs": [],
   "source": [
    "visualize_dataset(\n",
    "    path_val_images, path_val_annotations, \n",
    "    n_classes, n_channel_annotations = n_channel_annotations,\n",
    "    dir_predictions = path_val_predictions\n",
    ")"
   ]
  },
  {
   "cell_type": "code",
   "execution_count": 11,
   "metadata": {},
   "outputs": [
    {
     "name": "stdout",
     "output_type": "stream",
     "text": [
      "              precision    recall  f1-score   support\n",
      "\n",
      "           0       0.98      0.94      0.96    585528\n",
      "           1       0.11      0.26      0.16     16584\n",
      "\n",
      "   micro avg       0.92      0.92      0.92    602112\n",
      "   macro avg       0.55      0.60      0.56    602112\n",
      "weighted avg       0.95      0.92      0.94    602112\n",
      "\n",
      "('F1/dice (binary): ', 0.15777245067305917)\n",
      "('Jaccard/IOU: ', 0.08564221652786676)\n"
     ]
    }
   ],
   "source": [
    "predict(\n",
    "    path_test_images, path_test_annotations, path_test_predictions,\n",
    "    n_classes, input_width, input_height, \n",
    "    model_name, epochs, loss, optimizer, metrics,\n",
    "    path_save_weights\n",
    ")"
   ]
  },
  {
   "cell_type": "code",
   "execution_count": null,
   "metadata": {},
   "outputs": [],
   "source": [
    "visualize_dataset(\n",
    "    path_test_images, path_test_annotations, \n",
    "    n_classes, n_channel_annotations = n_channel_annotations, \n",
    "    dir_predictions = path_test_predictions\n",
    ")"
   ]
  }
 ],
 "metadata": {
  "kernelspec": {
   "display_name": "Python 3",
   "language": "python",
   "name": "python3"
  },
  "language_info": {
   "codemirror_mode": {
    "name": "ipython",
    "version": 3
   },
   "file_extension": ".py",
   "mimetype": "text/x-python",
   "name": "python",
   "nbconvert_exporter": "python",
   "pygments_lexer": "ipython3",
   "version": "3.7.0"
  }
 },
 "nbformat": 4,
 "nbformat_minor": 2
}
