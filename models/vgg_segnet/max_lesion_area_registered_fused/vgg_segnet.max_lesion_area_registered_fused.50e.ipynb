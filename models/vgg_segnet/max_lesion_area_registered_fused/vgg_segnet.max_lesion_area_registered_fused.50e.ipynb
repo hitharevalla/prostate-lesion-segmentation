{
 "cells": [
  {
   "cell_type": "code",
   "execution_count": 1,
   "metadata": {},
   "outputs": [
    {
     "name": "stderr",
     "output_type": "stream",
     "text": [
      "Using TensorFlow backend.\n"
     ]
    }
   ],
   "source": [
    "import glob\n",
    "import math\n",
    "import sys\n",
    "import timeit\n",
    "\n",
    "sys.path.insert(0, '../../')\n",
    "from visualize_dataset import *\n",
    "from losses import *\n",
    "from metrics import *\n",
    "from predict import *\n",
    "from train import *\n",
    "from utils import *"
   ]
  },
  {
   "cell_type": "code",
   "execution_count": 2,
   "metadata": {},
   "outputs": [],
   "source": [
    "path_train_images = '../../../data/stanford_max_lesion_area_registered_fused_cropped/train/Slice/'\n",
    "path_train_annotations = '../../../data/stanford_max_lesion_area_registered_fused_cropped/train/ROI/'\n",
    "path_train_predictions = './predictions.50e/train/'\n",
    "\n",
    "path_val_images = '../../../data/stanford_max_lesion_area_registered_fused_cropped/val/Slice/'\n",
    "path_val_annotations = '../../../data/stanford_max_lesion_area_registered_fused_cropped/val/ROI/'\n",
    "path_val_predictions = './predictions.50e/val/'\n",
    "\n",
    "path_test_images = '../../../data/stanford_max_lesion_area_registered_fused_cropped/test/Slice/'\n",
    "path_test_annotations = '../../../data/stanford_max_lesion_area_registered_fused_cropped/test/ROI/'\n",
    "path_test_predictions = './predictions.50e/test/'\n",
    "\n",
    "path_save_weights = './weights.50e/'\n",
    "path_load_weights = None\n",
    "\n",
    "train_vgg = False\n",
    "path_vgg_weights = '../../../data/vgg16_weights_th_dim_ordering_th_kernels.h5'\n",
    "\n",
    "n_classes = 2\n",
    "input_height = 224\n",
    "input_width = 224\n",
    "n_channel_annotations = 1"
   ]
  },
  {
   "cell_type": "code",
   "execution_count": 3,
   "metadata": {},
   "outputs": [
    {
     "name": "stdout",
     "output_type": "stream",
     "text": [
      "('Number train images: ', 376)\n",
      "('Number val images: ', 15)\n",
      "('Number test images: ', 14)\n"
     ]
    }
   ],
   "source": [
    "print('Number train images: ', len(glob.glob(path_train_images + '*.png')))\n",
    "print('Number val images: ', len(glob.glob(path_val_images + '*.png')))\n",
    "print('Number test images: ', len(glob.glob(path_test_images + '*.png')))"
   ]
  },
  {
   "cell_type": "code",
   "execution_count": 4,
   "metadata": {},
   "outputs": [],
   "source": [
    "model_name = 'vgg_segnet'\n",
    "epochs = 50\n",
    "train_batch_size = 8\n",
    "val_batch_size = len(glob.glob(path_val_images + '*.png'))"
   ]
  },
  {
   "cell_type": "code",
   "execution_count": 5,
   "metadata": {},
   "outputs": [
    {
     "name": "stdout",
     "output_type": "stream",
     "text": [
      "[0.97276311 0.02723689]\n",
      "[ 1.         35.71490846]\n",
      "[0.02761469 3.6031829 ]\n"
     ]
    }
   ],
   "source": [
    "optimizer = 'adadelta'\n",
    "metrics = ['accuracy', dice, iou]\n",
    "\n",
    "class_props = calc_class_proportions(path_train_annotations, n_classes, n_channel_annotations)\n",
    "class_weights = calc_class_weights(path_train_annotations, n_classes, n_channel_annotations)\n",
    "class_weights_log = calc_class_weights(path_train_annotations, n_classes, n_channel_annotations, scale = 'log')\n",
    "\n",
    "print(class_props)\n",
    "print(class_weights)\n",
    "print(class_weights_log)\n",
    "\n",
    "loss = weighted_categorical_crossentropy_loss(class_weights_log)"
   ]
  },
  {
   "cell_type": "code",
   "execution_count": null,
   "metadata": {},
   "outputs": [
    {
     "name": "stdout",
     "output_type": "stream",
     "text": [
      "('Model output shape', (None, 50176, 2))\n",
      "('Epoch', 0)\n",
      "Epoch 1/1\n",
      "47/47 [==============================] - 1208s 26s/step - loss: 0.0445 - acc: 0.5913 - dice: 0.0881 - iou: 0.0463 - val_loss: 0.0516 - val_acc: 0.5603 - val_dice: 0.0568 - val_iou: 0.0292\n",
      "('Epoch', 1)\n",
      "Epoch 1/1\n",
      "47/47 [==============================] - 1222s 26s/step - loss: 0.0271 - acc: 0.6762 - dice: 0.1189 - iou: 0.0636 - val_loss: 0.0515 - val_acc: 0.6628 - val_dice: 0.0632 - val_iou: 0.0326\n",
      "('Epoch', 2)\n",
      "Epoch 1/1\n",
      "47/47 [==============================] - 1194s 25s/step - loss: 0.0217 - acc: 0.7954 - dice: 0.1762 - iou: 0.0974 - val_loss: 0.0520 - val_acc: 0.8180 - val_dice: 0.0938 - val_iou: 0.0492\n",
      "('Epoch', 3)\n",
      "Epoch 1/1\n",
      "47/47 [==============================] - 1228s 26s/step - loss: 0.0185 - acc: 0.8585 - dice: 0.2393 - iou: 0.1377 - val_loss: 0.0604 - val_acc: 0.8861 - val_dice: 0.1018 - val_iou: 0.0536\n",
      "('Epoch', 4)\n",
      "Epoch 1/1\n",
      "47/47 [==============================] - 1199s 26s/step - loss: 0.0154 - acc: 0.9131 - dice: 0.3370 - iou: 0.2065 - val_loss: 0.0676 - val_acc: 0.9046 - val_dice: 0.0887 - val_iou: 0.0464\n",
      "('Epoch', 5)\n",
      "Epoch 1/1\n",
      "47/47 [==============================] - 1230s 26s/step - loss: 0.0135 - acc: 0.9402 - dice: 0.4195 - iou: 0.2703 - val_loss: 0.0685 - val_acc: 0.9221 - val_dice: 0.1077 - val_iou: 0.0569\n",
      "('Epoch', 6)\n",
      "Epoch 1/1\n",
      "47/47 [==============================] - 1200s 26s/step - loss: 0.0129 - acc: 0.9413 - dice: 0.4262 - iou: 0.2768 - val_loss: 0.0853 - val_acc: 0.9617 - val_dice: 0.0492 - val_iou: 0.0252\n",
      "('Epoch', 7)\n",
      "Epoch 1/1\n",
      "47/47 [==============================] - 1232s 26s/step - loss: 0.0145 - acc: 0.9105 - dice: 0.3420 - iou: 0.2132 - val_loss: 0.0677 - val_acc: 0.9174 - val_dice: 0.1203 - val_iou: 0.0640\n",
      "('Epoch', 8)\n",
      "Epoch 1/1\n",
      "47/47 [==============================] - 1196s 25s/step - loss: 0.0117 - acc: 0.9418 - dice: 0.4270 - iou: 0.2770 - val_loss: 0.0723 - val_acc: 0.9137 - val_dice: 0.1104 - val_iou: 0.0584\n",
      "('Epoch', 9)\n",
      "Epoch 1/1\n",
      "47/47 [==============================] - 1228s 26s/step - loss: 0.0098 - acc: 0.9586 - dice: 0.5064 - iou: 0.3444 - val_loss: 0.0913 - val_acc: 0.9664 - val_dice: 0.0865 - val_iou: 0.0452\n",
      "('Epoch', 10)\n",
      "Epoch 1/1\n",
      "47/47 [==============================] - 1193s 25s/step - loss: 0.0086 - acc: 0.9674 - dice: 0.5637 - iou: 0.3967 - val_loss: 0.0934 - val_acc: 0.9603 - val_dice: 0.0897 - val_iou: 0.0469\n",
      "('Epoch', 11)\n",
      "Epoch 1/1\n",
      "47/47 [==============================] - 1229s 26s/step - loss: 0.0077 - acc: 0.9735 - dice: 0.6126 - iou: 0.4457 - val_loss: 0.0945 - val_acc: 0.9567 - val_dice: 0.1056 - val_iou: 0.0558\n",
      "('Epoch', 12)\n",
      "Epoch 1/1\n",
      "47/47 [==============================] - 1200s 26s/step - loss: 0.0068 - acc: 0.9778 - dice: 0.6537 - iou: 0.4891 - val_loss: 0.1084 - val_acc: 0.9736 - val_dice: 0.0742 - val_iou: 0.0385\n",
      "('Epoch', 13)\n",
      "Epoch 1/1\n",
      "47/47 [==============================] - 1228s 26s/step - loss: 0.0062 - acc: 0.9803 - dice: 0.6795 - iou: 0.5179 - val_loss: 0.1126 - val_acc: 0.9739 - val_dice: 0.0617 - val_iou: 0.0318\n",
      "('Epoch', 14)\n",
      "Epoch 1/1\n",
      "47/47 [==============================] - 1203s 26s/step - loss: 0.0056 - acc: 0.9823 - dice: 0.7016 - iou: 0.5434 - val_loss: 0.1191 - val_acc: 0.9745 - val_dice: 0.0555 - val_iou: 0.0286\n",
      "('Epoch', 15)\n",
      "Epoch 1/1\n",
      "47/47 [==============================] - 1226s 26s/step - loss: 0.0052 - acc: 0.9834 - dice: 0.7156 - iou: 0.5600 - val_loss: 0.1174 - val_acc: 0.9690 - val_dice: 0.0802 - val_iou: 0.0418\n",
      "('Epoch', 16)\n",
      "Epoch 1/1\n",
      "47/47 [==============================] - 1194s 25s/step - loss: 0.0048 - acc: 0.9839 - dice: 0.7216 - iou: 0.5669 - val_loss: 0.1168 - val_acc: 0.9646 - val_dice: 0.0973 - val_iou: 0.0511\n",
      "('Epoch', 17)\n",
      "Epoch 1/1\n",
      "47/47 [==============================] - 1232s 26s/step - loss: 0.0046 - acc: 0.9840 - dice: 0.7226 - iou: 0.5689 - val_loss: 0.1287 - val_acc: 0.9727 - val_dice: 0.0726 - val_iou: 0.0377\n",
      "('Epoch', 18)\n",
      "Epoch 1/1\n",
      "47/47 [==============================] - 1202s 26s/step - loss: 0.0045 - acc: 0.9830 - dice: 0.7109 - iou: 0.5551 - val_loss: 0.1241 - val_acc: 0.9677 - val_dice: 0.1039 - val_iou: 0.0548\n",
      "('Epoch', 19)\n",
      "Epoch 1/1\n",
      "47/47 [==============================] - 1221s 26s/step - loss: 0.0042 - acc: 0.9835 - dice: 0.7174 - iou: 0.5623 - val_loss: 0.1421 - val_acc: 0.9766 - val_dice: 0.0558 - val_iou: 0.0287\n",
      "('Epoch', 20)\n",
      "Epoch 1/1\n",
      "47/47 [==============================] - 1202s 26s/step - loss: 0.0040 - acc: 0.9841 - dice: 0.7252 - iou: 0.5713 - val_loss: 0.1393 - val_acc: 0.9711 - val_dice: 0.0704 - val_iou: 0.0365\n",
      "('Epoch', 21)\n",
      "Epoch 1/1\n",
      "47/47 [==============================] - 1215s 26s/step - loss: 0.0036 - acc: 0.9852 - dice: 0.7389 - iou: 0.5883 - val_loss: 0.1519 - val_acc: 0.9772 - val_dice: 0.0423 - val_iou: 0.0216\n",
      "('Epoch', 22)\n",
      "Epoch 1/1\n",
      "47/47 [==============================] - 1212s 26s/step - loss: 0.0034 - acc: 0.9860 - dice: 0.7512 - iou: 0.6038 - val_loss: 0.1503 - val_acc: 0.9738 - val_dice: 0.0655 - val_iou: 0.0338\n",
      "('Epoch', 23)\n",
      "Epoch 1/1\n",
      "47/47 [==============================] - 1216s 26s/step - loss: 0.0034 - acc: 0.9858 - dice: 0.7470 - iou: 0.5994 - val_loss: 0.1269 - val_acc: 0.9583 - val_dice: 0.1383 - val_iou: 0.0743\n",
      "('Epoch', 24)\n",
      "Epoch 1/1\n",
      "47/47 [==============================] - 1212s 26s/step - loss: 0.0036 - acc: 0.9825 - dice: 0.7074 - iou: 0.5520 - val_loss: 0.1626 - val_acc: 0.9766 - val_dice: 0.0451 - val_iou: 0.0231\n",
      "('Epoch', 25)\n",
      "Epoch 1/1\n",
      "47/47 [==============================] - 1211s 26s/step - loss: 0.0032 - acc: 0.9849 - dice: 0.7363 - iou: 0.5853 - val_loss: 0.1529 - val_acc: 0.9741 - val_dice: 0.1053 - val_iou: 0.0556\n",
      "('Epoch', 26)\n",
      "Epoch 1/1\n",
      "47/47 [==============================] - 1080s 23s/step - loss: 0.0030 - acc: 0.9851 - dice: 0.7386 - iou: 0.5880 - val_loss: 0.1752 - val_acc: 0.9780 - val_dice: 0.0458 - val_iou: 0.0235\n",
      "('Epoch', 27)\n",
      "Epoch 1/1\n",
      "47/47 [==============================] - 792s 17s/step - loss: 0.0027 - acc: 0.9869 - dice: 0.7648 - iou: 0.6211 - val_loss: 0.1758 - val_acc: 0.9766 - val_dice: 0.0601 - val_iou: 0.0310\n",
      "('Epoch', 28)\n",
      "Epoch 1/1\n",
      "47/47 [==============================] - 709s 15s/step - loss: 0.0024 - acc: 0.9886 - dice: 0.7872 - iou: 0.6503 - val_loss: 0.1838 - val_acc: 0.9777 - val_dice: 0.0537 - val_iou: 0.0276\n",
      "('Epoch', 29)\n",
      "Epoch 1/1\n",
      "47/47 [==============================] - 684s 15s/step - loss: 0.0021 - acc: 0.9899 - dice: 0.8069 - iou: 0.6778 - val_loss: 0.1847 - val_acc: 0.9764 - val_dice: 0.0650 - val_iou: 0.0336\n",
      "('Epoch', 30)\n",
      "Epoch 1/1\n",
      "47/47 [==============================] - 887s 19s/step - loss: 0.0019 - acc: 0.9909 - dice: 0.8227 - iou: 0.6998 - val_loss: 0.1962 - val_acc: 0.9790 - val_dice: 0.0417 - val_iou: 0.0213\n",
      "('Epoch', 31)\n",
      "Epoch 1/1\n",
      "47/47 [==============================] - 930s 20s/step - loss: 0.0017 - acc: 0.9918 - dice: 0.8380 - iou: 0.7221 - val_loss: 0.2001 - val_acc: 0.9791 - val_dice: 0.0447 - val_iou: 0.0228\n",
      "('Epoch', 32)\n",
      "Epoch 1/1\n",
      "47/47 [==============================] - 956s 20s/step - loss: 0.0016 - acc: 0.9925 - dice: 0.8498 - iou: 0.7396 - val_loss: 0.2066 - val_acc: 0.9801 - val_dice: 0.0362 - val_iou: 0.0184\n",
      "('Epoch', 33)\n",
      "Epoch 1/1\n",
      "47/47 [==============================] - 1065s 23s/step - loss: 0.0015 - acc: 0.9930 - dice: 0.8579 - iou: 0.7519 - val_loss: 0.2118 - val_acc: 0.9802 - val_dice: 0.0321 - val_iou: 0.0163\n",
      "('Epoch', 34)\n",
      "Epoch 1/1\n",
      "47/47 [==============================] - 965s 21s/step - loss: 0.0014 - acc: 0.9934 - dice: 0.8646 - iou: 0.7620 - val_loss: 0.2158 - val_acc: 0.9803 - val_dice: 0.0349 - val_iou: 0.0178\n",
      "('Epoch', 35)\n",
      "Epoch 1/1\n",
      "47/47 [==============================] - 938s 20s/step - loss: 0.0013 - acc: 0.9938 - dice: 0.8710 - iou: 0.7721 - val_loss: 0.2213 - val_acc: 0.9806 - val_dice: 0.0245 - val_iou: 0.0124\n",
      "('Epoch', 36)\n",
      "Epoch 1/1\n",
      "47/47 [==============================] - 966s 21s/step - loss: 0.0013 - acc: 0.9937 - dice: 0.8704 - iou: 0.7714 - val_loss: 0.2243 - val_acc: 0.9808 - val_dice: 0.0260 - val_iou: 0.0132\n",
      "('Epoch', 37)\n",
      "Epoch 1/1\n",
      "47/47 [==============================] - 934s 20s/step - loss: 0.0012 - acc: 0.9940 - dice: 0.8752 - iou: 0.7787 - val_loss: 0.2245 - val_acc: 0.9799 - val_dice: 0.0403 - val_iou: 0.0206\n",
      "('Epoch', 38)\n",
      "Epoch 1/1\n",
      "47/47 [==============================] - 1034s 22s/step - loss: 0.0012 - acc: 0.9942 - dice: 0.8785 - iou: 0.7838 - val_loss: 0.2308 - val_acc: 0.9808 - val_dice: 0.0265 - val_iou: 0.0134\n",
      "('Epoch', 39)\n",
      "Epoch 1/1\n",
      "47/47 [==============================] - 928s 20s/step - loss: 0.0011 - acc: 0.9944 - dice: 0.8823 - iou: 0.7899 - val_loss: 0.2332 - val_acc: 0.9807 - val_dice: 0.0322 - val_iou: 0.0163\n",
      "('Epoch', 40)\n",
      "Epoch 1/1\n",
      "47/47 [==============================] - 927s 20s/step - loss: 0.0011 - acc: 0.9945 - dice: 0.8851 - iou: 0.7944 - val_loss: 0.2340 - val_acc: 0.9802 - val_dice: 0.0387 - val_iou: 0.0197\n",
      "('Epoch', 41)\n",
      "Epoch 1/1\n",
      "47/47 [==============================] - 883s 19s/step - loss: 0.0011 - acc: 0.9946 - dice: 0.8865 - iou: 0.7967 - val_loss: 0.2364 - val_acc: 0.9797 - val_dice: 0.0314 - val_iou: 0.0159\n",
      "('Epoch', 42)\n",
      "Epoch 1/1\n",
      "47/47 [==============================] - 883s 19s/step - loss: 0.0010 - acc: 0.9947 - dice: 0.8872 - iou: 0.7979 - val_loss: 0.2383 - val_acc: 0.9805 - val_dice: 0.0357 - val_iou: 0.0182\n",
      "('Epoch', 43)\n",
      "Epoch 1/1\n",
      "47/47 [==============================] - 695s 15s/step - loss: 0.0010 - acc: 0.9947 - dice: 0.8872 - iou: 0.7979 - val_loss: 0.2408 - val_acc: 0.9803 - val_dice: 0.0389 - val_iou: 0.0198\n",
      "('Epoch', 44)\n",
      "Epoch 1/1\n",
      "47/47 [==============================] - 723s 15s/step - loss: 0.0010 - acc: 0.9948 - dice: 0.8898 - iou: 0.8020 - val_loss: 0.2375 - val_acc: 0.9780 - val_dice: 0.0495 - val_iou: 0.0254\n",
      "('Epoch', 45)\n",
      "Epoch 1/1\n",
      "47/47 [==============================] - 701s 15s/step - loss: 9.9140e-04 - acc: 0.9948 - dice: 0.8895 - iou: 0.8016 - val_loss: 0.2451 - val_acc: 0.9803 - val_dice: 0.0378 - val_iou: 0.0193\n",
      "('Epoch', 46)\n",
      "Epoch 1/1\n",
      "47/47 [==============================] - 790s 17s/step - loss: 9.7134e-04 - acc: 0.9948 - dice: 0.8899 - iou: 0.8021 - val_loss: 0.2476 - val_acc: 0.9807 - val_dice: 0.0356 - val_iou: 0.0181\n",
      "('Epoch', 47)\n",
      "Epoch 1/1\n",
      "47/47 [==============================] - 757s 16s/step - loss: 9.5204e-04 - acc: 0.9949 - dice: 0.8922 - iou: 0.8059 - val_loss: 0.2519 - val_acc: 0.9807 - val_dice: 0.0291 - val_iou: 0.0148\n",
      "('Epoch', 48)\n",
      "Epoch 1/1\n",
      "47/47 [==============================] - 726s 15s/step - loss: 9.1568e-04 - acc: 0.9951 - dice: 0.8947 - iou: 0.8100 - val_loss: 0.2537 - val_acc: 0.9810 - val_dice: 0.0264 - val_iou: 0.0134\n",
      "('Epoch', 49)\n",
      "Epoch 1/1\n",
      "46/47 [============================>.] - ETA: 12s - loss: 9.0776e-04 - acc: 0.9951 - dice: 0.8967 - iou: 0.8133"
     ]
    }
   ],
   "source": [
    "start = timeit.default_timer()\n",
    "train(\n",
    "    path_train_images, path_train_annotations, train_batch_size, \n",
    "    path_val_images, path_val_annotations, val_batch_size,\n",
    "    n_classes, input_width, input_height, \n",
    "    model_name, epochs, loss, optimizer, metrics,\n",
    "    path_save_weights, path_vgg_weights = path_vgg_weights, train_vgg = train_vgg, path_load_weights = None\n",
    ")\n",
    "end = timeit.default_timer()"
   ]
  },
  {
   "cell_type": "code",
   "execution_count": null,
   "metadata": {},
   "outputs": [],
   "source": [
    "print('Total training time: ', end - start)"
   ]
  },
  {
   "cell_type": "code",
   "execution_count": 6,
   "metadata": {},
   "outputs": [],
   "source": [
    "epochs = 23"
   ]
  },
  {
   "cell_type": "code",
   "execution_count": 7,
   "metadata": {},
   "outputs": [
    {
     "name": "stdout",
     "output_type": "stream",
     "text": [
      "              precision    recall  f1-score   support\n",
      "\n",
      "           0       1.00      0.99      0.99  18452344\n",
      "           1       0.61      0.99      0.75    413832\n",
      "\n",
      "   micro avg       0.99      0.99      0.99  18866176\n",
      "   macro avg       0.80      0.99      0.87  18866176\n",
      "weighted avg       0.99      0.99      0.99  18866176\n",
      "\n",
      "('F1/dice (binary): ', 0.7533684827182191)\n",
      "('Jaccard/IOU: ', 0.6043233082706767)\n"
     ]
    }
   ],
   "source": [
    "predict(\n",
    "    path_train_images, path_train_annotations, path_train_predictions,\n",
    "    n_classes, input_width, input_height, \n",
    "    model_name, epochs, loss, optimizer, metrics, \n",
    "    path_save_weights\n",
    ")"
   ]
  },
  {
   "cell_type": "code",
   "execution_count": null,
   "metadata": {},
   "outputs": [],
   "source": [
    "visualize_dataset(\n",
    "    path_train_images, path_train_annotations, \n",
    "    n_classes, n_channel_annotations = n_channel_annotations,\n",
    "    dir_predictions = path_train_predictions\n",
    ")"
   ]
  },
  {
   "cell_type": "code",
   "execution_count": 9,
   "metadata": {},
   "outputs": [
    {
     "name": "stdout",
     "output_type": "stream",
     "text": [
      "              precision    recall  f1-score   support\n",
      "\n",
      "           0       0.98      0.99      0.99    740323\n",
      "           1       0.13      0.06      0.08     12317\n",
      "\n",
      "   micro avg       0.98      0.98      0.98    752640\n",
      "   macro avg       0.56      0.53      0.53    752640\n",
      "weighted avg       0.97      0.98      0.97    752640\n",
      "\n",
      "('F1/dice (binary): ', 0.08059337982951399)\n",
      "('Jaccard/IOU: ', 0.04198869535125158)\n"
     ]
    }
   ],
   "source": [
    "predict(\n",
    "    path_val_images, path_val_annotations, path_val_predictions,\n",
    "    n_classes, input_width, input_height, \n",
    "    model_name, epochs, loss, optimizer, metrics,\n",
    "    path_save_weights\n",
    ")"
   ]
  },
  {
   "cell_type": "code",
   "execution_count": null,
   "metadata": {},
   "outputs": [],
   "source": [
    "visualize_dataset(\n",
    "    path_val_images, path_val_annotations, \n",
    "    n_classes, n_channel_annotations = n_channel_annotations,\n",
    "    dir_predictions = path_val_predictions\n",
    ")"
   ]
  },
  {
   "cell_type": "code",
   "execution_count": 11,
   "metadata": {},
   "outputs": [
    {
     "name": "stdout",
     "output_type": "stream",
     "text": [
      "              precision    recall  f1-score   support\n",
      "\n",
      "           0       0.99      0.97      0.98    686380\n",
      "           1       0.28      0.42      0.34     16084\n",
      "\n",
      "   micro avg       0.96      0.96      0.96    702464\n",
      "   macro avg       0.63      0.70      0.66    702464\n",
      "weighted avg       0.97      0.96      0.97    702464\n",
      "\n",
      "('F1/dice (binary): ', 0.33791338484856015)\n",
      "('Jaccard/IOU: ', 0.20330672407091818)\n"
     ]
    }
   ],
   "source": [
    "predict(\n",
    "    path_test_images, path_test_annotations, path_test_predictions,\n",
    "    n_classes, input_width, input_height, \n",
    "    model_name, epochs, loss, optimizer, metrics,\n",
    "    path_save_weights\n",
    ")"
   ]
  },
  {
   "cell_type": "code",
   "execution_count": null,
   "metadata": {},
   "outputs": [],
   "source": [
    "visualize_dataset(\n",
    "    path_test_images, path_test_annotations, \n",
    "    n_classes, n_channel_annotations = n_channel_annotations, \n",
    "    dir_predictions = path_test_predictions\n",
    ")"
   ]
  }
 ],
 "metadata": {
  "kernelspec": {
   "display_name": "Python 3",
   "language": "python",
   "name": "python3"
  },
  "language_info": {
   "codemirror_mode": {
    "name": "ipython",
    "version": 3
   },
   "file_extension": ".py",
   "mimetype": "text/x-python",
   "name": "python",
   "nbconvert_exporter": "python",
   "pygments_lexer": "ipython3",
   "version": "3.7.0"
  }
 },
 "nbformat": 4,
 "nbformat_minor": 2
}
