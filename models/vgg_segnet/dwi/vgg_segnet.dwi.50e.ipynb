{
 "cells": [
  {
   "cell_type": "code",
   "execution_count": 1,
   "metadata": {},
   "outputs": [
    {
     "name": "stderr",
     "output_type": "stream",
     "text": [
      "Using TensorFlow backend.\n"
     ]
    }
   ],
   "source": [
    "import glob\n",
    "import math\n",
    "import sys\n",
    "import timeit\n",
    "\n",
    "sys.path.insert(0, '../../')\n",
    "from visualize_dataset import *\n",
    "from losses import *\n",
    "from metrics import *\n",
    "from predict import *\n",
    "from train import *\n",
    "from utils import *"
   ]
  },
  {
   "cell_type": "code",
   "execution_count": 2,
   "metadata": {},
   "outputs": [],
   "source": [
    "path_train_images = '../../../data/stanford_dwi_cropped/train/Slice/'\n",
    "path_train_annotations = '../../../data/stanford_dwi_cropped/train/ROI/'\n",
    "path_train_predictions = './predictions.50e/train/'\n",
    "\n",
    "path_val_images = '../../../data/stanford_dwi_cropped/val/Slice/'\n",
    "path_val_annotations = '../../../data/stanford_dwi_cropped/val/ROI/'\n",
    "path_val_predictions = './predictions.50e/val/'\n",
    "\n",
    "path_test_images = '../../../data/stanford_dwi_cropped/test/Slice/'\n",
    "path_test_annotations = '../../../data/stanford_dwi_cropped/test/ROI/'\n",
    "path_test_predictions = './predictions.50e/test/'\n",
    "\n",
    "path_save_weights = './weights.50e/'\n",
    "path_load_weights = None\n",
    "\n",
    "train_vgg = False\n",
    "path_vgg_weights = '../../../data/vgg16_weights_th_dim_ordering_th_kernels.h5'\n",
    "\n",
    "n_classes = 2\n",
    "input_height = 224\n",
    "input_width = 224\n",
    "n_channel_annotations = 1"
   ]
  },
  {
   "cell_type": "code",
   "execution_count": 3,
   "metadata": {},
   "outputs": [
    {
     "name": "stdout",
     "output_type": "stream",
     "text": [
      "('Number train images: ', 192)\n",
      "('Number val images: ', 11)\n",
      "('Number test images: ', 12)\n"
     ]
    }
   ],
   "source": [
    "print('Number train images: ', len(glob.glob(path_train_images + '*.png')))\n",
    "print('Number val images: ', len(glob.glob(path_val_images + '*.png')))\n",
    "print('Number test images: ', len(glob.glob(path_test_images + '*.png')))"
   ]
  },
  {
   "cell_type": "code",
   "execution_count": 4,
   "metadata": {},
   "outputs": [],
   "source": [
    "model_name = 'vgg_segnet'\n",
    "epochs = 50\n",
    "train_batch_size = 8\n",
    "val_batch_size = len(glob.glob(path_val_images + '*.png'))"
   ]
  },
  {
   "cell_type": "code",
   "execution_count": 5,
   "metadata": {},
   "outputs": [
    {
     "name": "stdout",
     "output_type": "stream",
     "text": [
      "[0.98215531 0.01784469]\n",
      "[ 1.         55.03908977]\n",
      "[0.01800582 4.02604948]\n"
     ]
    }
   ],
   "source": [
    "optimizer = 'adadelta'\n",
    "metrics = ['accuracy', dice, iou]\n",
    "\n",
    "class_props = calc_class_proportions(path_train_annotations, n_classes, n_channel_annotations)\n",
    "class_weights = calc_class_weights(path_train_annotations, n_classes, n_channel_annotations)\n",
    "class_weights_log = calc_class_weights(path_train_annotations, n_classes, n_channel_annotations, scale = 'log')\n",
    "\n",
    "print(class_props)\n",
    "print(class_weights)\n",
    "print(class_weights_log)\n",
    "\n",
    "loss = weighted_categorical_crossentropy_loss(class_weights_log)"
   ]
  },
  {
   "cell_type": "code",
   "execution_count": 6,
   "metadata": {},
   "outputs": [
    {
     "name": "stdout",
     "output_type": "stream",
     "text": [
      "('Model output shape', (None, 50176, 2))\n",
      "('Epoch', 0)\n",
      "Epoch 1/1\n",
      "24/24 [==============================] - 589s 25s/step - loss: 0.0235 - acc: 0.7346 - dice: 0.1160 - iou: 0.0620 - val_loss: 0.0248 - val_acc: 0.7058 - val_dice: 0.0468 - val_iou: 0.0240\n",
      "('Epoch', 1)\n",
      "Epoch 1/1\n",
      "24/24 [==============================] - 645s 27s/step - loss: 0.0144 - acc: 0.8005 - dice: 0.1553 - iou: 0.0851 - val_loss: 0.0281 - val_acc: 0.7466 - val_dice: 0.0527 - val_iou: 0.0271\n",
      "('Epoch', 2)\n",
      "Epoch 1/1\n",
      "24/24 [==============================] - 653s 27s/step - loss: 0.0132 - acc: 0.8525 - dice: 0.1947 - iou: 0.1087 - val_loss: 0.0247 - val_acc: 0.8654 - val_dice: 0.0773 - val_iou: 0.0402\n",
      "('Epoch', 3)\n",
      "Epoch 1/1\n",
      "24/24 [==============================] - 652s 27s/step - loss: 0.0118 - acc: 0.8944 - dice: 0.2542 - iou: 0.1476 - val_loss: 0.0269 - val_acc: 0.9146 - val_dice: 0.0962 - val_iou: 0.0505\n",
      "('Epoch', 4)\n",
      "Epoch 1/1\n",
      "24/24 [==============================] - 626s 26s/step - loss: 0.0111 - acc: 0.9177 - dice: 0.3046 - iou: 0.1827 - val_loss: 0.0265 - val_acc: 0.9241 - val_dice: 0.1031 - val_iou: 0.0543\n",
      "('Epoch', 5)\n",
      "Epoch 1/1\n",
      "24/24 [==============================] - 640s 27s/step - loss: 0.0111 - acc: 0.9234 - dice: 0.3271 - iou: 0.2003 - val_loss: 0.0240 - val_acc: 0.8513 - val_dice: 0.0767 - val_iou: 0.0399\n",
      "('Epoch', 6)\n",
      "Epoch 1/1\n",
      "24/24 [==============================] - 654s 27s/step - loss: 0.0102 - acc: 0.9338 - dice: 0.3506 - iou: 0.2164 - val_loss: 0.0262 - val_acc: 0.9167 - val_dice: 0.0991 - val_iou: 0.0521\n",
      "('Epoch', 7)\n",
      "Epoch 1/1\n",
      "24/24 [==============================] - 641s 27s/step - loss: 0.0095 - acc: 0.9497 - dice: 0.4139 - iou: 0.2661 - val_loss: 0.0271 - val_acc: 0.9281 - val_dice: 0.1067 - val_iou: 0.0564\n",
      "('Epoch', 8)\n",
      "Epoch 1/1\n",
      "24/24 [==============================] - 626s 26s/step - loss: 0.0097 - acc: 0.9356 - dice: 0.3660 - iou: 0.2289 - val_loss: 0.0274 - val_acc: 0.9320 - val_dice: 0.1052 - val_iou: 0.0555\n",
      "('Epoch', 9)\n",
      "Epoch 1/1\n",
      "24/24 [==============================] - 649s 27s/step - loss: 0.0088 - acc: 0.9584 - dice: 0.4620 - iou: 0.3067 - val_loss: 0.0267 - val_acc: 0.9258 - val_dice: 0.1033 - val_iou: 0.0545\n",
      "('Epoch', 10)\n",
      "Epoch 1/1\n",
      "24/24 [==============================] - 660s 28s/step - loss: 0.0083 - acc: 0.9650 - dice: 0.4996 - iou: 0.3378 - val_loss: 0.0315 - val_acc: 0.9536 - val_dice: 0.1162 - val_iou: 0.0617\n",
      "('Epoch', 11)\n",
      "Epoch 1/1\n",
      "24/24 [==============================] - 647s 27s/step - loss: 0.0078 - acc: 0.9722 - dice: 0.5539 - iou: 0.3882 - val_loss: 0.0318 - val_acc: 0.9521 - val_dice: 0.1149 - val_iou: 0.0609\n",
      "('Epoch', 12)\n",
      "Epoch 1/1\n",
      "24/24 [==============================] - 628s 26s/step - loss: 0.0074 - acc: 0.9760 - dice: 0.5893 - iou: 0.4230 - val_loss: 0.0327 - val_acc: 0.9580 - val_dice: 0.1222 - val_iou: 0.0651\n",
      "('Epoch', 13)\n",
      "Epoch 1/1\n",
      "24/24 [==============================] - 666s 28s/step - loss: 0.0070 - acc: 0.9792 - dice: 0.6221 - iou: 0.4556 - val_loss: 0.0339 - val_acc: 0.9615 - val_dice: 0.1240 - val_iou: 0.0661\n",
      "('Epoch', 14)\n",
      "Epoch 1/1\n",
      "24/24 [==============================] - 640s 27s/step - loss: 0.0066 - acc: 0.9818 - dice: 0.6521 - iou: 0.4879 - val_loss: 0.0336 - val_acc: 0.9624 - val_dice: 0.1320 - val_iou: 0.0707\n",
      "('Epoch', 15)\n",
      "Epoch 1/1\n",
      "24/24 [==============================] - 647s 27s/step - loss: 0.0064 - acc: 0.9818 - dice: 0.6555 - iou: 0.4932 - val_loss: 0.0346 - val_acc: 0.9643 - val_dice: 0.1314 - val_iou: 0.0703\n",
      "('Epoch', 16)\n",
      "Epoch 1/1\n",
      "24/24 [==============================] - 644s 27s/step - loss: 0.0060 - acc: 0.9843 - dice: 0.6846 - iou: 0.5240 - val_loss: 0.0376 - val_acc: 0.9696 - val_dice: 0.1292 - val_iou: 0.0690\n",
      "('Epoch', 17)\n",
      "Epoch 1/1\n",
      "24/24 [==============================] - 665s 28s/step - loss: 0.0058 - acc: 0.9847 - dice: 0.6918 - iou: 0.5327 - val_loss: 0.0394 - val_acc: 0.9729 - val_dice: 0.1282 - val_iou: 0.0685\n",
      "('Epoch', 18)\n",
      "Epoch 1/1\n",
      "24/24 [==============================] - 648s 27s/step - loss: 0.0055 - acc: 0.9853 - dice: 0.6987 - iou: 0.5412 - val_loss: 0.0381 - val_acc: 0.9685 - val_dice: 0.1251 - val_iou: 0.0667\n",
      "('Epoch', 19)\n",
      "Epoch 1/1\n",
      "24/24 [==============================] - 629s 26s/step - loss: 0.0052 - acc: 0.9867 - dice: 0.7196 - iou: 0.5653 - val_loss: 0.0383 - val_acc: 0.9683 - val_dice: 0.1311 - val_iou: 0.0702\n",
      "('Epoch', 20)\n",
      "Epoch 1/1\n",
      "24/24 [==============================] - 648s 27s/step - loss: 0.0050 - acc: 0.9876 - dice: 0.7335 - iou: 0.5818 - val_loss: 0.0384 - val_acc: 0.9671 - val_dice: 0.1305 - val_iou: 0.0698\n",
      "('Epoch', 21)\n",
      "Epoch 1/1\n",
      "24/24 [==============================] - 660s 27s/step - loss: 0.0047 - acc: 0.9884 - dice: 0.7461 - iou: 0.5970 - val_loss: 0.0351 - val_acc: 0.9604 - val_dice: 0.1357 - val_iou: 0.0728\n",
      "('Epoch', 22)\n",
      "Epoch 1/1\n",
      "24/24 [==============================] - 644s 27s/step - loss: 0.0046 - acc: 0.9877 - dice: 0.7366 - iou: 0.5868 - val_loss: 0.0373 - val_acc: 0.9639 - val_dice: 0.1334 - val_iou: 0.0715\n",
      "('Epoch', 23)\n",
      "Epoch 1/1\n",
      "24/24 [==============================] - 625s 26s/step - loss: 0.0044 - acc: 0.9886 - dice: 0.7490 - iou: 0.6017 - val_loss: 0.0389 - val_acc: 0.9656 - val_dice: 0.1308 - val_iou: 0.0700\n",
      "('Epoch', 24)\n",
      "Epoch 1/1\n",
      "24/24 [==============================] - 666s 28s/step - loss: 0.0043 - acc: 0.9878 - dice: 0.7368 - iou: 0.5865 - val_loss: 0.0360 - val_acc: 0.9492 - val_dice: 0.1158 - val_iou: 0.0614\n",
      "('Epoch', 25)\n",
      "Epoch 1/1\n",
      "24/24 [==============================] - 637s 27s/step - loss: 0.0042 - acc: 0.9871 - dice: 0.7259 - iou: 0.5722 - val_loss: 0.0380 - val_acc: 0.9627 - val_dice: 0.1300 - val_iou: 0.0695\n",
      "('Epoch', 26)\n",
      "Epoch 1/1\n",
      "24/24 [==============================] - 645s 27s/step - loss: 0.0039 - acc: 0.9887 - dice: 0.7515 - iou: 0.6044 - val_loss: 0.0409 - val_acc: 0.9675 - val_dice: 0.1377 - val_iou: 0.0740\n",
      "('Epoch', 27)\n",
      "Epoch 1/1\n",
      "24/24 [==============================] - 630s 26s/step - loss: 0.0040 - acc: 0.9880 - dice: 0.7539 - iou: 0.6120 - val_loss: 0.0307 - val_acc: 0.8565 - val_dice: 0.0799 - val_iou: 0.0416\n",
      "('Epoch', 28)\n",
      "Epoch 1/1\n",
      "24/24 [==============================] - 674s 28s/step - loss: 0.0061 - acc: 0.9586 - dice: 0.4722 - iou: 0.3209 - val_loss: 0.0280 - val_acc: 0.8864 - val_dice: 0.0838 - val_iou: 0.0437\n",
      "('Epoch', 29)\n",
      "Epoch 1/1\n",
      "24/24 [==============================] - 630s 26s/step - loss: 0.0063 - acc: 0.9588 - dice: 0.4671 - iou: 0.3135 - val_loss: 0.0281 - val_acc: 0.7841 - val_dice: 0.0599 - val_iou: 0.0309\n",
      "('Epoch', 30)\n",
      "Epoch 1/1\n",
      "24/24 [==============================] - 649s 27s/step - loss: 0.0074 - acc: 0.9349 - dice: 0.3541 - iou: 0.2183 - val_loss: 0.0267 - val_acc: 0.8724 - val_dice: 0.0799 - val_iou: 0.0416\n",
      "('Epoch', 31)\n",
      "Epoch 1/1\n",
      "24/24 [==============================] - 644s 27s/step - loss: 0.0052 - acc: 0.9568 - dice: 0.4496 - iou: 0.2953 - val_loss: 0.0322 - val_acc: 0.9277 - val_dice: 0.1052 - val_iou: 0.0555\n",
      "('Epoch', 32)\n",
      "Epoch 1/1\n",
      "24/24 [==============================] - 661s 28s/step - loss: 0.0048 - acc: 0.9658 - dice: 0.5085 - iou: 0.3478 - val_loss: 0.0304 - val_acc: 0.9012 - val_dice: 0.0901 - val_iou: 0.0472\n",
      "('Epoch', 33)\n",
      "Epoch 1/1\n",
      "24/24 [==============================] - 650s 27s/step - loss: 0.0040 - acc: 0.9720 - dice: 0.5552 - iou: 0.3895 - val_loss: 0.0339 - val_acc: 0.9473 - val_dice: 0.1278 - val_iou: 0.0682\n",
      "('Epoch', 34)\n",
      "Epoch 1/1\n",
      "24/24 [==============================] - 626s 26s/step - loss: 0.0035 - acc: 0.9805 - dice: 0.6377 - iou: 0.4707 - val_loss: 0.0387 - val_acc: 0.9587 - val_dice: 0.1376 - val_iou: 0.0739\n",
      "('Epoch', 35)\n",
      "Epoch 1/1\n",
      "24/24 [==============================] - 659s 27s/step - loss: 0.0031 - acc: 0.9838 - dice: 0.6794 - iou: 0.5167 - val_loss: 0.0431 - val_acc: 0.9672 - val_dice: 0.1455 - val_iou: 0.0784\n",
      "('Epoch', 36)\n",
      "Epoch 1/1\n",
      "24/24 [==============================] - 643s 27s/step - loss: 0.0029 - acc: 0.9863 - dice: 0.7135 - iou: 0.5573 - val_loss: 0.0441 - val_acc: 0.9675 - val_dice: 0.1439 - val_iou: 0.0775\n",
      "('Epoch', 37)\n",
      "Epoch 1/1\n",
      "24/24 [==============================] - 640s 27s/step - loss: 0.0027 - acc: 0.9876 - dice: 0.7343 - iou: 0.5824 - val_loss: 0.0444 - val_acc: 0.9690 - val_dice: 0.1481 - val_iou: 0.0800\n",
      "('Epoch', 38)\n",
      "Epoch 1/1\n",
      "24/24 [==============================] - 630s 26s/step - loss: 0.0026 - acc: 0.9889 - dice: 0.7549 - iou: 0.6082 - val_loss: 0.0491 - val_acc: 0.9727 - val_dice: 0.1377 - val_iou: 0.0739\n"
     ]
    },
    {
     "name": "stdout",
     "output_type": "stream",
     "text": [
      "('Epoch', 39)\n",
      "Epoch 1/1\n",
      "24/24 [==============================] - 667s 28s/step - loss: 0.0024 - acc: 0.9897 - dice: 0.7695 - iou: 0.6269 - val_loss: 0.0495 - val_acc: 0.9731 - val_dice: 0.1410 - val_iou: 0.0759\n",
      "('Epoch', 40)\n",
      "Epoch 1/1\n",
      "24/24 [==============================] - 630s 26s/step - loss: 0.0023 - acc: 0.9905 - dice: 0.7831 - iou: 0.6451 - val_loss: 0.0513 - val_acc: 0.9743 - val_dice: 0.1413 - val_iou: 0.0760\n",
      "('Epoch', 41)\n",
      "Epoch 1/1\n",
      "24/24 [==============================] - 645s 27s/step - loss: 0.0022 - acc: 0.9912 - dice: 0.7951 - iou: 0.6612 - val_loss: 0.0535 - val_acc: 0.9748 - val_dice: 0.1374 - val_iou: 0.0738\n",
      "('Epoch', 42)\n",
      "Epoch 1/1\n",
      "24/24 [==============================] - 626s 26s/step - loss: 0.0021 - acc: 0.9915 - dice: 0.8017 - iou: 0.6702 - val_loss: 0.0572 - val_acc: 0.9774 - val_dice: 0.1313 - val_iou: 0.0702\n",
      "('Epoch', 43)\n",
      "Epoch 1/1\n",
      "24/24 [==============================] - 664s 28s/step - loss: 0.0020 - acc: 0.9921 - dice: 0.8121 - iou: 0.6847 - val_loss: 0.0560 - val_acc: 0.9757 - val_dice: 0.1337 - val_iou: 0.0716\n",
      "('Epoch', 44)\n",
      "Epoch 1/1\n",
      "24/24 [==============================] - 628s 26s/step - loss: 0.0019 - acc: 0.9924 - dice: 0.8186 - iou: 0.6938 - val_loss: 0.0572 - val_acc: 0.9761 - val_dice: 0.1338 - val_iou: 0.0717\n",
      "('Epoch', 45)\n",
      "Epoch 1/1\n",
      "24/24 [==============================] - 644s 27s/step - loss: 0.0018 - acc: 0.9927 - dice: 0.8255 - iou: 0.7038 - val_loss: 0.0598 - val_acc: 0.9772 - val_dice: 0.1299 - val_iou: 0.0695\n",
      "('Epoch', 46)\n",
      "Epoch 1/1\n",
      "24/24 [==============================] - 637s 27s/step - loss: 0.0017 - acc: 0.9930 - dice: 0.8316 - iou: 0.7126 - val_loss: 0.0581 - val_acc: 0.9750 - val_dice: 0.1348 - val_iou: 0.0722\n",
      "('Epoch', 47)\n",
      "Epoch 1/1\n",
      "24/24 [==============================] - 655s 27s/step - loss: 0.0017 - acc: 0.9933 - dice: 0.8369 - iou: 0.7203 - val_loss: 0.0594 - val_acc: 0.9756 - val_dice: 0.1354 - val_iou: 0.0726\n",
      "('Epoch', 48)\n",
      "Epoch 1/1\n",
      "24/24 [==============================] - 642s 27s/step - loss: 0.0016 - acc: 0.9935 - dice: 0.8416 - iou: 0.7273 - val_loss: 0.0611 - val_acc: 0.9762 - val_dice: 0.1323 - val_iou: 0.0708\n",
      "('Epoch', 49)\n",
      "Epoch 1/1\n",
      "24/24 [==============================] - 619s 26s/step - loss: 0.0015 - acc: 0.9938 - dice: 0.8458 - iou: 0.7336 - val_loss: 0.0607 - val_acc: 0.9756 - val_dice: 0.1364 - val_iou: 0.0732\n"
     ]
    },
    {
     "data": {
      "image/png": "[encoded data removed]",
      "text/plain": [
       "<Figure size 432x288 with 1 Axes>"
      ]
     },
     "metadata": {
      "needs_background": "light"
     },
     "output_type": "display_data"
    },
    {
     "data": {
      "image/png": "[encoded data removed]",
      "text/plain": [
       "<Figure size 432x288 with 1 Axes>"
      ]
     },
     "metadata": {
      "needs_background": "light"
     },
     "output_type": "display_data"
    }
   ],
   "source": [
    "start = timeit.default_timer()\n",
    "train(\n",
    "    path_train_images, path_train_annotations, train_batch_size, \n",
    "    path_val_images, path_val_annotations, val_batch_size,\n",
    "    n_classes, input_width, input_height, \n",
    "    model_name, epochs, loss, optimizer, metrics,\n",
    "    path_save_weights, path_vgg_weights = path_vgg_weights, train_vgg = train_vgg, path_load_weights = None\n",
    ")\n",
    "end = timeit.default_timer()"
   ]
  },
  {
   "cell_type": "code",
   "execution_count": 7,
   "metadata": {},
   "outputs": [
    {
     "name": "stdout",
     "output_type": "stream",
     "text": [
      "('Total training time: ', 32305.476943969727)\n"
     ]
    }
   ],
   "source": [
    "print('Total training time: ', end - start)"
   ]
  },
  {
   "cell_type": "code",
   "execution_count": 6,
   "metadata": {},
   "outputs": [],
   "source": [
    "epochs = 26"
   ]
  },
  {
   "cell_type": "code",
   "execution_count": 7,
   "metadata": {},
   "outputs": [
    {
     "name": "stdout",
     "output_type": "stream",
     "text": [
      "              precision    recall  f1-score   support\n",
      "\n",
      "           0       1.00      0.99      0.99   9461880\n",
      "           1       0.58      1.00      0.73    171912\n",
      "\n",
      "   micro avg       0.99      0.99      0.99   9633792\n",
      "   macro avg       0.79      0.99      0.86   9633792\n",
      "weighted avg       0.99      0.99      0.99   9633792\n",
      "\n",
      "('F1/dice (binary): ', 0.7305446164146103)\n",
      "('Jaccard/IOU: ', 0.5754787650364638)\n"
     ]
    }
   ],
   "source": [
    "predict(\n",
    "    path_train_images, path_train_annotations, path_train_predictions,\n",
    "    n_classes, input_width, input_height, \n",
    "    model_name, epochs, loss, optimizer, metrics, \n",
    "    path_save_weights\n",
    ")"
   ]
  },
  {
   "cell_type": "code",
   "execution_count": null,
   "metadata": {},
   "outputs": [],
   "source": [
    "visualize_dataset(\n",
    "    path_train_images, path_train_annotations, \n",
    "    n_classes, n_channel_annotations = n_channel_annotations,\n",
    "    dir_predictions = path_train_predictions\n",
    ")"
   ]
  },
  {
   "cell_type": "code",
   "execution_count": 9,
   "metadata": {},
   "outputs": [
    {
     "name": "stdout",
     "output_type": "stream",
     "text": [
      "              precision    recall  f1-score   support\n",
      "\n",
      "           0       0.99      0.96      0.98    547881\n",
      "           1       0.06      0.32      0.10      4055\n",
      "\n",
      "   micro avg       0.96      0.96      0.96    551936\n",
      "   macro avg       0.53      0.64      0.54    551936\n",
      "weighted avg       0.99      0.96      0.97    551936\n",
      "\n",
      "('F1/dice (binary): ', 0.09961219679111855)\n",
      "('Jaccard/IOU: ', 0.05241677336747759)\n"
     ]
    }
   ],
   "source": [
    "predict(\n",
    "    path_val_images, path_val_annotations, path_val_predictions,\n",
    "    n_classes, input_width, input_height, \n",
    "    model_name, epochs, loss, optimizer, metrics,\n",
    "    path_save_weights\n",
    ")"
   ]
  },
  {
   "cell_type": "code",
   "execution_count": null,
   "metadata": {},
   "outputs": [],
   "source": [
    "visualize_dataset(\n",
    "    path_val_images, path_val_annotations, \n",
    "    n_classes, n_channel_annotations = n_channel_annotations,\n",
    "    dir_predictions = path_val_predictions\n",
    ")"
   ]
  },
  {
   "cell_type": "code",
   "execution_count": 11,
   "metadata": {},
   "outputs": [
    {
     "name": "stdout",
     "output_type": "stream",
     "text": [
      "              precision    recall  f1-score   support\n",
      "\n",
      "           0       0.99      0.95      0.97    586517\n",
      "           1       0.28      0.66      0.39     15595\n",
      "\n",
      "   micro avg       0.95      0.95      0.95    602112\n",
      "   macro avg       0.64      0.81      0.68    602112\n",
      "weighted avg       0.97      0.95      0.96    602112\n",
      "\n",
      "('F1/dice (binary): ', 0.3939324817518248)\n",
      "('Jaccard/IOU: ', 0.24527765942337737)\n"
     ]
    }
   ],
   "source": [
    "predict(\n",
    "    path_test_images, path_test_annotations, path_test_predictions,\n",
    "    n_classes, input_width, input_height, \n",
    "    model_name, epochs, loss, optimizer, metrics,\n",
    "    path_save_weights\n",
    ")"
   ]
  },
  {
   "cell_type": "code",
   "execution_count": null,
   "metadata": {},
   "outputs": [],
   "source": [
    "visualize_dataset(\n",
    "    path_test_images, path_test_annotations, \n",
    "    n_classes, n_channel_annotations = n_channel_annotations, \n",
    "    dir_predictions = path_test_predictions\n",
    ")"
   ]
  }
 ],
 "metadata": {
  "kernelspec": {
   "display_name": "Python 3",
   "language": "python",
   "name": "python3"
  },
  "language_info": {
   "codemirror_mode": {
    "name": "ipython",
    "version": 3
   },
   "file_extension": ".py",
   "mimetype": "text/x-python",
   "name": "python",
   "nbconvert_exporter": "python",
   "pygments_lexer": "ipython3",
   "version": "3.7.0"
  }
 },
 "nbformat": 4,
 "nbformat_minor": 2
}
