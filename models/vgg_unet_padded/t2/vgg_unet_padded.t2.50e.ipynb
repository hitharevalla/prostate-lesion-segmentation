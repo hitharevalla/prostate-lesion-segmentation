{
 "cells": [
  {
   "cell_type": "code",
   "execution_count": 1,
   "metadata": {},
   "outputs": [
    {
     "name": "stderr",
     "output_type": "stream",
     "text": [
      "Using TensorFlow backend.\n"
     ]
    }
   ],
   "source": [
    "import glob\n",
    "import math\n",
    "import sys\n",
    "import timeit\n",
    "\n",
    "sys.path.insert(0, '../../')\n",
    "from visualize_dataset import *\n",
    "from losses import *\n",
    "from metrics import *\n",
    "from predict import *\n",
    "from train import *\n",
    "from utils import *"
   ]
  },
  {
   "cell_type": "code",
   "execution_count": 2,
   "metadata": {},
   "outputs": [],
   "source": [
    "path_train_images = '../../../data/stanford_t2_cropped/train/Slice/'\n",
    "path_train_annotations = '../../../data/stanford_t2_cropped/train/ROI/'\n",
    "path_train_predictions = './predictions.50e/train/'\n",
    "\n",
    "path_val_images = '../../../data/stanford_t2_cropped/val/Slice/'\n",
    "path_val_annotations = '../../../data/stanford_t2_cropped/val/ROI/'\n",
    "path_val_predictions = './predictions.50e/val/'\n",
    "\n",
    "path_test_images = '../../../data/stanford_t2_cropped/test/Slice/'\n",
    "path_test_annotations = '../../../data/stanford_t2_cropped/test/ROI/'\n",
    "path_test_predictions = './predictions.50e/test/'\n",
    "\n",
    "path_save_weights = './weights.50e/'\n",
    "path_load_weights = None\n",
    "\n",
    "train_vgg = False\n",
    "path_vgg_weights = '../../../data/vgg16_weights_th_dim_ordering_th_kernels.h5'\n",
    "\n",
    "n_classes = 2\n",
    "input_height = 224\n",
    "input_width = 224\n",
    "n_channel_annotations = 1"
   ]
  },
  {
   "cell_type": "code",
   "execution_count": 3,
   "metadata": {},
   "outputs": [
    {
     "name": "stdout",
     "output_type": "stream",
     "text": [
      "Number train images:  728\n",
      "Number val images:  36\n",
      "Number test images:  35\n"
     ]
    }
   ],
   "source": [
    "print('Number train images: ', len(glob.glob(path_train_images + '*.png')))\n",
    "print('Number val images: ', len(glob.glob(path_val_images + '*.png')))\n",
    "print('Number test images: ', len(glob.glob(path_test_images + '*.png')))"
   ]
  },
  {
   "cell_type": "code",
   "execution_count": 4,
   "metadata": {},
   "outputs": [],
   "source": [
    "model_name = 'vgg_unet_padded'\n",
    "epochs = 50\n",
    "train_batch_size = 8\n",
    "val_batch_size = len(glob.glob(path_val_images + '*.png'))"
   ]
  },
  {
   "cell_type": "code",
   "execution_count": 5,
   "metadata": {},
   "outputs": [
    {
     "name": "stdout",
     "output_type": "stream",
     "text": [
      "[0.98302371 0.01697629]\n",
      "[ 1.         57.90569446]\n",
      "[0.01712204 4.07593777]\n"
     ]
    }
   ],
   "source": [
    "optimizer = 'adadelta'\n",
    "metrics = ['accuracy', dice, iou]\n",
    "\n",
    "class_props = calc_class_proportions(path_train_annotations, n_classes, n_channel_annotations)\n",
    "class_weights = calc_class_weights(path_train_annotations, n_classes, n_channel_annotations)\n",
    "class_weights_log = calc_class_weights(path_train_annotations, n_classes, n_channel_annotations, scale = 'log')\n",
    "\n",
    "print(class_props)\n",
    "print(class_weights)\n",
    "print(class_weights_log)\n",
    "\n",
    "loss = weighted_categorical_crossentropy_loss(class_weights_log)"
   ]
  },
  {
   "cell_type": "code",
   "execution_count": null,
   "metadata": {},
   "outputs": [
    {
     "name": "stdout",
     "output_type": "stream",
     "text": [
      "Model output shape (None, 50176, 2)\n",
      "Epoch 0\n",
      "Epoch 1/1\n",
      "91/91 [==============================] - 582s 6s/step - loss: 0.0480 - acc: 0.9592 - dice: 9.5071e-04 - iou: 4.8235e-04 - val_loss: 0.0382 - val_acc: 0.9850 - val_dice: 0.0000e+00 - val_iou: 0.0000e+00\n",
      "Epoch 1\n",
      "Epoch 1/1\n",
      "91/91 [==============================] - 575s 6s/step - loss: 0.0356 - acc: 0.7551 - dice: 0.0020 - iou: 0.0010 - val_loss: 0.0284 - val_acc: 0.3949 - val_dice: 0.0021 - val_iou: 0.0011\n",
      "Epoch 2\n",
      "Epoch 1/1\n",
      "91/91 [==============================] - 575s 6s/step - loss: 0.0290 - acc: 0.4908 - dice: 0.0019 - iou: 9.7072e-04 - val_loss: 0.0286 - val_acc: 0.5056 - val_dice: 5.7975e-04 - val_iou: 2.8996e-04\n",
      "Epoch 3\n",
      "Epoch 1/1\n",
      "91/91 [==============================] - 574s 6s/step - loss: 0.0262 - acc: 0.4154 - dice: 0.0016 - iou: 8.1147e-04 - val_loss: 0.0214 - val_acc: 0.2749 - val_dice: 0.0020 - val_iou: 0.0010\n",
      "Epoch 4\n",
      "Epoch 1/1\n",
      "91/91 [==============================] - 576s 6s/step - loss: 0.0235 - acc: 0.3748 - dice: 0.0012 - iou: 5.7757e-04 - val_loss: 0.0216 - val_acc: 0.2056 - val_dice: 0.0032 - val_iou: 0.0016\n",
      "Epoch 5\n",
      "Epoch 1/1\n",
      "91/91 [==============================] - 579s 6s/step - loss: 0.0196 - acc: 0.3048 - dice: 7.7114e-04 - iou: 3.8603e-04 - val_loss: 0.0206 - val_acc: 0.2584 - val_dice: 0.0014 - val_iou: 6.9903e-04\n",
      "Epoch 6\n",
      "Epoch 1/1\n",
      "91/91 [==============================] - 575s 6s/step - loss: 0.0183 - acc: 0.2865 - dice: 6.3739e-04 - iou: 3.1904e-04 - val_loss: 0.0272 - val_acc: 0.6035 - val_dice: 3.0713e-05 - val_iou: 1.5357e-05\n",
      "Epoch 7\n",
      "Epoch 1/1\n",
      "91/91 [==============================] - 576s 6s/step - loss: 0.0168 - acc: 0.2668 - dice: 5.3414e-04 - iou: 2.6730e-04 - val_loss: 0.0234 - val_acc: 0.3633 - val_dice: 4.3283e-04 - val_iou: 2.1646e-04\n",
      "Epoch 8\n",
      "Epoch 1/1\n",
      "91/91 [==============================] - 577s 6s/step - loss: 0.0215 - acc: 0.3898 - dice: 3.9461e-04 - iou: 1.9749e-04 - val_loss: 0.0389 - val_acc: 0.9464 - val_dice: 0.0000e+00 - val_iou: 0.0000e+00\n",
      "Epoch 9\n",
      "Epoch 1/1\n",
      "91/91 [==============================] - 576s 6s/step - loss: 0.0247 - acc: 0.4517 - dice: 8.2956e-04 - iou: 4.1573e-04 - val_loss: 0.0216 - val_acc: 0.2351 - val_dice: 0.0021 - val_iou: 0.0010\n",
      "Epoch 10\n",
      "Epoch 1/1\n",
      "91/91 [==============================] - 575s 6s/step - loss: 0.0163 - acc: 0.2320 - dice: 6.5483e-04 - iou: 3.2789e-04 - val_loss: 0.0189 - val_acc: 0.2757 - val_dice: 0.0014 - val_iou: 7.1186e-04\n",
      "Epoch 11\n",
      "Epoch 1/1\n",
      "91/91 [==============================] - 576s 6s/step - loss: 0.0139 - acc: 0.2097 - dice: 3.9991e-04 - iou: 2.0008e-04 - val_loss: 0.0435 - val_acc: 0.1592 - val_dice: 0.0054 - val_iou: 0.0027\n",
      "Epoch 12\n",
      "Epoch 1/1\n",
      "91/91 [==============================] - 575s 6s/step - loss: 0.0165 - acc: 0.2614 - dice: 3.8804e-04 - iou: 1.9421e-04 - val_loss: 0.0233 - val_acc: 0.2022 - val_dice: 0.0034 - val_iou: 0.0017\n",
      "Epoch 13\n",
      "Epoch 1/1\n",
      "91/91 [==============================] - 574s 6s/step - loss: 0.0145 - acc: 0.2137 - dice: 4.7986e-04 - iou: 2.4028e-04 - val_loss: 0.0562 - val_acc: 0.1469 - val_dice: 0.0059 - val_iou: 0.0030\n",
      "Epoch 14\n",
      "Epoch 1/1\n",
      "91/91 [==============================] - 579s 6s/step - loss: 0.0119 - acc: 0.1737 - dice: 2.9864e-04 - iou: 1.4940e-04 - val_loss: 0.0456 - val_acc: 0.1379 - val_dice: 0.0062 - val_iou: 0.0031\n",
      "Epoch 15\n",
      "Epoch 1/1\n",
      "91/91 [==============================] - 768s 8s/step - loss: 0.0112 - acc: 0.1619 - dice: 2.6476e-04 - iou: 1.3246e-04 - val_loss: 0.0758 - val_acc: 0.1416 - val_dice: 0.0074 - val_iou: 0.0037\n",
      "Epoch 16\n",
      "Epoch 1/1\n",
      "91/91 [==============================] - 775s 9s/step - loss: 0.0112 - acc: 0.1563 - dice: 2.9504e-04 - iou: 1.4761e-04 - val_loss: 0.0340 - val_acc: 0.1893 - val_dice: 0.0039 - val_iou: 0.0019\n",
      "Epoch 17\n",
      "Epoch 1/1\n",
      "91/91 [==============================] - 797s 9s/step - loss: 0.0108 - acc: 0.1588 - dice: 2.3799e-04 - iou: 1.1905e-04 - val_loss: 0.1790 - val_acc: 0.1014 - val_dice: 0.0117 - val_iou: 0.0059\n",
      "Epoch 18\n",
      "Epoch 1/1\n",
      "91/91 [==============================] - 857s 9s/step - loss: 0.0112 - acc: 0.1599 - dice: 2.3794e-04 - iou: 1.1905e-04 - val_loss: 0.1588 - val_acc: 0.0957 - val_dice: 0.0120 - val_iou: 0.0060\n",
      "Epoch 19\n",
      "Epoch 1/1\n",
      "91/91 [==============================] - 853s 9s/step - loss: 0.0092 - acc: 0.1225 - dice: 1.9316e-04 - iou: 9.6628e-05 - val_loss: 0.1388 - val_acc: 0.1004 - val_dice: 0.0111 - val_iou: 0.0056\n",
      "Epoch 20\n",
      "Epoch 1/1\n",
      "91/91 [==============================] - 851s 9s/step - loss: 0.0083 - acc: 0.1110 - dice: 1.7146e-04 - iou: 8.5761e-05 - val_loss: 0.0692 - val_acc: 0.1752 - val_dice: 0.0056 - val_iou: 0.0028\n",
      "Epoch 21\n",
      "Epoch 1/1\n",
      "91/91 [==============================] - 852s 9s/step - loss: 0.0080 - acc: 0.1079 - dice: 1.4770e-04 - iou: 7.3872e-05 - val_loss: 0.3333 - val_acc: 0.0688 - val_dice: 0.0160 - val_iou: 0.0081\n",
      "Epoch 22\n",
      "Epoch 1/1\n",
      "91/91 [==============================] - 780s 9s/step - loss: 0.0092 - acc: 0.1290 - dice: 2.0578e-04 - iou: 1.0296e-04 - val_loss: 0.2666 - val_acc: 0.0933 - val_dice: 0.0135 - val_iou: 0.0068\n",
      "Epoch 23\n",
      "Epoch 1/1\n",
      "91/91 [==============================] - 594s 7s/step - loss: 0.0080 - acc: 0.1064 - dice: 1.8852e-04 - iou: 9.4343e-05 - val_loss: 0.1614 - val_acc: 0.0832 - val_dice: 0.0123 - val_iou: 0.0062\n",
      "Epoch 24\n",
      "Epoch 1/1\n",
      "91/91 [==============================] - 596s 7s/step - loss: 0.0069 - acc: 0.0849 - dice: 1.2552e-04 - iou: 6.2786e-05 - val_loss: 0.4155 - val_acc: 0.0523 - val_dice: 0.0174 - val_iou: 0.0088\n",
      "Epoch 25\n",
      "Epoch 1/1\n",
      "91/91 [==============================] - 594s 7s/step - loss: 0.0059 - acc: 0.0750 - dice: 1.1363e-04 - iou: 5.6830e-05 - val_loss: 0.0711 - val_acc: 0.1201 - val_dice: 0.0075 - val_iou: 0.0038\n",
      "Epoch 26\n",
      "Epoch 1/1\n",
      "91/91 [==============================] - 592s 7s/step - loss: 0.0053 - acc: 0.0659 - dice: 8.6562e-05 - iou: 4.3291e-05 - val_loss: 0.4037 - val_acc: 0.0502 - val_dice: 0.0170 - val_iou: 0.0086\n",
      "Epoch 27\n",
      "Epoch 1/1\n",
      "91/91 [==============================] - 592s 7s/step - loss: 0.0075 - acc: 0.0856 - dice: 1.4121e-04 - iou: 7.0674e-05 - val_loss: 0.3204 - val_acc: 0.0605 - val_dice: 0.0151 - val_iou: 0.0076\n",
      "Epoch 28\n",
      "Epoch 1/1\n",
      "91/91 [==============================] - 589s 6s/step - loss: 0.0053 - acc: 0.0650 - dice: 9.4598e-05 - iou: 4.7314e-05 - val_loss: 0.3110 - val_acc: 0.0507 - val_dice: 0.0181 - val_iou: 0.0091\n",
      "Epoch 29\n",
      "Epoch 1/1\n",
      "91/91 [==============================] - 591s 6s/step - loss: 0.0052 - acc: 0.0649 - dice: 1.0931e-04 - iou: 5.4676e-05 - val_loss: 0.2819 - val_acc: 0.0641 - val_dice: 0.0165 - val_iou: 0.0083\n",
      "Epoch 30\n",
      "Epoch 1/1\n",
      "91/91 [==============================] - 591s 6s/step - loss: 0.0042 - acc: 0.0509 - dice: 7.2563e-05 - iou: 3.6288e-05 - val_loss: 0.4604 - val_acc: 0.0464 - val_dice: 0.0187 - val_iou: 0.0095\n",
      "Epoch 31\n",
      "Epoch 1/1\n",
      "91/91 [==============================] - 588s 6s/step - loss: 0.0046 - acc: 0.0508 - dice: 6.2830e-05 - iou: 3.1421e-05 - val_loss: 0.3990 - val_acc: 0.0486 - val_dice: 0.0162 - val_iou: 0.0082\n",
      "Epoch 32\n",
      "Epoch 1/1\n",
      "91/91 [==============================] - 589s 6s/step - loss: 0.0043 - acc: 0.0518 - dice: 8.3528e-05 - iou: 4.1777e-05 - val_loss: 0.5309 - val_acc: 0.0393 - val_dice: 0.0205 - val_iou: 0.0104\n",
      "Epoch 33\n",
      "Epoch 1/1\n",
      "91/91 [==============================] - 592s 7s/step - loss: 0.0031 - acc: 0.0363 - dice: 5.4718e-05 - iou: 2.7364e-05 - val_loss: 0.0299 - val_acc: 0.3054 - val_dice: 0.0012 - val_iou: 6.0620e-04\n",
      "Epoch 34\n",
      "Epoch 1/1\n",
      "91/91 [==============================] - 588s 6s/step - loss: 0.0033 - acc: 0.0387 - dice: 3.1639e-05 - iou: 1.5821e-05 - val_loss: 0.6192 - val_acc: 0.0320 - val_dice: 0.0226 - val_iou: 0.0114\n",
      "Epoch 35\n",
      "Epoch 1/1\n",
      "91/91 [==============================] - 593s 7s/step - loss: 0.0029 - acc: 0.0322 - dice: 4.1874e-05 - iou: 2.0941e-05 - val_loss: 0.6221 - val_acc: 0.0330 - val_dice: 0.0219 - val_iou: 0.0111\n",
      "Epoch 36\n",
      "Epoch 1/1\n",
      "91/91 [==============================] - 590s 6s/step - loss: 0.0034 - acc: 0.0371 - dice: 5.3581e-05 - iou: 2.6799e-05 - val_loss: 0.5778 - val_acc: 0.0346 - val_dice: 0.0222 - val_iou: 0.0112\n",
      "Epoch 37\n",
      "Epoch 1/1\n",
      "91/91 [==============================] - 591s 6s/step - loss: 0.0029 - acc: 0.0342 - dice: 5.0024e-05 - iou: 2.5017e-05 - val_loss: 0.5944 - val_acc: 0.0355 - val_dice: 0.0216 - val_iou: 0.0109\n",
      "Epoch 38\n",
      "Epoch 1/1\n",
      "91/91 [==============================] - 591s 6s/step - loss: 0.0023 - acc: 0.0257 - dice: 2.6311e-05 - iou: 1.3157e-05 - val_loss: 0.5916 - val_acc: 0.0369 - val_dice: 0.0213 - val_iou: 0.0107\n",
      "Epoch 39\n",
      "Epoch 1/1\n",
      "91/91 [==============================] - 590s 6s/step - loss: 0.0022 - acc: 0.0240 - dice: 2.1194e-05 - iou: 1.0597e-05 - val_loss: 0.7716 - val_acc: 0.0231 - val_dice: 0.0255 - val_iou: 0.0129\n",
      "Epoch 40\n",
      "Epoch 1/1\n",
      "91/91 [==============================] - 589s 6s/step - loss: 0.0021 - acc: 0.0226 - dice: 2.5602e-05 - iou: 1.2802e-05 - val_loss: 0.5771 - val_acc: 0.0348 - val_dice: 0.0209 - val_iou: 0.0105\n",
      "Epoch 41\n",
      "Epoch 1/1\n",
      "91/91 [==============================] - 590s 6s/step - loss: 0.0021 - acc: 0.0230 - dice: 2.7226e-05 - iou: 1.3614e-05 - val_loss: 0.3304 - val_acc: 0.0632 - val_dice: 0.0140 - val_iou: 0.0071\n",
      "Epoch 42\n",
      "Epoch 1/1\n",
      "91/91 [==============================] - 588s 6s/step - loss: 0.0054 - acc: 0.0592 - dice: 6.9906e-05 - iou: 3.5014e-05 - val_loss: 0.6361 - val_acc: 0.0336 - val_dice: 0.0229 - val_iou: 0.0116\n",
      "Epoch 43\n",
      "Epoch 1/1\n",
      "91/91 [==============================] - 590s 6s/step - loss: 0.0025 - acc: 0.0292 - dice: 2.0128e-05 - iou: 1.0064e-05 - val_loss: 0.6900 - val_acc: 0.0318 - val_dice: 0.0238 - val_iou: 0.0121\n",
      "Epoch 44\n",
      "Epoch 1/1\n",
      "91/91 [==============================] - 587s 6s/step - loss: 0.0017 - acc: 0.0183 - dice: 1.2236e-05 - iou: 6.1182e-06 - val_loss: 0.7903 - val_acc: 0.0242 - val_dice: 0.0255 - val_iou: 0.0129\n",
      "Epoch 45\n",
      "Epoch 1/1\n",
      "91/91 [==============================] - 590s 6s/step - loss: 0.0017 - acc: 0.0184 - dice: 1.6953e-05 - iou: 8.4773e-06 - val_loss: 0.5123 - val_acc: 0.0357 - val_dice: 0.0183 - val_iou: 0.0092\n",
      "Epoch 46\n",
      "Epoch 1/1\n",
      "91/91 [==============================] - 588s 6s/step - loss: 0.0017 - acc: 0.0180 - dice: 2.4645e-05 - iou: 1.2324e-05 - val_loss: 0.2212 - val_acc: 0.1012 - val_dice: 0.0097 - val_iou: 0.0049\n",
      "Epoch 47\n",
      "Epoch 1/1\n",
      "91/91 [==============================] - 586s 6s/step - loss: 0.0023 - acc: 0.0226 - dice: 3.0796e-05 - iou: 1.5402e-05 - val_loss: 0.2395 - val_acc: 0.0390 - val_dice: 0.0161 - val_iou: 0.0081\n",
      "Epoch 48\n",
      "Epoch 1/1\n",
      " 1/91 [..............................] - ETA: 9:25 - loss: 0.0038 - acc: 0.0363 - dice: 0.0000e+00 - iou: 0.0000e+00"
     ]
    }
   ],
   "source": [
    "start = timeit.default_timer()\n",
    "train(\n",
    "    path_train_images, path_train_annotations, train_batch_size, \n",
    "    path_val_images, path_val_annotations, val_batch_size,\n",
    "    n_classes, input_width, input_height, \n",
    "    model_name, epochs, loss, optimizer, metrics,\n",
    "    path_save_weights, path_vgg_weights = path_vgg_weights, train_vgg = train_vgg, path_load_weights = None\n",
    ")\n",
    "end = timeit.default_timer()"
   ]
  },
  {
   "cell_type": "code",
   "execution_count": null,
   "metadata": {},
   "outputs": [],
   "source": [
    "print('Total training time: ', end - start)"
   ]
  },
  {
   "cell_type": "code",
   "execution_count": 6,
   "metadata": {},
   "outputs": [],
   "source": [
    "epochs = 40"
   ]
  },
  {
   "cell_type": "code",
   "execution_count": 7,
   "metadata": {},
   "outputs": [
    {
     "name": "stdout",
     "output_type": "stream",
     "text": [
      "              precision    recall  f1-score   support\n",
      "\n",
      "           0       0.45      0.01      0.03  35908016\n",
      "           1       0.00      0.01      0.00    620112\n",
      "\n",
      "   micro avg       0.01      0.01      0.01  36528128\n",
      "   macro avg       0.22      0.01      0.01  36528128\n",
      "weighted avg       0.44      0.01      0.03  36528128\n",
      "\n",
      "F1/dice (binary):  0.0001960716609723356\n",
      "Jaccard/IOU:  9.8045442452544e-05\n"
     ]
    }
   ],
   "source": [
    "predict(\n",
    "    path_train_images, path_train_annotations, path_train_predictions,\n",
    "    n_classes, input_width, input_height, \n",
    "    model_name, epochs, loss, optimizer, metrics, \n",
    "    path_save_weights\n",
    ")"
   ]
  },
  {
   "cell_type": "code",
   "execution_count": null,
   "metadata": {},
   "outputs": [],
   "source": [
    "visualize_dataset(\n",
    "    path_train_images, path_train_annotations, \n",
    "    n_classes, n_channel_annotations = n_channel_annotations,\n",
    "    dir_predictions = path_train_predictions\n",
    ")"
   ]
  },
  {
   "cell_type": "code",
   "execution_count": 9,
   "metadata": {},
   "outputs": [
    {
     "name": "stdout",
     "output_type": "stream",
     "text": [
      "              precision    recall  f1-score   support\n",
      "\n",
      "           0       0.83      0.01      0.02   1779279\n",
      "           1       0.01      0.85      0.03     27057\n",
      "\n",
      "   micro avg       0.02      0.02      0.02   1806336\n",
      "   macro avg       0.42      0.43      0.02   1806336\n",
      "weighted avg       0.81      0.02      0.02   1806336\n",
      "\n",
      "F1/dice (binary):  0.0255281831119466\n",
      "Jaccard/IOU:  0.012929120027745614\n"
     ]
    }
   ],
   "source": [
    "predict(\n",
    "    path_val_images, path_val_annotations, path_val_predictions,\n",
    "    n_classes, input_width, input_height, \n",
    "    model_name, epochs, loss, optimizer, metrics,\n",
    "    path_save_weights\n",
    ")"
   ]
  },
  {
   "cell_type": "code",
   "execution_count": null,
   "metadata": {},
   "outputs": [],
   "source": [
    "visualize_dataset(\n",
    "    path_val_images, path_val_annotations, \n",
    "    n_classes, n_channel_annotations = n_channel_annotations,\n",
    "    dir_predictions = path_val_predictions\n",
    ")"
   ]
  },
  {
   "cell_type": "code",
   "execution_count": 11,
   "metadata": {},
   "outputs": [
    {
     "name": "stdout",
     "output_type": "stream",
     "text": [
      "              precision    recall  f1-score   support\n",
      "\n",
      "           0       0.55      0.01      0.02   1714591\n",
      "           1       0.01      0.62      0.03     41569\n",
      "\n",
      "   micro avg       0.03      0.03      0.03   1756160\n",
      "   macro avg       0.28      0.31      0.03   1756160\n",
      "weighted avg       0.53      0.03      0.02   1756160\n",
      "\n",
      "F1/dice (binary):  0.029058654591894918\n",
      "Jaccard/IOU:  0.0147435410290599\n"
     ]
    }
   ],
   "source": [
    "predict(\n",
    "    path_test_images, path_test_annotations, path_test_predictions,\n",
    "    n_classes, input_width, input_height, \n",
    "    model_name, epochs, loss, optimizer, metrics,\n",
    "    path_save_weights\n",
    ")"
   ]
  },
  {
   "cell_type": "code",
   "execution_count": null,
   "metadata": {},
   "outputs": [],
   "source": [
    "visualize_dataset(\n",
    "    path_test_images, path_test_annotations, \n",
    "    n_classes, n_channel_annotations = n_channel_annotations, \n",
    "    dir_predictions = path_test_predictions\n",
    ")"
   ]
  }
 ],
 "metadata": {
  "kernelspec": {
   "display_name": "Python 3",
   "language": "python",
   "name": "python3"
  },
  "language_info": {
   "codemirror_mode": {
    "name": "ipython",
    "version": 3
   },
   "file_extension": ".py",
   "mimetype": "text/x-python",
   "name": "python",
   "nbconvert_exporter": "python",
   "pygments_lexer": "ipython3",
   "version": "3.6.7"
  }
 },
 "nbformat": 4,
 "nbformat_minor": 2
}
