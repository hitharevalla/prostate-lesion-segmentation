{
 "cells": [
  {
   "cell_type": "code",
   "execution_count": 1,
   "metadata": {},
   "outputs": [
    {
     "name": "stderr",
     "output_type": "stream",
     "text": [
      "Using TensorFlow backend.\n"
     ]
    }
   ],
   "source": [
    "import glob\n",
    "import math\n",
    "import sys\n",
    "import timeit\n",
    "\n",
    "sys.path.insert(0, '../../')\n",
    "from visualize_dataset import *\n",
    "from losses import *\n",
    "from metrics import *\n",
    "from predict import *\n",
    "from train import *\n",
    "from utils import *"
   ]
  },
  {
   "cell_type": "code",
   "execution_count": 2,
   "metadata": {},
   "outputs": [],
   "source": [
    "path_train_images = '../../../data/stanford_adc_cropped/train/Slice/'\n",
    "path_train_annotations = '../../../data/stanford_adc_cropped/train/ROI/'\n",
    "path_train_predictions = './predictions.50e/train/'\n",
    "\n",
    "path_val_images = '../../../data/stanford_adc_cropped/val/Slice/'\n",
    "path_val_annotations = '../../../data/stanford_adc_cropped/val/ROI/'\n",
    "path_val_predictions = './predictions.50e/val/'\n",
    "\n",
    "path_test_images = '../../../data/stanford_adc_cropped/test/Slice/'\n",
    "path_test_annotations = '../../../data/stanford_adc_cropped/test/ROI/'\n",
    "path_test_predictions = './predictions.50e/test/'\n",
    "\n",
    "path_save_weights = './weights.50e/'\n",
    "path_load_weights = None\n",
    "\n",
    "train_vgg = False\n",
    "path_vgg_weights = '../../../data/vgg16_weights_th_dim_ordering_th_kernels.h5'\n",
    "\n",
    "n_classes = 2\n",
    "input_height = 224\n",
    "input_width = 224\n",
    "n_channel_annotations = 1"
   ]
  },
  {
   "cell_type": "code",
   "execution_count": 3,
   "metadata": {},
   "outputs": [
    {
     "name": "stdout",
     "output_type": "stream",
     "text": [
      "Number train images:  192\n",
      "Number val images:  11\n",
      "Number test images:  12\n"
     ]
    }
   ],
   "source": [
    "print('Number train images: ', len(glob.glob(path_train_images + '*.png')))\n",
    "print('Number val images: ', len(glob.glob(path_val_images + '*.png')))\n",
    "print('Number test images: ', len(glob.glob(path_test_images + '*.png')))"
   ]
  },
  {
   "cell_type": "code",
   "execution_count": 4,
   "metadata": {},
   "outputs": [],
   "source": [
    "model_name = 'vgg_unet_padded'\n",
    "epochs = 50\n",
    "train_batch_size = 8\n",
    "val_batch_size = len(glob.glob(path_val_images + '*.png'))"
   ]
  },
  {
   "cell_type": "code",
   "execution_count": 5,
   "metadata": {},
   "outputs": [
    {
     "name": "stdout",
     "output_type": "stream",
     "text": [
      "[0.98175173 0.01824827]\n",
      "[ 1.         53.79972696]\n",
      "[0.01841682 4.00368521]\n"
     ]
    }
   ],
   "source": [
    "optimizer = 'adadelta'\n",
    "metrics = ['accuracy', dice, iou]\n",
    "\n",
    "class_props = calc_class_proportions(path_train_annotations, n_classes, n_channel_annotations)\n",
    "class_weights = calc_class_weights(path_train_annotations, n_classes, n_channel_annotations)\n",
    "class_weights_log = calc_class_weights(path_train_annotations, n_classes, n_channel_annotations, scale = 'log')\n",
    "\n",
    "print(class_props)\n",
    "print(class_weights)\n",
    "print(class_weights_log)\n",
    "\n",
    "loss = weighted_categorical_crossentropy_loss(class_weights_log)"
   ]
  },
  {
   "cell_type": "code",
   "execution_count": 6,
   "metadata": {},
   "outputs": [
    {
     "name": "stdout",
     "output_type": "stream",
     "text": [
      "Model output shape (None, 50176, 2)\n",
      "Epoch 0\n",
      "Epoch 1/1\n",
      "24/24 [==============================] - 843s 35s/step - loss: 0.1082 - acc: 0.0761 - dice: 0.0339 - iou: 0.0173 - val_loss: 0.0341 - val_acc: 0.0086 - val_dice: 0.0169 - val_iou: 0.0085\n",
      "Epoch 1\n",
      "Epoch 1/1\n",
      "24/24 [==============================] - 833s 35s/step - loss: 0.0447 - acc: 0.0185 - dice: 0.0358 - iou: 0.0183 - val_loss: 0.0346 - val_acc: 0.0100 - val_dice: 0.0169 - val_iou: 0.0085\n",
      "Epoch 2\n",
      "Epoch 1/1\n",
      "24/24 [==============================] - 833s 35s/step - loss: 0.0456 - acc: 0.0261 - dice: 0.0361 - iou: 0.0184 - val_loss: 0.0366 - val_acc: 0.0101 - val_dice: 0.0169 - val_iou: 0.0085\n",
      "Epoch 3\n",
      "Epoch 1/1\n",
      "24/24 [==============================] - 827s 34s/step - loss: 0.0479 - acc: 0.0633 - dice: 0.0340 - iou: 0.0174 - val_loss: 0.0347 - val_acc: 0.0097 - val_dice: 0.0169 - val_iou: 0.0085\n",
      "Epoch 4\n",
      "Epoch 1/1\n",
      "24/24 [==============================] - 828s 35s/step - loss: 0.0436 - acc: 0.0208 - dice: 0.0359 - iou: 0.0183 - val_loss: 0.0429 - val_acc: 0.0126 - val_dice: 0.0169 - val_iou: 0.0085\n",
      "Epoch 5\n",
      "Epoch 1/1\n",
      "24/24 [==============================] - 832s 35s/step - loss: 0.0466 - acc: 0.2706 - dice: 0.0510 - iou: 0.0262 - val_loss: 0.0247 - val_acc: 0.4188 - val_dice: 0.0284 - val_iou: 0.0144\n",
      "Epoch 6\n",
      "Epoch 1/1\n",
      "24/24 [==============================] - 835s 35s/step - loss: 0.0393 - acc: 0.3843 - dice: 0.0663 - iou: 0.0346 - val_loss: 0.0320 - val_acc: 0.0826 - val_dice: 0.0182 - val_iou: 0.0092\n",
      "Epoch 7\n",
      "Epoch 1/1\n",
      "24/24 [==============================] - 829s 35s/step - loss: 0.0407 - acc: 0.3797 - dice: 0.0652 - iou: 0.0341 - val_loss: 0.0215 - val_acc: 0.6188 - val_dice: 0.0424 - val_iou: 0.0217\n",
      "Epoch 8\n",
      "Epoch 1/1\n",
      "24/24 [==============================] - 832s 35s/step - loss: 0.0284 - acc: 0.6181 - dice: 0.0947 - iou: 0.0502 - val_loss: 0.0191 - val_acc: 0.6026 - val_dice: 0.0408 - val_iou: 0.0208\n",
      "Epoch 9\n",
      "Epoch 1/1\n",
      "24/24 [==============================] - 832s 35s/step - loss: 0.0227 - acc: 0.6451 - dice: 0.1009 - iou: 0.0535 - val_loss: 0.0225 - val_acc: 0.7322 - val_dice: 0.0566 - val_iou: 0.0291\n",
      "Epoch 10\n",
      "Epoch 1/1\n",
      "24/24 [==============================] - 826s 34s/step - loss: 0.0197 - acc: 0.7113 - dice: 0.1229 - iou: 0.0663 - val_loss: 0.0184 - val_acc: 0.7820 - val_dice: 0.0673 - val_iou: 0.0348\n",
      "Epoch 11\n",
      "Epoch 1/1\n",
      "24/24 [==============================] - 837s 35s/step - loss: 0.0240 - acc: 0.6229 - dice: 0.1115 - iou: 0.0602 - val_loss: 0.0236 - val_acc: 0.4604 - val_dice: 0.0306 - val_iou: 0.0155\n",
      "Epoch 12\n",
      "Epoch 1/1\n",
      "24/24 [==============================] - 830s 35s/step - loss: 0.0200 - acc: 0.6992 - dice: 0.1235 - iou: 0.0668 - val_loss: 0.0158 - val_acc: 0.6954 - val_dice: 0.0521 - val_iou: 0.0267\n",
      "Epoch 13\n",
      "Epoch 1/1\n",
      "24/24 [==============================] - 828s 35s/step - loss: 0.0154 - acc: 0.7832 - dice: 0.1560 - iou: 0.0857 - val_loss: 0.0147 - val_acc: 0.7478 - val_dice: 0.0612 - val_iou: 0.0316\n",
      "Epoch 14\n",
      "Epoch 1/1\n",
      "24/24 [==============================] - 828s 34s/step - loss: 0.0258 - acc: 0.5629 - dice: 0.0959 - iou: 0.0513 - val_loss: 0.0178 - val_acc: 0.6380 - val_dice: 0.0449 - val_iou: 0.0230\n",
      "Epoch 15\n",
      "Epoch 1/1\n",
      "24/24 [==============================] - 836s 35s/step - loss: 0.0159 - acc: 0.7957 - dice: 0.1610 - iou: 0.0886 - val_loss: 0.0184 - val_acc: 0.7985 - val_dice: 0.0707 - val_iou: 0.0366\n",
      "Epoch 16\n",
      "Epoch 1/1\n",
      "24/24 [==============================] - 836s 35s/step - loss: 0.0139 - acc: 0.8269 - dice: 0.1854 - iou: 0.1036 - val_loss: 0.0187 - val_acc: 0.7852 - val_dice: 0.0680 - val_iou: 0.0352\n",
      "Epoch 17\n",
      "Epoch 1/1\n",
      "24/24 [==============================] - 833s 35s/step - loss: 0.0201 - acc: 0.7893 - dice: 0.1682 - iou: 0.0936 - val_loss: 0.0462 - val_acc: 0.8610 - val_dice: 0.0892 - val_iou: 0.0467\n",
      "Epoch 18\n",
      "Epoch 1/1\n",
      "24/24 [==============================] - 832s 35s/step - loss: 0.0166 - acc: 0.8397 - dice: 0.2043 - iou: 0.1156 - val_loss: 0.0277 - val_acc: 0.8511 - val_dice: 0.0843 - val_iou: 0.0440\n",
      "Epoch 19\n",
      "Epoch 1/1\n",
      "24/24 [==============================] - 832s 35s/step - loss: 0.0138 - acc: 0.8635 - dice: 0.2217 - iou: 0.1265 - val_loss: 0.0473 - val_acc: 0.8514 - val_dice: 0.0882 - val_iou: 0.0461\n",
      "Epoch 20\n",
      "Epoch 1/1\n",
      "24/24 [==============================] - 829s 35s/step - loss: 0.0132 - acc: 0.8430 - dice: 0.2310 - iou: 0.1341 - val_loss: 0.0155 - val_acc: 0.8094 - val_dice: 0.0777 - val_iou: 0.0404\n",
      "Epoch 21\n",
      "Epoch 1/1\n",
      "24/24 [==============================] - 834s 35s/step - loss: 0.0133 - acc: 0.8851 - dice: 0.2543 - iou: 0.1481 - val_loss: 0.1252 - val_acc: 0.9088 - val_dice: 0.1112 - val_iou: 0.0589\n",
      "Epoch 22\n",
      "Epoch 1/1\n",
      "24/24 [==============================] - 834s 35s/step - loss: 0.0103 - acc: 0.8869 - dice: 0.2765 - iou: 0.1646 - val_loss: 0.0218 - val_acc: 0.6538 - val_dice: 0.0468 - val_iou: 0.0240\n",
      "Epoch 23\n",
      "Epoch 1/1\n",
      "24/24 [==============================] - 830s 35s/step - loss: 0.0118 - acc: 0.8674 - dice: 0.2636 - iou: 0.1578 - val_loss: 0.0656 - val_acc: 0.9054 - val_dice: 0.1176 - val_iou: 0.0624\n",
      "Epoch 24\n",
      "Epoch 1/1\n",
      "24/24 [==============================] - 829s 35s/step - loss: 0.0109 - acc: 0.8800 - dice: 0.2799 - iou: 0.1667 - val_loss: 0.0902 - val_acc: 0.9177 - val_dice: 0.1221 - val_iou: 0.0650\n",
      "Epoch 25\n",
      "Epoch 1/1\n",
      "24/24 [==============================] - 835s 35s/step - loss: 0.0078 - acc: 0.9045 - dice: 0.3150 - iou: 0.1935 - val_loss: 0.0857 - val_acc: 0.9091 - val_dice: 0.1191 - val_iou: 0.0633\n",
      "Epoch 26\n",
      "Epoch 1/1\n",
      "24/24 [==============================] - 828s 34s/step - loss: 0.0196 - acc: 0.6988 - dice: 0.1957 - iou: 0.1189 - val_loss: 0.0156 - val_acc: 0.7433 - val_dice: 0.0611 - val_iou: 0.0315\n",
      "Epoch 27\n",
      "Epoch 1/1\n",
      "24/24 [==============================] - 829s 35s/step - loss: 0.0078 - acc: 0.9040 - dice: 0.2976 - iou: 0.1778 - val_loss: 0.1878 - val_acc: 0.9494 - val_dice: 0.1548 - val_iou: 0.0839\n",
      "Epoch 28\n",
      "Epoch 1/1\n",
      "24/24 [==============================] - 830s 35s/step - loss: 0.0088 - acc: 0.8949 - dice: 0.3112 - iou: 0.1917 - val_loss: 0.1211 - val_acc: 0.9257 - val_dice: 0.1296 - val_iou: 0.0693\n",
      "Epoch 29\n",
      "Epoch 1/1\n",
      "24/24 [==============================] - 830s 35s/step - loss: 0.0070 - acc: 0.9270 - dice: 0.3573 - iou: 0.2222 - val_loss: 0.2072 - val_acc: 0.9635 - val_dice: 0.1840 - val_iou: 0.1013\n",
      "Epoch 30\n",
      "Epoch 1/1\n",
      "24/24 [==============================] - 826s 34s/step - loss: 0.0150 - acc: 0.8408 - dice: 0.3053 - iou: 0.1934 - val_loss: 0.0149 - val_acc: 0.7203 - val_dice: 0.0569 - val_iou: 0.0293\n",
      "Epoch 31\n",
      "Epoch 1/1\n",
      "24/24 [==============================] - 831s 35s/step - loss: 0.0094 - acc: 0.9047 - dice: 0.2978 - iou: 0.1780 - val_loss: 0.2052 - val_acc: 0.9437 - val_dice: 0.1395 - val_iou: 0.0750\n",
      "Epoch 32\n",
      "Epoch 1/1\n",
      "24/24 [==============================] - 830s 35s/step - loss: 0.0048 - acc: 0.9478 - dice: 0.4156 - iou: 0.2654 - val_loss: 0.1157 - val_acc: 0.9001 - val_dice: 0.1024 - val_iou: 0.0539\n",
      "Epoch 33\n",
      "Epoch 1/1\n",
      "24/24 [==============================] - 832s 35s/step - loss: 0.0059 - acc: 0.9467 - dice: 0.4270 - iou: 0.2775 - val_loss: 0.2016 - val_acc: 0.9345 - val_dice: 0.1225 - val_iou: 0.0652\n",
      "Epoch 34\n",
      "Epoch 1/1\n",
      "24/24 [==============================] - 833s 35s/step - loss: 0.0061 - acc: 0.9341 - dice: 0.4142 - iou: 0.2723 - val_loss: 0.0148 - val_acc: 0.7777 - val_dice: 0.0698 - val_iou: 0.0362\n",
      "Epoch 35\n",
      "Epoch 1/1\n",
      "24/24 [==============================] - 827s 34s/step - loss: 0.0065 - acc: 0.9300 - dice: 0.4209 - iou: 0.2754 - val_loss: 0.0146 - val_acc: 0.7420 - val_dice: 0.0617 - val_iou: 0.0318\n",
      "Epoch 36\n",
      "Epoch 1/1\n",
      "24/24 [==============================] - 826s 34s/step - loss: 0.0051 - acc: 0.9401 - dice: 0.4276 - iou: 0.2819 - val_loss: 0.2918 - val_acc: 0.9708 - val_dice: 0.1949 - val_iou: 0.1080\n",
      "Epoch 37\n",
      "Epoch 1/1\n",
      "24/24 [==============================] - 833s 35s/step - loss: 0.0226 - acc: 0.7514 - dice: 0.2420 - iou: 0.1582 - val_loss: 0.1555 - val_acc: 0.9239 - val_dice: 0.1126 - val_iou: 0.0597\n",
      "Epoch 38\n",
      "Epoch 1/1\n",
      "24/24 [==============================] - 834s 35s/step - loss: 0.0058 - acc: 0.9358 - dice: 0.3894 - iou: 0.2485 - val_loss: 0.2073 - val_acc: 0.9524 - val_dice: 0.1452 - val_iou: 0.0783\n",
      "Epoch 39\n",
      "Epoch 1/1\n",
      "24/24 [==============================] - 826s 34s/step - loss: 0.0042 - acc: 0.9609 - dice: 0.4867 - iou: 0.3262 - val_loss: 0.1263 - val_acc: 0.9213 - val_dice: 0.1238 - val_iou: 0.0660\n"
     ]
    },
    {
     "name": "stdout",
     "output_type": "stream",
     "text": [
      "Epoch 40\n",
      "Epoch 1/1\n",
      "24/24 [==============================] - 827s 34s/step - loss: 0.0047 - acc: 0.9615 - dice: 0.4988 - iou: 0.3399 - val_loss: 0.1025 - val_acc: 0.9070 - val_dice: 0.1139 - val_iou: 0.0604\n",
      "Epoch 41\n",
      "Epoch 1/1\n",
      "24/24 [==============================] - 829s 35s/step - loss: 0.0056 - acc: 0.9447 - dice: 0.4604 - iou: 0.3116 - val_loss: 0.2906 - val_acc: 0.9688 - val_dice: 0.1865 - val_iou: 0.1028\n",
      "Epoch 42\n",
      "Epoch 1/1\n",
      "24/24 [==============================] - 834s 35s/step - loss: 0.0041 - acc: 0.9622 - dice: 0.5091 - iou: 0.3499 - val_loss: 0.2802 - val_acc: 0.9661 - val_dice: 0.1800 - val_iou: 0.0989\n",
      "Epoch 43\n",
      "Epoch 1/1\n",
      "24/24 [==============================] - 827s 34s/step - loss: 0.0047 - acc: 0.9610 - dice: 0.5108 - iou: 0.3520 - val_loss: 0.2951 - val_acc: 0.9670 - val_dice: 0.1793 - val_iou: 0.0985\n",
      "Epoch 44\n",
      "Epoch 1/1\n",
      "24/24 [==============================] - 827s 34s/step - loss: 0.0045 - acc: 0.9622 - dice: 0.5304 - iou: 0.3700 - val_loss: 0.2910 - val_acc: 0.9678 - val_dice: 0.1862 - val_iou: 0.1026\n",
      "Epoch 45\n",
      "Epoch 1/1\n",
      "24/24 [==============================] - 827s 34s/step - loss: 0.0035 - acc: 0.9685 - dice: 0.5605 - iou: 0.3980 - val_loss: 0.2805 - val_acc: 0.9687 - val_dice: 0.1951 - val_iou: 0.1081\n",
      "Epoch 46\n",
      "Epoch 1/1\n",
      "24/24 [==============================] - 824s 34s/step - loss: 0.0082 - acc: 0.9016 - dice: 0.4418 - iou: 0.3109 - val_loss: 0.0139 - val_acc: 0.7961 - val_dice: 0.0755 - val_iou: 0.0392\n",
      "Epoch 47\n",
      "Epoch 1/1\n",
      "24/24 [==============================] - 830s 35s/step - loss: 0.0044 - acc: 0.9519 - dice: 0.4688 - iou: 0.3158 - val_loss: 0.2631 - val_acc: 0.9706 - val_dice: 0.2083 - val_iou: 0.1163\n",
      "Epoch 48\n",
      "Epoch 1/1\n",
      "24/24 [==============================] - 826s 34s/step - loss: 0.0027 - acc: 0.9741 - dice: 0.5849 - iou: 0.4199 - val_loss: 0.2782 - val_acc: 0.9689 - val_dice: 0.1946 - val_iou: 0.1078\n",
      "Epoch 49\n",
      "Epoch 1/1\n",
      "24/24 [==============================] - 830s 35s/step - loss: 0.0028 - acc: 0.9729 - dice: 0.5872 - iou: 0.4243 - val_loss: 0.3357 - val_acc: 0.9788 - val_dice: 0.2229 - val_iou: 0.1254\n"
     ]
    },
    {
     "data": {
      "image/png": "[encoded data removed]",
      "text/plain": [
       "<Figure size 432x288 with 1 Axes>"
      ]
     },
     "metadata": {
      "needs_background": "light"
     },
     "output_type": "display_data"
    },
    {
     "data": {
      "image/png": "[encoded data removed]",
      "text/plain": [
       "<Figure size 432x288 with 1 Axes>"
      ]
     },
     "metadata": {
      "needs_background": "light"
     },
     "output_type": "display_data"
    }
   ],
   "source": [
    "start = timeit.default_timer()\n",
    "train(\n",
    "    path_train_images, path_train_annotations, train_batch_size, \n",
    "    path_val_images, path_val_annotations, val_batch_size,\n",
    "    n_classes, input_width, input_height, \n",
    "    model_name, epochs, loss, optimizer, metrics,\n",
    "    path_save_weights, path_vgg_weights = path_vgg_weights, train_vgg = train_vgg, path_load_weights = None\n",
    ")\n",
    "end = timeit.default_timer()"
   ]
  },
  {
   "cell_type": "code",
   "execution_count": 7,
   "metadata": {},
   "outputs": [
    {
     "name": "stdout",
     "output_type": "stream",
     "text": [
      "Total training time:  41574.079095264\n"
     ]
    }
   ],
   "source": [
    "print('Total training time: ', end - start)"
   ]
  },
  {
   "cell_type": "code",
   "execution_count": null,
   "metadata": {},
   "outputs": [],
   "source": [
    "epochs = 50"
   ]
  },
  {
   "cell_type": "code",
   "execution_count": 8,
   "metadata": {},
   "outputs": [
    {
     "name": "stdout",
     "output_type": "stream",
     "text": [
      "              precision    recall  f1-score   support\n",
      "\n",
      "           0       1.00      0.99      0.99   9457992\n",
      "           1       0.58      0.99      0.73    175800\n",
      "\n",
      "   micro avg       0.99      0.99      0.99   9633792\n",
      "   macro avg       0.79      0.99      0.86   9633792\n",
      "weighted avg       0.99      0.99      0.99   9633792\n",
      "\n",
      "F1/dice (binary):  0.7346971462772628\n",
      "Jaccard/IOU:  0.5806492446576392\n"
     ]
    }
   ],
   "source": [
    "predict(\n",
    "    path_train_images, path_train_annotations, path_train_predictions,\n",
    "    n_classes, input_width, input_height, \n",
    "    model_name, epochs, loss, optimizer, metrics, \n",
    "    path_save_weights\n",
    ")"
   ]
  },
  {
   "cell_type": "code",
   "execution_count": null,
   "metadata": {},
   "outputs": [],
   "source": [
    "visualize_dataset(\n",
    "    path_train_images, path_train_annotations, \n",
    "    n_classes, n_channel_annotations = n_channel_annotations,\n",
    "    dir_predictions = path_train_predictions\n",
    ")"
   ]
  },
  {
   "cell_type": "code",
   "execution_count": 10,
   "metadata": {},
   "outputs": [
    {
     "name": "stdout",
     "output_type": "stream",
     "text": [
      "              precision    recall  f1-score   support\n",
      "\n",
      "           0       0.99      0.98      0.99    547242\n",
      "           1       0.16      0.36      0.22      4694\n",
      "\n",
      "   micro avg       0.98      0.98      0.98    551936\n",
      "   macro avg       0.58      0.67      0.61    551936\n",
      "weighted avg       0.99      0.98      0.98    551936\n",
      "\n",
      "F1/dice (binary):  0.22288517634579685\n",
      "Jaccard/IOU:  0.12541968216071028\n"
     ]
    }
   ],
   "source": [
    "predict(\n",
    "    path_val_images, path_val_annotations, path_val_predictions,\n",
    "    n_classes, input_width, input_height, \n",
    "    model_name, epochs, loss, optimizer, metrics,\n",
    "    path_save_weights\n",
    ")"
   ]
  },
  {
   "cell_type": "code",
   "execution_count": null,
   "metadata": {},
   "outputs": [],
   "source": [
    "visualize_dataset(\n",
    "    path_val_images, path_val_annotations, \n",
    "    n_classes, n_channel_annotations = n_channel_annotations,\n",
    "    dir_predictions = path_val_predictions\n",
    ")"
   ]
  },
  {
   "cell_type": "code",
   "execution_count": 12,
   "metadata": {},
   "outputs": [
    {
     "name": "stdout",
     "output_type": "stream",
     "text": [
      "              precision    recall  f1-score   support\n",
      "\n",
      "           0       0.99      0.98      0.99    585528\n",
      "           1       0.51      0.68      0.58     16584\n",
      "\n",
      "   micro avg       0.97      0.97      0.97    602112\n",
      "   macro avg       0.75      0.83      0.78    602112\n",
      "weighted avg       0.98      0.97      0.98    602112\n",
      "\n",
      "F1/dice (binary):  0.5833633788308009\n",
      "Jaccard/IOU:  0.41179464805119254\n"
     ]
    }
   ],
   "source": [
    "predict(\n",
    "    path_test_images, path_test_annotations, path_test_predictions,\n",
    "    n_classes, input_width, input_height, \n",
    "    model_name, epochs, loss, optimizer, metrics,\n",
    "    path_save_weights\n",
    ")"
   ]
  },
  {
   "cell_type": "code",
   "execution_count": null,
   "metadata": {},
   "outputs": [],
   "source": [
    "visualize_dataset(\n",
    "    path_test_images, path_test_annotations, \n",
    "    n_classes, n_channel_annotations = n_channel_annotations, \n",
    "    dir_predictions = path_test_predictions\n",
    ")"
   ]
  }
 ],
 "metadata": {
  "kernelspec": {
   "display_name": "Python 3",
   "language": "python",
   "name": "python3"
  },
  "language_info": {
   "codemirror_mode": {
    "name": "ipython",
    "version": 3
   },
   "file_extension": ".py",
   "mimetype": "text/x-python",
   "name": "python",
   "nbconvert_exporter": "python",
   "pygments_lexer": "ipython3",
   "version": "3.6.7"
  }
 },
 "nbformat": 4,
 "nbformat_minor": 2
}
