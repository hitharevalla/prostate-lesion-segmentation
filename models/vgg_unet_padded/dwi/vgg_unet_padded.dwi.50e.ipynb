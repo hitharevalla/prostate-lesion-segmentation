{
 "cells": [
  {
   "cell_type": "code",
   "execution_count": 1,
   "metadata": {},
   "outputs": [
    {
     "name": "stderr",
     "output_type": "stream",
     "text": [
      "Using TensorFlow backend.\n"
     ]
    }
   ],
   "source": [
    "import glob\n",
    "import math\n",
    "import sys\n",
    "import timeit\n",
    "\n",
    "sys.path.insert(0, '../../')\n",
    "from visualize_dataset import *\n",
    "from losses import *\n",
    "from metrics import *\n",
    "from predict import *\n",
    "from train import *\n",
    "from utils import *"
   ]
  },
  {
   "cell_type": "code",
   "execution_count": 2,
   "metadata": {},
   "outputs": [],
   "source": [
    "path_train_images = '../../../data/stanford_dwi_cropped/train/Slice/'\n",
    "path_train_annotations = '../../../data/stanford_dwi_cropped/train/ROI/'\n",
    "path_train_predictions = './predictions.50e/train/'\n",
    "\n",
    "path_val_images = '../../../data/stanford_dwi_cropped/val/Slice/'\n",
    "path_val_annotations = '../../../data/stanford_dwi_cropped/val/ROI/'\n",
    "path_val_predictions = './predictions.50e/val/'\n",
    "\n",
    "path_test_images = '../../../data/stanford_dwi_cropped/test/Slice/'\n",
    "path_test_annotations = '../../../data/stanford_dwi_cropped/test/ROI/'\n",
    "path_test_predictions = './predictions.50e/test/'\n",
    "\n",
    "path_save_weights = './weights.50e/'\n",
    "path_load_weights = None\n",
    "\n",
    "train_vgg = False\n",
    "path_vgg_weights = '../../../data/vgg16_weights_th_dim_ordering_th_kernels.h5'\n",
    "\n",
    "n_classes = 2\n",
    "input_height = 224\n",
    "input_width = 224\n",
    "n_channel_annotations = 1"
   ]
  },
  {
   "cell_type": "code",
   "execution_count": 3,
   "metadata": {},
   "outputs": [
    {
     "name": "stdout",
     "output_type": "stream",
     "text": [
      "Number train images:  192\n",
      "Number val images:  11\n",
      "Number test images:  12\n"
     ]
    }
   ],
   "source": [
    "print('Number train images: ', len(glob.glob(path_train_images + '*.png')))\n",
    "print('Number val images: ', len(glob.glob(path_val_images + '*.png')))\n",
    "print('Number test images: ', len(glob.glob(path_test_images + '*.png')))"
   ]
  },
  {
   "cell_type": "code",
   "execution_count": 4,
   "metadata": {},
   "outputs": [],
   "source": [
    "model_name = 'vgg_unet_padded'\n",
    "epochs = 50\n",
    "train_batch_size = 8\n",
    "val_batch_size = len(glob.glob(path_val_images + '*.png'))"
   ]
  },
  {
   "cell_type": "code",
   "execution_count": 5,
   "metadata": {},
   "outputs": [
    {
     "name": "stdout",
     "output_type": "stream",
     "text": [
      "[0.98215531 0.01784469]\n",
      "[ 1.         55.03908977]\n",
      "[0.01800582 4.02604948]\n"
     ]
    }
   ],
   "source": [
    "optimizer = 'adadelta'\n",
    "metrics = ['accuracy', dice, iou]\n",
    "\n",
    "class_props = calc_class_proportions(path_train_annotations, n_classes, n_channel_annotations)\n",
    "class_weights = calc_class_weights(path_train_annotations, n_classes, n_channel_annotations)\n",
    "class_weights_log = calc_class_weights(path_train_annotations, n_classes, n_channel_annotations, scale = 'log')\n",
    "\n",
    "print(class_props)\n",
    "print(class_weights)\n",
    "print(class_weights_log)\n",
    "\n",
    "loss = weighted_categorical_crossentropy_loss(class_weights_log)"
   ]
  },
  {
   "cell_type": "code",
   "execution_count": 6,
   "metadata": {},
   "outputs": [
    {
     "name": "stdout",
     "output_type": "stream",
     "text": [
      "Model output shape (None, 50176, 2)\n",
      "Epoch 0\n",
      "Epoch 1/1\n",
      "24/24 [==============================] - 833s 35s/step - loss: 0.0493 - acc: 0.0712 - dice: 0.0368 - iou: 0.0188 - val_loss: 0.0304 - val_acc: 0.0074 - val_dice: 0.0146 - val_iou: 0.0073\n",
      "Epoch 1\n",
      "Epoch 1/1\n",
      "24/24 [==============================] - 832s 35s/step - loss: 0.0420 - acc: 0.0178 - dice: 0.0350 - iou: 0.0178 - val_loss: 0.0235 - val_acc: 0.0101 - val_dice: 0.0146 - val_iou: 0.0074\n",
      "Epoch 2\n",
      "Epoch 1/1\n",
      "24/24 [==============================] - 831s 35s/step - loss: 0.0320 - acc: 0.3624 - dice: 0.0710 - iou: 0.0375 - val_loss: 0.0197 - val_acc: 0.5947 - val_dice: 0.0350 - val_iou: 0.0178\n",
      "Epoch 3\n",
      "Epoch 1/1\n",
      "24/24 [==============================] - 829s 35s/step - loss: 0.0245 - acc: 0.6442 - dice: 0.1019 - iou: 0.0541 - val_loss: 0.0147 - val_acc: 0.7277 - val_dice: 0.0508 - val_iou: 0.0261\n",
      "Epoch 4\n",
      "Epoch 1/1\n",
      "24/24 [==============================] - 830s 35s/step - loss: 0.0255 - acc: 0.6189 - dice: 0.1059 - iou: 0.0569 - val_loss: 0.0159 - val_acc: 0.6854 - val_dice: 0.0446 - val_iou: 0.0228\n",
      "Epoch 5\n",
      "Epoch 1/1\n",
      "24/24 [==============================] - 835s 35s/step - loss: 0.0174 - acc: 0.7374 - dice: 0.1276 - iou: 0.0687 - val_loss: 0.0109 - val_acc: 0.7939 - val_dice: 0.0663 - val_iou: 0.0343\n",
      "Epoch 6\n",
      "Epoch 1/1\n",
      "24/24 [==============================] - 836s 35s/step - loss: 0.0149 - acc: 0.8007 - dice: 0.1565 - iou: 0.0854 - val_loss: 0.0100 - val_acc: 0.8469 - val_dice: 0.0862 - val_iou: 0.0450\n",
      "Epoch 7\n",
      "Epoch 1/1\n",
      "24/24 [==============================] - 832s 35s/step - loss: 0.0171 - acc: 0.7617 - dice: 0.1531 - iou: 0.0838 - val_loss: 0.0113 - val_acc: 0.8065 - val_dice: 0.0706 - val_iou: 0.0366\n",
      "Epoch 8\n",
      "Epoch 1/1\n",
      "24/24 [==============================] - 831s 35s/step - loss: 0.0180 - acc: 0.7299 - dice: 0.1395 - iou: 0.0760 - val_loss: 0.0215 - val_acc: 0.6695 - val_dice: 0.0426 - val_iou: 0.0217\n",
      "Epoch 9\n",
      "Epoch 1/1\n",
      "24/24 [==============================] - 826s 34s/step - loss: 0.0121 - acc: 0.8258 - dice: 0.1768 - iou: 0.0977 - val_loss: 0.0115 - val_acc: 0.8645 - val_dice: 0.0918 - val_iou: 0.0481\n",
      "Epoch 10\n",
      "Epoch 1/1\n",
      "24/24 [==============================] - 830s 35s/step - loss: 0.0146 - acc: 0.8169 - dice: 0.1779 - iou: 0.0990 - val_loss: 0.0193 - val_acc: 0.8921 - val_dice: 0.1061 - val_iou: 0.0560\n",
      "Epoch 11\n",
      "Epoch 1/1\n",
      "24/24 [==============================] - 833s 35s/step - loss: 0.0131 - acc: 0.8095 - dice: 0.1819 - iou: 0.1017 - val_loss: 0.0103 - val_acc: 0.8222 - val_dice: 0.0762 - val_iou: 0.0396\n",
      "Epoch 12\n",
      "Epoch 1/1\n",
      "24/24 [==============================] - 831s 35s/step - loss: 0.0112 - acc: 0.8548 - dice: 0.2115 - iou: 0.1198 - val_loss: 0.0096 - val_acc: 0.8247 - val_dice: 0.0773 - val_iou: 0.0402\n",
      "Epoch 13\n",
      "Epoch 1/1\n",
      "24/24 [==============================] - 831s 35s/step - loss: 0.0161 - acc: 0.7952 - dice: 0.1981 - iou: 0.1138 - val_loss: 0.0106 - val_acc: 0.8026 - val_dice: 0.0693 - val_iou: 0.0359\n",
      "Epoch 14\n",
      "Epoch 1/1\n",
      "24/24 [==============================] - 829s 35s/step - loss: 0.0085 - acc: 0.8924 - dice: 0.2594 - iou: 0.1506 - val_loss: 0.0093 - val_acc: 0.8527 - val_dice: 0.0898 - val_iou: 0.0470\n",
      "Epoch 15\n",
      "Epoch 1/1\n",
      "24/24 [==============================] - 834s 35s/step - loss: 0.0089 - acc: 0.8805 - dice: 0.2686 - iou: 0.1585 - val_loss: 0.0206 - val_acc: 0.9150 - val_dice: 0.1375 - val_iou: 0.0738\n",
      "Epoch 16\n",
      "Epoch 1/1\n",
      "24/24 [==============================] - 835s 35s/step - loss: 0.0101 - acc: 0.8671 - dice: 0.2588 - iou: 0.1535 - val_loss: 0.0134 - val_acc: 0.8955 - val_dice: 0.1169 - val_iou: 0.0621\n",
      "Epoch 17\n",
      "Epoch 1/1\n",
      "24/24 [==============================] - 833s 35s/step - loss: 0.0139 - acc: 0.8111 - dice: 0.1967 - iou: 0.1120 - val_loss: 0.0137 - val_acc: 0.9021 - val_dice: 0.1141 - val_iou: 0.0605\n",
      "Epoch 18\n",
      "Epoch 1/1\n",
      "24/24 [==============================] - 832s 35s/step - loss: 0.0079 - acc: 0.8983 - dice: 0.2774 - iou: 0.1637 - val_loss: 0.0127 - val_acc: 0.8966 - val_dice: 0.1109 - val_iou: 0.0587\n",
      "Epoch 19\n",
      "Epoch 1/1\n",
      "24/24 [==============================] - 835s 35s/step - loss: 0.0073 - acc: 0.9165 - dice: 0.3344 - iou: 0.2061 - val_loss: 0.0117 - val_acc: 0.9127 - val_dice: 0.1304 - val_iou: 0.0697\n",
      "Epoch 20\n",
      "Epoch 1/1\n",
      "24/24 [==============================] - 830s 35s/step - loss: 0.0068 - acc: 0.9330 - dice: 0.3568 - iou: 0.2205 - val_loss: 0.0460 - val_acc: 0.9270 - val_dice: 0.1440 - val_iou: 0.0776\n",
      "Epoch 21\n",
      "Epoch 1/1\n",
      "24/24 [==============================] - 831s 35s/step - loss: 0.0064 - acc: 0.9316 - dice: 0.3724 - iou: 0.2329 - val_loss: 0.0458 - val_acc: 0.9307 - val_dice: 0.1514 - val_iou: 0.0819\n",
      "Epoch 22\n",
      "Epoch 1/1\n",
      "24/24 [==============================] - 833s 35s/step - loss: 0.0071 - acc: 0.9100 - dice: 0.3596 - iou: 0.2286 - val_loss: 0.0125 - val_acc: 0.9146 - val_dice: 0.1353 - val_iou: 0.0725\n",
      "Epoch 23\n",
      "Epoch 1/1\n",
      "24/24 [==============================] - 828s 35s/step - loss: 0.0045 - acc: 0.9481 - dice: 0.4180 - iou: 0.2672 - val_loss: 0.0936 - val_acc: 0.9477 - val_dice: 0.1607 - val_iou: 0.0874\n",
      "Epoch 24\n",
      "Epoch 1/1\n",
      "24/24 [==============================] - 832s 35s/step - loss: 0.0058 - acc: 0.9343 - dice: 0.3959 - iou: 0.2539 - val_loss: 0.0256 - val_acc: 0.9190 - val_dice: 0.1326 - val_iou: 0.0710\n",
      "Epoch 25\n",
      "Epoch 1/1\n",
      "24/24 [==============================] - 831s 35s/step - loss: 0.0040 - acc: 0.9550 - dice: 0.4545 - iou: 0.2986 - val_loss: 0.1202 - val_acc: 0.9500 - val_dice: 0.1578 - val_iou: 0.0857\n",
      "Epoch 26\n",
      "Epoch 1/1\n",
      "24/24 [==============================] - 828s 34s/step - loss: 0.0062 - acc: 0.9356 - dice: 0.4137 - iou: 0.2698 - val_loss: 0.0570 - val_acc: 0.9319 - val_dice: 0.1412 - val_iou: 0.0760\n",
      "Epoch 27\n",
      "Epoch 1/1\n",
      "24/24 [==============================] - 829s 35s/step - loss: 0.0052 - acc: 0.9542 - dice: 0.4675 - iou: 0.3126 - val_loss: 0.1086 - val_acc: 0.9462 - val_dice: 0.1620 - val_iou: 0.0881\n",
      "Epoch 28\n",
      "Epoch 1/1\n",
      "24/24 [==============================] - 830s 35s/step - loss: 0.0040 - acc: 0.9572 - dice: 0.4879 - iou: 0.3301 - val_loss: 0.1103 - val_acc: 0.9384 - val_dice: 0.1424 - val_iou: 0.0767\n",
      "Epoch 29\n",
      "Epoch 1/1\n",
      "24/24 [==============================] - 828s 34s/step - loss: 0.0037 - acc: 0.9645 - dice: 0.5234 - iou: 0.3602 - val_loss: 0.1011 - val_acc: 0.9416 - val_dice: 0.1467 - val_iou: 0.0791\n",
      "Epoch 30\n",
      "Epoch 1/1\n",
      "24/24 [==============================] - 831s 35s/step - loss: 0.0063 - acc: 0.9494 - dice: 0.4653 - iou: 0.3113 - val_loss: 0.1154 - val_acc: 0.9454 - val_dice: 0.1514 - val_iou: 0.0819\n",
      "Epoch 31\n",
      "Epoch 1/1\n",
      "24/24 [==============================] - 830s 35s/step - loss: 0.0038 - acc: 0.9616 - dice: 0.5185 - iou: 0.3589 - val_loss: 0.0106 - val_acc: 0.8963 - val_dice: 0.1200 - val_iou: 0.0638\n",
      "Epoch 32\n",
      "Epoch 1/1\n",
      "24/24 [==============================] - 830s 35s/step - loss: 0.0033 - acc: 0.9642 - dice: 0.5284 - iou: 0.3672 - val_loss: 0.1428 - val_acc: 0.9527 - val_dice: 0.1542 - val_iou: 0.0835\n",
      "Epoch 33\n",
      "Epoch 1/1\n",
      "24/24 [==============================] - 834s 35s/step - loss: 0.0045 - acc: 0.9595 - dice: 0.5259 - iou: 0.3690 - val_loss: 0.1137 - val_acc: 0.9476 - val_dice: 0.1389 - val_iou: 0.0747\n",
      "Epoch 34\n",
      "Epoch 1/1\n",
      "24/24 [==============================] - 832s 35s/step - loss: 0.0042 - acc: 0.9745 - dice: 0.5839 - iou: 0.4168 - val_loss: 0.0382 - val_acc: 0.6049 - val_dice: 0.0359 - val_iou: 0.0183\n",
      "Epoch 35\n",
      "Epoch 1/1\n",
      "24/24 [==============================] - 829s 35s/step - loss: 0.0098 - acc: 0.8793 - dice: 0.2764 - iou: 0.1639 - val_loss: 0.0178 - val_acc: 0.9283 - val_dice: 0.1516 - val_iou: 0.0820\n",
      "Epoch 36\n",
      "Epoch 1/1\n",
      "24/24 [==============================] - 828s 34s/step - loss: 0.0031 - acc: 0.9684 - dice: 0.5333 - iou: 0.3687 - val_loss: 0.0606 - val_acc: 0.9361 - val_dice: 0.1480 - val_iou: 0.0799\n",
      "Epoch 37\n",
      "Epoch 1/1\n",
      "24/24 [==============================] - 834s 35s/step - loss: 0.0027 - acc: 0.9695 - dice: 0.5509 - iou: 0.3876 - val_loss: 0.1787 - val_acc: 0.9641 - val_dice: 0.1816 - val_iou: 0.0999\n",
      "Epoch 38\n",
      "Epoch 1/1\n",
      "24/24 [==============================] - 833s 35s/step - loss: 0.0032 - acc: 0.9682 - dice: 0.5764 - iou: 0.4201 - val_loss: 0.1349 - val_acc: 0.9491 - val_dice: 0.1497 - val_iou: 0.0809\n",
      "Epoch 39\n",
      "Epoch 1/1\n",
      "24/24 [==============================] - 832s 35s/step - loss: 0.0030 - acc: 0.9748 - dice: 0.6042 - iou: 0.4392 - val_loss: 0.1580 - val_acc: 0.9574 - val_dice: 0.1661 - val_iou: 0.0906\n"
     ]
    },
    {
     "name": "stdout",
     "output_type": "stream",
     "text": [
      "Epoch 40\n",
      "Epoch 1/1\n",
      "24/24 [==============================] - 826s 34s/step - loss: 0.0024 - acc: 0.9772 - dice: 0.6317 - iou: 0.4693 - val_loss: 0.0111 - val_acc: 0.8377 - val_dice: 0.0830 - val_iou: 0.0433\n",
      "Epoch 41\n",
      "Epoch 1/1\n",
      "24/24 [==============================] - 827s 34s/step - loss: 0.0028 - acc: 0.9665 - dice: 0.5703 - iou: 0.4111 - val_loss: 0.1085 - val_acc: 0.9323 - val_dice: 0.1333 - val_iou: 0.0714\n",
      "Epoch 42\n",
      "Epoch 1/1\n",
      "24/24 [==============================] - 826s 34s/step - loss: 0.0021 - acc: 0.9779 - dice: 0.6198 - iou: 0.4528 - val_loss: 0.2099 - val_acc: 0.9648 - val_dice: 0.1718 - val_iou: 0.0940\n",
      "Epoch 43\n",
      "Epoch 1/1\n",
      "24/24 [==============================] - 832s 35s/step - loss: 0.0029 - acc: 0.9722 - dice: 0.5969 - iou: 0.4373 - val_loss: 0.2218 - val_acc: 0.9714 - val_dice: 0.1831 - val_iou: 0.1008\n",
      "Epoch 44\n",
      "Epoch 1/1\n",
      "24/24 [==============================] - 831s 35s/step - loss: 0.0027 - acc: 0.9746 - dice: 0.6216 - iou: 0.4640 - val_loss: 0.2091 - val_acc: 0.9680 - val_dice: 0.1798 - val_iou: 0.0988\n",
      "Epoch 45\n",
      "Epoch 1/1\n",
      "24/24 [==============================] - 827s 34s/step - loss: 0.0022 - acc: 0.9810 - dice: 0.6651 - iou: 0.5037 - val_loss: 0.1578 - val_acc: 0.9509 - val_dice: 0.1541 - val_iou: 0.0835\n",
      "Epoch 46\n",
      "Epoch 1/1\n",
      "24/24 [==============================] - 829s 35s/step - loss: 0.0029 - acc: 0.9742 - dice: 0.6083 - iou: 0.4456 - val_loss: 0.2552 - val_acc: 0.9730 - val_dice: 0.1737 - val_iou: 0.0951\n",
      "Epoch 47\n",
      "Epoch 1/1\n",
      "24/24 [==============================] - 826s 34s/step - loss: 0.0021 - acc: 0.9793 - dice: 0.6547 - iou: 0.4952 - val_loss: 0.2463 - val_acc: 0.9658 - val_dice: 0.1514 - val_iou: 0.0819\n",
      "Epoch 48\n",
      "Epoch 1/1\n",
      "24/24 [==============================] - 829s 35s/step - loss: 0.0021 - acc: 0.9797 - dice: 0.6545 - iou: 0.4939 - val_loss: 0.2300 - val_acc: 0.9668 - val_dice: 0.1647 - val_iou: 0.0897\n",
      "Epoch 49\n",
      "Epoch 1/1\n",
      "24/24 [==============================] - 829s 35s/step - loss: 0.0049 - acc: 0.9621 - dice: 0.5757 - iou: 0.4211 - val_loss: 0.2285 - val_acc: 0.9654 - val_dice: 0.1562 - val_iou: 0.0847\n"
     ]
    },
    {
     "data": {
      "image/png": "[encoded data removed]",
      "text/plain": [
       "<Figure size 432x288 with 1 Axes>"
      ]
     },
     "metadata": {
      "needs_background": "light"
     },
     "output_type": "display_data"
    },
    {
     "data": {
      "image/png": "[encoded data removed]",
      "text/plain": [
       "<Figure size 432x288 with 1 Axes>"
      ]
     },
     "metadata": {
      "needs_background": "light"
     },
     "output_type": "display_data"
    }
   ],
   "source": [
    "start = timeit.default_timer()\n",
    "train(\n",
    "    path_train_images, path_train_annotations, train_batch_size, \n",
    "    path_val_images, path_val_annotations, val_batch_size,\n",
    "    n_classes, input_width, input_height, \n",
    "    model_name, epochs, loss, optimizer, metrics,\n",
    "    path_save_weights, path_vgg_weights = path_vgg_weights, train_vgg = train_vgg, path_load_weights = None\n",
    ")\n",
    "end = timeit.default_timer()"
   ]
  },
  {
   "cell_type": "code",
   "execution_count": 7,
   "metadata": {},
   "outputs": [
    {
     "name": "stdout",
     "output_type": "stream",
     "text": [
      "Total training time:  41574.529055641\n"
     ]
    }
   ],
   "source": [
    "print('Total training time: ', end - start)"
   ]
  },
  {
   "cell_type": "code",
   "execution_count": 14,
   "metadata": {},
   "outputs": [],
   "source": [
    "epochs = 43"
   ]
  },
  {
   "cell_type": "code",
   "execution_count": 15,
   "metadata": {},
   "outputs": [
    {
     "name": "stdout",
     "output_type": "stream",
     "text": [
      "              precision    recall  f1-score   support\n",
      "\n",
      "           0       1.00      0.98      0.99   9461880\n",
      "           1       0.51      1.00      0.67    171912\n",
      "\n",
      "   micro avg       0.98      0.98      0.98   9633792\n",
      "   macro avg       0.75      0.99      0.83   9633792\n",
      "weighted avg       0.99      0.98      0.99   9633792\n",
      "\n",
      "F1/dice (binary):  0.6734038260378999\n",
      "Jaccard/IOU:  0.5076177960220309\n"
     ]
    }
   ],
   "source": [
    "predict(\n",
    "    path_train_images, path_train_annotations, path_train_predictions,\n",
    "    n_classes, input_width, input_height, \n",
    "    model_name, epochs, loss, optimizer, metrics, \n",
    "    path_save_weights\n",
    ")"
   ]
  },
  {
   "cell_type": "code",
   "execution_count": null,
   "metadata": {},
   "outputs": [],
   "source": [
    "visualize_dataset(\n",
    "    path_train_images, path_train_annotations, \n",
    "    n_classes, n_channel_annotations = n_channel_annotations,\n",
    "    dir_predictions = path_train_predictions\n",
    ")"
   ]
  },
  {
   "cell_type": "code",
   "execution_count": 17,
   "metadata": {},
   "outputs": [
    {
     "name": "stdout",
     "output_type": "stream",
     "text": [
      "              precision    recall  f1-score   support\n",
      "\n",
      "           0       1.00      0.97      0.98    547881\n",
      "           1       0.10      0.50      0.17      4055\n",
      "\n",
      "   micro avg       0.96      0.96      0.96    551936\n",
      "   macro avg       0.55      0.73      0.58    551936\n",
      "weighted avg       0.99      0.96      0.98    551936\n",
      "\n",
      "F1/dice (binary):  0.17178907881836397\n",
      "Jaccard/IOU:  0.09396567804514083\n"
     ]
    }
   ],
   "source": [
    "predict(\n",
    "    path_val_images, path_val_annotations, path_val_predictions,\n",
    "    n_classes, input_width, input_height, \n",
    "    model_name, epochs, loss, optimizer, metrics,\n",
    "    path_save_weights\n",
    ")"
   ]
  },
  {
   "cell_type": "code",
   "execution_count": null,
   "metadata": {},
   "outputs": [],
   "source": [
    "visualize_dataset(\n",
    "    path_val_images, path_val_annotations, \n",
    "    n_classes, n_channel_annotations = n_channel_annotations,\n",
    "    dir_predictions = path_val_predictions\n",
    ")"
   ]
  },
  {
   "cell_type": "code",
   "execution_count": 19,
   "metadata": {},
   "outputs": [
    {
     "name": "stdout",
     "output_type": "stream",
     "text": [
      "              precision    recall  f1-score   support\n",
      "\n",
      "           0       0.99      0.97      0.98    586517\n",
      "           1       0.37      0.72      0.49     15595\n",
      "\n",
      "   micro avg       0.96      0.96      0.96    602112\n",
      "   macro avg       0.68      0.85      0.73    602112\n",
      "weighted avg       0.98      0.96      0.97    602112\n",
      "\n",
      "F1/dice (binary):  0.4877132368818829\n",
      "Jaccard/IOU:  0.32250049975726075\n"
     ]
    }
   ],
   "source": [
    "predict(\n",
    "    path_test_images, path_test_annotations, path_test_predictions,\n",
    "    n_classes, input_width, input_height, \n",
    "    model_name, epochs, loss, optimizer, metrics,\n",
    "    path_save_weights\n",
    ")"
   ]
  },
  {
   "cell_type": "code",
   "execution_count": null,
   "metadata": {},
   "outputs": [],
   "source": [
    "visualize_dataset(\n",
    "    path_test_images, path_test_annotations, \n",
    "    n_classes, n_channel_annotations = n_channel_annotations, \n",
    "    dir_predictions = path_test_predictions\n",
    ")"
   ]
  }
 ],
 "metadata": {
  "kernelspec": {
   "display_name": "Python 3",
   "language": "python",
   "name": "python3"
  },
  "language_info": {
   "codemirror_mode": {
    "name": "ipython",
    "version": 3
   },
   "file_extension": ".py",
   "mimetype": "text/x-python",
   "name": "python",
   "nbconvert_exporter": "python",
   "pygments_lexer": "ipython3",
   "version": "3.6.7"
  }
 },
 "nbformat": 4,
 "nbformat_minor": 2
}
