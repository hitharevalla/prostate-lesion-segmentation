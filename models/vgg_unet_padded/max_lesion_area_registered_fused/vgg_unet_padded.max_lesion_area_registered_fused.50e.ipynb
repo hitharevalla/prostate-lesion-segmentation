{
 "cells": [
  {
   "cell_type": "code",
   "execution_count": 1,
   "metadata": {},
   "outputs": [
    {
     "name": "stderr",
     "output_type": "stream",
     "text": [
      "Using TensorFlow backend.\n"
     ]
    }
   ],
   "source": [
    "import glob\n",
    "import math\n",
    "import sys\n",
    "import timeit\n",
    "\n",
    "sys.path.insert(0, '../../')\n",
    "from visualize_dataset import *\n",
    "from losses import *\n",
    "from metrics import *\n",
    "from predict import *\n",
    "from train import *\n",
    "from utils import *"
   ]
  },
  {
   "cell_type": "code",
   "execution_count": 2,
   "metadata": {},
   "outputs": [],
   "source": [
    "path_train_images = '../../../data/stanford_max_lesion_area_registered_fused_cropped/train/Slice/'\n",
    "path_train_annotations = '../../../data/stanford_max_lesion_area_registered_fused_cropped/train/ROI/'\n",
    "path_train_predictions = './predictions.50e/train/'\n",
    "\n",
    "path_val_images = '../../../data/stanford_max_lesion_area_registered_fused_cropped/val/Slice/'\n",
    "path_val_annotations = '../../../data/stanford_max_lesion_area_registered_fused_cropped/val/ROI/'\n",
    "path_val_predictions = './predictions.50e/val/'\n",
    "\n",
    "path_test_images = '../../../data/stanford_max_lesion_area_registered_fused_cropped/test/Slice/'\n",
    "path_test_annotations = '../../../data/stanford_max_lesion_area_registered_fused_cropped/test/ROI/'\n",
    "path_test_predictions = './predictions.50e/test/'\n",
    "\n",
    "path_save_weights = './weights.50e/'\n",
    "path_load_weights = None\n",
    "\n",
    "train_vgg = False\n",
    "path_vgg_weights = '../../../data/vgg16_weights_th_dim_ordering_th_kernels.h5'\n",
    "\n",
    "n_classes = 2\n",
    "input_height = 224\n",
    "input_width = 224\n",
    "n_channel_annotations = 1"
   ]
  },
  {
   "cell_type": "code",
   "execution_count": 3,
   "metadata": {},
   "outputs": [
    {
     "name": "stdout",
     "output_type": "stream",
     "text": [
      "Number train images:  376\n",
      "Number val images:  15\n",
      "Number test images:  14\n"
     ]
    }
   ],
   "source": [
    "print('Number train images: ', len(glob.glob(path_train_images + '*.png')))\n",
    "print('Number val images: ', len(glob.glob(path_val_images + '*.png')))\n",
    "print('Number test images: ', len(glob.glob(path_test_images + '*.png')))"
   ]
  },
  {
   "cell_type": "code",
   "execution_count": 4,
   "metadata": {},
   "outputs": [],
   "source": [
    "model_name = 'vgg_unet_padded'\n",
    "epochs = 50\n",
    "train_batch_size = 8\n",
    "val_batch_size = len(glob.glob(path_val_images + '*.png'))"
   ]
  },
  {
   "cell_type": "code",
   "execution_count": 5,
   "metadata": {},
   "outputs": [
    {
     "name": "stdout",
     "output_type": "stream",
     "text": [
      "[0.97276311 0.02723689]\n",
      "[ 1.         35.71490846]\n",
      "[0.02761469 3.6031829 ]\n"
     ]
    }
   ],
   "source": [
    "optimizer = 'adadelta'\n",
    "metrics = ['accuracy', dice, iou]\n",
    "\n",
    "class_props = calc_class_proportions(path_train_annotations, n_classes, n_channel_annotations)\n",
    "class_weights = calc_class_weights(path_train_annotations, n_classes, n_channel_annotations)\n",
    "class_weights_log = calc_class_weights(path_train_annotations, n_classes, n_channel_annotations, scale = 'log')\n",
    "\n",
    "print(class_props)\n",
    "print(class_weights)\n",
    "print(class_weights_log)\n",
    "\n",
    "loss = weighted_categorical_crossentropy_loss(class_weights_log)"
   ]
  },
  {
   "cell_type": "code",
   "execution_count": 6,
   "metadata": {},
   "outputs": [
    {
     "name": "stdout",
     "output_type": "stream",
     "text": [
      "Model output shape (None, 50176, 2)\n",
      "Epoch 0\n",
      "Epoch 1/1\n",
      "47/47 [==============================] - 519s 11s/step - loss: 0.0620 - acc: 0.8286 - dice: 0.0045 - iou: 0.0023 - val_loss: 0.0390 - val_acc: 0.1923 - val_dice: 0.0060 - val_iou: 0.0030\n",
      "Epoch 1\n",
      "Epoch 1/1\n",
      "47/47 [==============================] - 1183s 25s/step - loss: 0.0464 - acc: 0.5160 - dice: 0.0028 - iou: 0.0014 - val_loss: 0.0359 - val_acc: 0.3195 - val_dice: 0.0047 - val_iou: 0.0024\n",
      "Epoch 2\n",
      "Epoch 1/1\n",
      "47/47 [==============================] - 1602s 34s/step - loss: 0.0374 - acc: 0.4021 - dice: 0.0038 - iou: 0.0019 - val_loss: 0.0421 - val_acc: 0.7192 - val_dice: 1.7031e-04 - val_iou: 8.5164e-05\n",
      "Epoch 3\n",
      "Epoch 1/1\n",
      "47/47 [==============================] - 1615s 34s/step - loss: 0.0318 - acc: 0.2981 - dice: 0.0032 - iou: 0.0016 - val_loss: 0.0371 - val_acc: 0.1686 - val_dice: 0.0093 - val_iou: 0.0047\n",
      "Epoch 4\n",
      "Epoch 1/1\n",
      "47/47 [==============================] - 1604s 34s/step - loss: 0.0307 - acc: 0.2821 - dice: 0.0028 - iou: 0.0014 - val_loss: 0.0399 - val_acc: 0.1527 - val_dice: 0.0098 - val_iou: 0.0049\n",
      "Epoch 5\n",
      "Epoch 1/1\n",
      "47/47 [==============================] - 1605s 34s/step - loss: 0.0294 - acc: 0.2816 - dice: 0.0025 - iou: 0.0012 - val_loss: 0.0350 - val_acc: 0.2722 - val_dice: 0.0035 - val_iou: 0.0017\n",
      "Epoch 6\n",
      "Epoch 1/1\n",
      "47/47 [==============================] - 1610s 34s/step - loss: 0.0274 - acc: 0.2503 - dice: 0.0025 - iou: 0.0012 - val_loss: 0.0392 - val_acc: 0.1594 - val_dice: 0.0099 - val_iou: 0.0050\n",
      "Epoch 7\n",
      "Epoch 1/1\n",
      "47/47 [==============================] - 1613s 34s/step - loss: 0.0281 - acc: 0.2541 - dice: 0.0024 - iou: 0.0012 - val_loss: 0.0351 - val_acc: 0.5839 - val_dice: 7.9758e-04 - val_iou: 3.9895e-04\n",
      "Epoch 8\n",
      "Epoch 1/1\n",
      "47/47 [==============================] - 1609s 34s/step - loss: 0.0264 - acc: 0.2510 - dice: 0.0021 - iou: 0.0010 - val_loss: 0.0323 - val_acc: 0.4088 - val_dice: 0.0018 - val_iou: 9.1841e-04\n",
      "Epoch 9\n",
      "Epoch 1/1\n",
      "47/47 [==============================] - 1611s 34s/step - loss: 0.0244 - acc: 0.2278 - dice: 0.0020 - iou: 9.9438e-04 - val_loss: 0.0329 - val_acc: 0.2436 - val_dice: 0.0045 - val_iou: 0.0023\n",
      "Epoch 10\n",
      "Epoch 1/1\n",
      "47/47 [==============================] - 1608s 34s/step - loss: 0.0247 - acc: 0.2313 - dice: 0.0020 - iou: 9.7921e-04 - val_loss: 0.0307 - val_acc: 0.2464 - val_dice: 0.0038 - val_iou: 0.0019\n",
      "Epoch 11\n",
      "Epoch 1/1\n",
      "47/47 [==============================] - 1610s 34s/step - loss: 0.0237 - acc: 0.2255 - dice: 0.0018 - iou: 8.8354e-04 - val_loss: 0.0458 - val_acc: 0.1331 - val_dice: 0.0092 - val_iou: 0.0046\n",
      "Epoch 12\n",
      "Epoch 1/1\n",
      "47/47 [==============================] - 1614s 34s/step - loss: 0.0237 - acc: 0.2309 - dice: 0.0019 - iou: 9.3444e-04 - val_loss: 0.0343 - val_acc: 0.1757 - val_dice: 0.0044 - val_iou: 0.0022\n",
      "Epoch 13\n",
      "Epoch 1/1\n",
      "47/47 [==============================] - 1612s 34s/step - loss: 0.0215 - acc: 0.2025 - dice: 0.0016 - iou: 8.2159e-04 - val_loss: 0.0349 - val_acc: 0.5702 - val_dice: 0.0010 - val_iou: 5.2527e-04\n",
      "Epoch 14\n",
      "Epoch 1/1\n",
      "47/47 [==============================] - 1611s 34s/step - loss: 0.0227 - acc: 0.2305 - dice: 0.0016 - iou: 8.2060e-04 - val_loss: 0.0391 - val_acc: 0.1742 - val_dice: 0.0054 - val_iou: 0.0027\n",
      "Epoch 15\n",
      "Epoch 1/1\n",
      "47/47 [==============================] - 1609s 34s/step - loss: 0.0208 - acc: 0.1949 - dice: 0.0015 - iou: 7.4492e-04 - val_loss: 0.0426 - val_acc: 0.1561 - val_dice: 0.0080 - val_iou: 0.0040\n",
      "Epoch 16\n",
      "Epoch 1/1\n",
      "47/47 [==============================] - 1612s 34s/step - loss: 0.0224 - acc: 0.2093 - dice: 0.0016 - iou: 8.1347e-04 - val_loss: 0.1251 - val_acc: 0.1171 - val_dice: 0.0122 - val_iou: 0.0061\n",
      "Epoch 17\n",
      "Epoch 1/1\n",
      "47/47 [==============================] - 1610s 34s/step - loss: 0.0188 - acc: 0.1828 - dice: 0.0013 - iou: 6.5551e-04 - val_loss: 0.1088 - val_acc: 0.1324 - val_dice: 0.0107 - val_iou: 0.0054\n",
      "Epoch 18\n",
      "Epoch 1/1\n",
      "47/47 [==============================] - 1614s 34s/step - loss: 0.0185 - acc: 0.1806 - dice: 0.0012 - iou: 5.9357e-04 - val_loss: 0.0973 - val_acc: 0.1192 - val_dice: 0.0119 - val_iou: 0.0060\n",
      "Epoch 19\n",
      "Epoch 1/1\n",
      "47/47 [==============================] - 1605s 34s/step - loss: 0.0187 - acc: 0.1770 - dice: 0.0012 - iou: 5.9456e-04 - val_loss: 0.1016 - val_acc: 0.1073 - val_dice: 0.0130 - val_iou: 0.0065\n",
      "Epoch 20\n",
      "Epoch 1/1\n",
      "47/47 [==============================] - 1612s 34s/step - loss: 0.0175 - acc: 0.1728 - dice: 0.0010 - iou: 5.0498e-04 - val_loss: 0.1180 - val_acc: 0.1250 - val_dice: 0.0124 - val_iou: 0.0062\n",
      "Epoch 21\n",
      "Epoch 1/1\n",
      "47/47 [==============================] - 1611s 34s/step - loss: 0.0179 - acc: 0.1818 - dice: 8.2417e-04 - iou: 4.1260e-04 - val_loss: 0.1343 - val_acc: 0.1112 - val_dice: 0.0120 - val_iou: 0.0061\n",
      "Epoch 22\n",
      "Epoch 1/1\n",
      "47/47 [==============================] - 1620s 34s/step - loss: 0.0168 - acc: 0.1677 - dice: 9.1166e-04 - iou: 4.5644e-04 - val_loss: 0.1999 - val_acc: 0.1006 - val_dice: 0.0130 - val_iou: 0.0066\n",
      "Epoch 23\n",
      "Epoch 1/1\n",
      "47/47 [==============================] - 1607s 34s/step - loss: 0.0151 - acc: 0.1441 - dice: 7.4045e-04 - iou: 3.7057e-04 - val_loss: 0.0961 - val_acc: 0.1526 - val_dice: 0.0106 - val_iou: 0.0053\n",
      "Epoch 24\n",
      "Epoch 1/1\n",
      "47/47 [==============================] - 1611s 34s/step - loss: 0.0174 - acc: 0.1722 - dice: 7.5955e-04 - iou: 3.8024e-04 - val_loss: 0.0850 - val_acc: 0.1599 - val_dice: 0.0088 - val_iou: 0.0044\n",
      "Epoch 25\n",
      "Epoch 1/1\n",
      "47/47 [==============================] - 1614s 34s/step - loss: 0.0130 - acc: 0.1235 - dice: 5.9057e-04 - iou: 2.9546e-04 - val_loss: 0.0827 - val_acc: 0.1678 - val_dice: 0.0094 - val_iou: 0.0047\n",
      "Epoch 26\n",
      "Epoch 1/1\n",
      "47/47 [==============================] - 1617s 34s/step - loss: 0.0149 - acc: 0.1420 - dice: 5.5663e-04 - iou: 2.7860e-04 - val_loss: 0.2704 - val_acc: 0.0794 - val_dice: 0.0152 - val_iou: 0.0077\n",
      "Epoch 27\n",
      "Epoch 1/1\n",
      "47/47 [==============================] - 1189s 25s/step - loss: 0.0175 - acc: 0.1734 - dice: 6.7692e-04 - iou: 3.3884e-04 - val_loss: 0.1858 - val_acc: 0.0980 - val_dice: 0.0135 - val_iou: 0.0068\n",
      "Epoch 28\n",
      "Epoch 1/1\n",
      "47/47 [==============================] - 847s 18s/step - loss: 0.0134 - acc: 0.1172 - dice: 6.2014e-04 - iou: 3.1037e-04 - val_loss: 0.0305 - val_acc: 0.4022 - val_dice: 0.0012 - val_iou: 5.9750e-04\n",
      "Epoch 29\n",
      "Epoch 1/1\n",
      "47/47 [==============================] - 847s 18s/step - loss: 0.0123 - acc: 0.1142 - dice: 4.3978e-04 - iou: 2.2002e-04 - val_loss: 0.2673 - val_acc: 0.0833 - val_dice: 0.0138 - val_iou: 0.0070\n",
      "Epoch 30\n",
      "Epoch 1/1\n",
      "47/47 [==============================] - 846s 18s/step - loss: 0.0129 - acc: 0.1219 - dice: 4.6258e-04 - iou: 2.3144e-04 - val_loss: 0.2436 - val_acc: 0.0842 - val_dice: 0.0140 - val_iou: 0.0071\n",
      "Epoch 31\n",
      "Epoch 1/1\n",
      "47/47 [==============================] - 846s 18s/step - loss: 0.0130 - acc: 0.1228 - dice: 4.4934e-04 - iou: 2.2485e-04 - val_loss: 0.1913 - val_acc: 0.1054 - val_dice: 0.0134 - val_iou: 0.0068\n",
      "Epoch 32\n",
      "Epoch 1/1\n",
      "47/47 [==============================] - 847s 18s/step - loss: 0.0118 - acc: 0.1023 - dice: 3.6935e-04 - iou: 1.8476e-04 - val_loss: 0.1384 - val_acc: 0.1096 - val_dice: 0.0143 - val_iou: 0.0072\n",
      "Epoch 33\n",
      "Epoch 1/1\n",
      "47/47 [==============================] - 839s 18s/step - loss: 0.0133 - acc: 0.1204 - dice: 4.1299e-04 - iou: 2.0663e-04 - val_loss: 0.1799 - val_acc: 0.1173 - val_dice: 0.0166 - val_iou: 0.0084\n",
      "Epoch 34\n",
      "Epoch 1/1\n",
      "47/47 [==============================] - 841s 18s/step - loss: 0.0117 - acc: 0.1043 - dice: 4.9057e-04 - iou: 2.4545e-04 - val_loss: 0.1771 - val_acc: 0.1192 - val_dice: 0.0123 - val_iou: 0.0062\n",
      "Epoch 35\n",
      "Epoch 1/1\n",
      "47/47 [==============================] - 925s 20s/step - loss: 0.0175 - acc: 0.1663 - dice: 4.1099e-04 - iou: 2.0584e-04 - val_loss: 0.0890 - val_acc: 0.1327 - val_dice: 0.0137 - val_iou: 0.0069\n",
      "Epoch 36\n",
      "Epoch 1/1\n",
      "47/47 [==============================] - 858s 18s/step - loss: 0.0116 - acc: 0.1020 - dice: 4.4087e-04 - iou: 2.2062e-04 - val_loss: 0.0377 - val_acc: 0.1597 - val_dice: 0.0074 - val_iou: 0.0037\n",
      "Epoch 37\n",
      "Epoch 1/1\n",
      "47/47 [==============================] - 840s 18s/step - loss: 0.0086 - acc: 0.0732 - dice: 2.6134e-04 - iou: 1.3071e-04 - val_loss: 0.3683 - val_acc: 0.0577 - val_dice: 0.0172 - val_iou: 0.0087\n",
      "Epoch 38\n",
      "Epoch 1/1\n",
      "47/47 [==============================] - 852s 18s/step - loss: 0.0106 - acc: 0.0908 - dice: 3.7542e-04 - iou: 1.8789e-04 - val_loss: 0.3276 - val_acc: 0.0693 - val_dice: 0.0166 - val_iou: 0.0084\n",
      "Epoch 39\n",
      "Epoch 1/1\n",
      "47/47 [==============================] - 851s 18s/step - loss: 0.0103 - acc: 0.0792 - dice: 2.8533e-04 - iou: 1.4273e-04 - val_loss: 0.3193 - val_acc: 0.0650 - val_dice: 0.0164 - val_iou: 0.0083\n",
      "Epoch 40\n",
      "Epoch 1/1\n",
      "47/47 [==============================] - 848s 18s/step - loss: 0.0092 - acc: 0.0798 - dice: 2.4355e-04 - iou: 1.2182e-04 - val_loss: 0.3142 - val_acc: 0.0567 - val_dice: 0.0181 - val_iou: 0.0091\n",
      "Epoch 41\n",
      "Epoch 1/1\n",
      "47/47 [==============================] - 849s 18s/step - loss: 0.0077 - acc: 0.0631 - dice: 2.2704e-04 - iou: 1.1360e-04 - val_loss: 0.3783 - val_acc: 0.0607 - val_dice: 0.0176 - val_iou: 0.0089\n",
      "Epoch 42\n",
      "Epoch 1/1\n",
      "47/47 [==============================] - 849s 18s/step - loss: 0.0085 - acc: 0.0687 - dice: 2.0424e-04 - iou: 1.0215e-04 - val_loss: 0.3588 - val_acc: 0.0603 - val_dice: 0.0186 - val_iou: 0.0094\n",
      "Epoch 43\n",
      "Epoch 1/1\n",
      "47/47 [==============================] - 848s 18s/step - loss: 0.0078 - acc: 0.0621 - dice: 2.0263e-04 - iou: 1.0136e-04 - val_loss: 0.3418 - val_acc: 0.0700 - val_dice: 0.0165 - val_iou: 0.0083\n",
      "Epoch 44\n",
      "Epoch 1/1\n",
      "47/47 [==============================] - 843s 18s/step - loss: 0.0067 - acc: 0.0511 - dice: 1.5298e-04 - iou: 7.6510e-05 - val_loss: 0.3354 - val_acc: 0.0594 - val_dice: 0.0179 - val_iou: 0.0091\n",
      "Epoch 45\n",
      "Epoch 1/1\n",
      "47/47 [==============================] - 842s 18s/step - loss: 0.0093 - acc: 0.0654 - dice: 2.3352e-04 - iou: 1.1689e-04 - val_loss: 0.1449 - val_acc: 0.0885 - val_dice: 0.0141 - val_iou: 0.0071\n",
      "Epoch 46\n",
      "Epoch 1/1\n",
      "47/47 [==============================] - 841s 18s/step - loss: 0.0103 - acc: 0.0854 - dice: 2.5000e-04 - iou: 1.2516e-04 - val_loss: 0.2582 - val_acc: 0.1151 - val_dice: 0.0192 - val_iou: 0.0097\n",
      "Epoch 47\n",
      "Epoch 1/1\n",
      "47/47 [==============================] - 840s 18s/step - loss: 0.0118 - acc: 0.1145 - dice: 2.9599e-04 - iou: 1.4816e-04 - val_loss: 0.3604 - val_acc: 0.0641 - val_dice: 0.0178 - val_iou: 0.0090\n",
      "Epoch 48\n",
      "Epoch 1/1\n",
      "47/47 [==============================] - 844s 18s/step - loss: 0.0061 - acc: 0.0479 - dice: 1.3357e-04 - iou: 6.6797e-05 - val_loss: 0.3589 - val_acc: 0.0667 - val_dice: 0.0172 - val_iou: 0.0087\n",
      "Epoch 49\n",
      "Epoch 1/1\n",
      "47/47 [==============================] - 844s 18s/step - loss: 0.0056 - acc: 0.0421 - dice: 1.0117e-04 - iou: 5.0591e-05 - val_loss: 0.4923 - val_acc: 0.0437 - val_dice: 0.0210 - val_iou: 0.0106\n"
     ]
    },
    {
     "data": {
      "image/png": "[encoded data removed]",
      "text/plain": [
       "<Figure size 432x288 with 1 Axes>"
      ]
     },
     "metadata": {
      "needs_background": "light"
     },
     "output_type": "display_data"
    },
    {
     "data": {
      "image/png": "[encoded data removed]",
      "text/plain": [
       "<Figure size 432x288 with 1 Axes>"
      ]
     },
     "metadata": {
      "needs_background": "light"
     },
     "output_type": "display_data"
    }
   ],
   "source": [
    "start = timeit.default_timer()\n",
    "train(\n",
    "    path_train_images, path_train_annotations, train_batch_size, \n",
    "    path_val_images, path_val_annotations, val_batch_size,\n",
    "    n_classes, input_width, input_height, \n",
    "    model_name, epochs, loss, optimizer, metrics,\n",
    "    path_save_weights, path_vgg_weights = path_vgg_weights, train_vgg = train_vgg, path_load_weights = None\n",
    ")\n",
    "end = timeit.default_timer()"
   ]
  },
  {
   "cell_type": "code",
   "execution_count": 7,
   "metadata": {},
   "outputs": [
    {
     "name": "stdout",
     "output_type": "stream",
     "text": [
      "Total training time:  61879.118234349\n"
     ]
    }
   ],
   "source": [
    "print('Total training time: ', end - start)"
   ]
  },
  {
   "cell_type": "code",
   "execution_count": 9,
   "metadata": {},
   "outputs": [],
   "source": [
    "epochs = 6"
   ]
  },
  {
   "cell_type": "code",
   "execution_count": 10,
   "metadata": {},
   "outputs": [
    {
     "name": "stdout",
     "output_type": "stream",
     "text": [
      "              precision    recall  f1-score   support\n",
      "\n",
      "           0       0.93      0.30      0.46  18452344\n",
      "           1       0.00      0.03      0.00    413832\n",
      "\n",
      "   micro avg       0.30      0.30      0.30  18866176\n",
      "   macro avg       0.47      0.17      0.23  18866176\n",
      "weighted avg       0.91      0.30      0.45  18866176\n",
      "\n",
      "F1/dice (binary):  0.0016868102876609942\n",
      "Jaccard/IOU:  0.0008441170765148248\n"
     ]
    }
   ],
   "source": [
    "predict(\n",
    "    path_train_images, path_train_annotations, path_train_predictions,\n",
    "    n_classes, input_width, input_height, \n",
    "    model_name, epochs, loss, optimizer, metrics, \n",
    "    path_save_weights\n",
    ")"
   ]
  },
  {
   "cell_type": "code",
   "execution_count": null,
   "metadata": {},
   "outputs": [],
   "source": [
    "visualize_dataset(\n",
    "    path_train_images, path_train_annotations, \n",
    "    n_classes, n_channel_annotations = n_channel_annotations,\n",
    "    dir_predictions = path_train_predictions\n",
    ")"
   ]
  },
  {
   "cell_type": "code",
   "execution_count": 12,
   "metadata": {},
   "outputs": [
    {
     "name": "stdout",
     "output_type": "stream",
     "text": [
      "              precision    recall  f1-score   support\n",
      "\n",
      "           0       0.95      0.28      0.43    740323\n",
      "           1       0.00      0.08      0.00     12317\n",
      "\n",
      "   micro avg       0.27      0.27      0.27    752640\n",
      "   macro avg       0.47      0.18      0.22    752640\n",
      "weighted avg       0.93      0.27      0.42    752640\n",
      "\n",
      "F1/dice (binary):  0.003482171608839695\n",
      "Jaccard/IOU:  0.00174412247129579\n"
     ]
    }
   ],
   "source": [
    "predict(\n",
    "    path_val_images, path_val_annotations, path_val_predictions,\n",
    "    n_classes, input_width, input_height, \n",
    "    model_name, epochs, loss, optimizer, metrics,\n",
    "    path_save_weights\n",
    ")"
   ]
  },
  {
   "cell_type": "code",
   "execution_count": null,
   "metadata": {},
   "outputs": [],
   "source": [
    "visualize_dataset(\n",
    "    path_val_images, path_val_annotations, \n",
    "    n_classes, n_channel_annotations = n_channel_annotations,\n",
    "    dir_predictions = path_val_predictions\n",
    ")"
   ]
  },
  {
   "cell_type": "code",
   "execution_count": 14,
   "metadata": {},
   "outputs": [
    {
     "name": "stdout",
     "output_type": "stream",
     "text": [
      "              precision    recall  f1-score   support\n",
      "\n",
      "           0       0.94      0.37      0.53    686380\n",
      "           1       0.00      0.06      0.00     16084\n",
      "\n",
      "   micro avg       0.36      0.36      0.36    702464\n",
      "   macro avg       0.47      0.22      0.27    702464\n",
      "weighted avg       0.92      0.36      0.52    702464\n",
      "\n",
      "F1/dice (binary):  0.004440552602101595\n",
      "Jaccard/IOU:  0.0022252168973927763\n"
     ]
    }
   ],
   "source": [
    "predict(\n",
    "    path_test_images, path_test_annotations, path_test_predictions,\n",
    "    n_classes, input_width, input_height, \n",
    "    model_name, epochs, loss, optimizer, metrics,\n",
    "    path_save_weights\n",
    ")"
   ]
  },
  {
   "cell_type": "code",
   "execution_count": null,
   "metadata": {},
   "outputs": [],
   "source": [
    "visualize_dataset(\n",
    "    path_test_images, path_test_annotations, \n",
    "    n_classes, n_channel_annotations = n_channel_annotations, \n",
    "    dir_predictions = path_test_predictions\n",
    ")"
   ]
  }
 ],
 "metadata": {
  "kernelspec": {
   "display_name": "Python 3",
   "language": "python",
   "name": "python3"
  },
  "language_info": {
   "codemirror_mode": {
    "name": "ipython",
    "version": 3
   },
   "file_extension": ".py",
   "mimetype": "text/x-python",
   "name": "python",
   "nbconvert_exporter": "python",
   "pygments_lexer": "ipython3",
   "version": "3.6.7"
  }
 },
 "nbformat": 4,
 "nbformat_minor": 2
}
